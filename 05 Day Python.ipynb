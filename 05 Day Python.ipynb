{
 "cells": [
  {
   "cell_type": "code",
   "execution_count": 1,
   "id": "39e37e52-48bc-47ef-befa-6f6e1f431e5a",
   "metadata": {},
   "outputs": [
    {
     "data": {
      "text/plain": [
       "10"
      ]
     },
     "execution_count": 1,
     "metadata": {},
     "output_type": "execute_result"
    }
   ],
   "source": [
    "5+5"
   ]
  },
  {
   "cell_type": "code",
   "execution_count": 2,
   "id": "f13b4175-7e8e-42da-bf61-9d3e262c6b97",
   "metadata": {},
   "outputs": [
    {
     "data": {
      "text/plain": [
       "3"
      ]
     },
     "execution_count": 2,
     "metadata": {},
     "output_type": "execute_result"
    }
   ],
   "source": [
    "1+2"
   ]
  },
  {
   "cell_type": "code",
   "execution_count": 3,
   "id": "a708d8a1-68a0-480c-8b77-2ae9916015d8",
   "metadata": {},
   "outputs": [
    {
     "data": {
      "text/plain": [
       "6"
      ]
     },
     "execution_count": 3,
     "metadata": {},
     "output_type": "execute_result"
    }
   ],
   "source": [
    "3+3"
   ]
  },
  {
   "cell_type": "code",
   "execution_count": 4,
   "id": "b438420d-39d1-4833-99e0-85f3a0474a13",
   "metadata": {},
   "outputs": [
    {
     "data": {
      "text/plain": [
       "2"
      ]
     },
     "execution_count": 4,
     "metadata": {},
     "output_type": "execute_result"
    }
   ],
   "source": [
    "3-1"
   ]
  },
  {
   "cell_type": "code",
   "execution_count": 5,
   "id": "0aa5659b-127f-4c4b-91f5-99e5768e20de",
   "metadata": {},
   "outputs": [],
   "source": [
    "a = 98"
   ]
  },
  {
   "cell_type": "code",
   "execution_count": 6,
   "id": "3ac1f200-9799-43c6-9840-f27056c6beb7",
   "metadata": {},
   "outputs": [
    {
     "data": {
      "text/plain": [
       "98"
      ]
     },
     "execution_count": 6,
     "metadata": {},
     "output_type": "execute_result"
    }
   ],
   "source": [
    "a"
   ]
  },
  {
   "cell_type": "code",
   "execution_count": 7,
   "id": "d8a02070-d0c1-4119-8d63-655aab78cf1c",
   "metadata": {},
   "outputs": [],
   "source": [
    "## Single line comment\n",
    "#comment"
   ]
  },
  {
   "cell_type": "code",
   "execution_count": 8,
   "id": "29176f6f-e508-48f6-b01f-841f617f388a",
   "metadata": {
    "jupyter": {
     "source_hidden": true
    },
    "tags": []
   },
   "outputs": [
    {
     "data": {
      "text/plain": [
       "98"
      ]
     },
     "execution_count": 8,
     "metadata": {},
     "output_type": "execute_result"
    }
   ],
   "source": [
    "\"\"\" \n",
    "Multi\n",
    "line \n",
    "comment\n",
    "\"\"\"\n",
    "a"
   ]
  },
  {
   "cell_type": "code",
   "execution_count": 9,
   "id": "a778f7a0-b2dc-4fdc-afea-7e35ab8db37d",
   "metadata": {},
   "outputs": [],
   "source": [
    "# Numbers "
   ]
  },
  {
   "cell_type": "code",
   "execution_count": 10,
   "id": "e795abee-e8db-4632-8428-fbaa40a883da",
   "metadata": {},
   "outputs": [
    {
     "data": {
      "text/plain": [
       "5645727"
      ]
     },
     "execution_count": 10,
     "metadata": {},
     "output_type": "execute_result"
    }
   ],
   "source": [
    "768755+4876972"
   ]
  },
  {
   "cell_type": "code",
   "execution_count": 11,
   "id": "d684fee7-65a3-4bca-9447-dc9aa0e7f0db",
   "metadata": {},
   "outputs": [
    {
     "data": {
      "text/plain": [
       "int"
      ]
     },
     "execution_count": 11,
     "metadata": {},
     "output_type": "execute_result"
    }
   ],
   "source": [
    "type(4)"
   ]
  },
  {
   "cell_type": "code",
   "execution_count": 12,
   "id": "46e88924-7a8b-49a3-b2a6-49399c9bc46c",
   "metadata": {},
   "outputs": [
    {
     "name": "stdout",
     "output_type": "stream",
     "text": [
      "5\n"
     ]
    }
   ],
   "source": [
    "print(2+3)"
   ]
  },
  {
   "cell_type": "code",
   "execution_count": 13,
   "id": "70a53b67-e490-4321-a80d-0aa78c14936a",
   "metadata": {},
   "outputs": [
    {
     "name": "stdout",
     "output_type": "stream",
     "text": [
      "34\n"
     ]
    }
   ],
   "source": [
    "q = 34\n",
    "print(q)"
   ]
  },
  {
   "cell_type": "code",
   "execution_count": 14,
   "id": "33429c57-6ee4-4272-85ff-d5ef63e08a2a",
   "metadata": {},
   "outputs": [
    {
     "name": "stdout",
     "output_type": "stream",
     "text": [
      "Hello World\n"
     ]
    }
   ],
   "source": [
    "print(\"Hello World\")"
   ]
  },
  {
   "cell_type": "code",
   "execution_count": 15,
   "id": "810ad262-97a9-4f47-a2c6-972edbfa3fab",
   "metadata": {},
   "outputs": [
    {
     "name": "stdout",
     "output_type": "stream",
     "text": [
      "Hello \n",
      " world\n"
     ]
    }
   ],
   "source": [
    "print(\"Hello \\n world\")"
   ]
  },
  {
   "cell_type": "code",
   "execution_count": 16,
   "id": "5b6a83e3-557b-4542-a229-246462320d27",
   "metadata": {},
   "outputs": [
    {
     "name": "stdout",
     "output_type": "stream",
     "text": [
      "Neeraj /n Prajapati\n"
     ]
    }
   ],
   "source": [
    "print(\"Neeraj /n Prajapati\")"
   ]
  },
  {
   "cell_type": "code",
   "execution_count": 17,
   "id": "2f332045-2282-42db-8bc4-87c9fac20070",
   "metadata": {},
   "outputs": [],
   "source": [
    "name = \"Neeaj\"\n",
    "company = \"Quest Alliance\""
   ]
  },
  {
   "cell_type": "code",
   "execution_count": 18,
   "id": "65315356-461e-4822-ad04-fd5d229f23eb",
   "metadata": {},
   "outputs": [
    {
     "data": {
      "text/plain": [
       "'Neeaj'"
      ]
     },
     "execution_count": 18,
     "metadata": {},
     "output_type": "execute_result"
    }
   ],
   "source": [
    "name"
   ]
  },
  {
   "cell_type": "code",
   "execution_count": 19,
   "id": "413f6344-e41c-4caf-87b5-0cb3d2ca4f66",
   "metadata": {},
   "outputs": [
    {
     "data": {
      "text/plain": [
       "'Quest Alliance'"
      ]
     },
     "execution_count": 19,
     "metadata": {},
     "output_type": "execute_result"
    }
   ],
   "source": [
    "company"
   ]
  },
  {
   "cell_type": "code",
   "execution_count": 20,
   "id": "b359af9e-4134-4b77-ad03-f4355b92b8f7",
   "metadata": {},
   "outputs": [
    {
     "data": {
      "text/plain": [
       "str"
      ]
     },
     "execution_count": 20,
     "metadata": {},
     "output_type": "execute_result"
    }
   ],
   "source": [
    "type(name)"
   ]
  },
  {
   "cell_type": "code",
   "execution_count": 21,
   "id": "60f128f8-9b8d-47a4-bc88-313305b1c31c",
   "metadata": {},
   "outputs": [
    {
     "data": {
      "text/plain": [
       "str"
      ]
     },
     "execution_count": 21,
     "metadata": {},
     "output_type": "execute_result"
    }
   ],
   "source": [
    "type(company)"
   ]
  },
  {
   "cell_type": "code",
   "execution_count": 22,
   "id": "59eaf500-6c7b-4f42-aabf-3397fd023212",
   "metadata": {},
   "outputs": [],
   "source": [
    "s = 4.5"
   ]
  },
  {
   "cell_type": "code",
   "execution_count": 23,
   "id": "731580aa-3dfc-4f68-ac58-6f804529966c",
   "metadata": {},
   "outputs": [
    {
     "data": {
      "text/plain": [
       "float"
      ]
     },
     "execution_count": 23,
     "metadata": {},
     "output_type": "execute_result"
    }
   ],
   "source": [
    "type(s)"
   ]
  },
  {
   "cell_type": "code",
   "execution_count": 24,
   "id": "86d52a16-94d5-4630-82ec-efb9ee9f465f",
   "metadata": {},
   "outputs": [
    {
     "data": {
      "text/plain": [
       "int"
      ]
     },
     "execution_count": 24,
     "metadata": {},
     "output_type": "execute_result"
    }
   ],
   "source": [
    "type(0)"
   ]
  },
  {
   "cell_type": "code",
   "execution_count": 25,
   "id": "3e3a5003-9536-429c-bd0f-e5f515031c68",
   "metadata": {},
   "outputs": [
    {
     "data": {
      "text/plain": [
       "bool"
      ]
     },
     "execution_count": 25,
     "metadata": {},
     "output_type": "execute_result"
    }
   ],
   "source": [
    "type(False)"
   ]
  },
  {
   "cell_type": "code",
   "execution_count": 26,
   "id": "212929bd-53cb-46f3-a3c2-df17357841c1",
   "metadata": {},
   "outputs": [
    {
     "data": {
      "text/plain": [
       "tuple"
      ]
     },
     "execution_count": 26,
     "metadata": {},
     "output_type": "execute_result"
    }
   ],
   "source": [
    "type((2,3,\"n\"))"
   ]
  },
  {
   "cell_type": "code",
   "execution_count": 27,
   "id": "f7aa552f-59c5-4c55-90b1-cd637e2fd65e",
   "metadata": {},
   "outputs": [
    {
     "data": {
      "text/plain": [
       "list"
      ]
     },
     "execution_count": 27,
     "metadata": {},
     "output_type": "execute_result"
    }
   ],
   "source": [
    "type([2,3,9])"
   ]
  },
  {
   "cell_type": "code",
   "execution_count": 29,
   "id": "b9540218-06ee-4afc-b18d-72deb01add13",
   "metadata": {},
   "outputs": [
    {
     "data": {
      "text/plain": [
       "(98+3j)"
      ]
     },
     "execution_count": 29,
     "metadata": {},
     "output_type": "execute_result"
    }
   ],
   "source": [
    "a+3j"
   ]
  },
  {
   "cell_type": "code",
   "execution_count": 31,
   "id": "bbb01448-bcdd-4554-b1a0-141f73f373ae",
   "metadata": {},
   "outputs": [
    {
     "data": {
      "text/plain": [
       "(98+3j)"
      ]
     },
     "execution_count": 31,
     "metadata": {},
     "output_type": "execute_result"
    }
   ],
   "source": [
    "a+3j"
   ]
  },
  {
   "cell_type": "code",
   "execution_count": 32,
   "id": "16c3b84b-8380-4cef-886b-d8b7a3c45dce",
   "metadata": {},
   "outputs": [
    {
     "data": {
      "text/plain": [
       "complex"
      ]
     },
     "execution_count": 32,
     "metadata": {},
     "output_type": "execute_result"
    }
   ],
   "source": [
    "type(a+3j)"
   ]
  },
  {
   "cell_type": "code",
   "execution_count": 33,
   "id": "64a8e969-34fd-406f-8f90-ec69c86bcbea",
   "metadata": {},
   "outputs": [
    {
     "name": "stdout",
     "output_type": "stream",
     "text": [
      "Hello\n",
      "Hello\n"
     ]
    }
   ],
   "source": [
    "print('Hello')\n",
    "print(\"Hello\")"
   ]
  },
  {
   "cell_type": "code",
   "execution_count": 34,
   "id": "5f05d06e-535e-4f1b-bd89-02c6abece406",
   "metadata": {},
   "outputs": [
    {
     "ename": "SyntaxError",
     "evalue": "invalid decimal literal (1239446660.py, line 3)",
     "output_type": "error",
     "traceback": [
      "\u001b[0;36m  Cell \u001b[0;32mIn[34], line 3\u001b[0;36m\u001b[0m\n\u001b[0;31m    1a\u001b[0m\n\u001b[0m    ^\u001b[0m\n\u001b[0;31mSyntaxError\u001b[0m\u001b[0;31m:\u001b[0m invalid decimal literal\n"
     ]
    }
   ],
   "source": [
    "#bad way\n",
    "# do not strat the variable name with numbers\n",
    "1a\n",
    "3answe\n"
   ]
  },
  {
   "cell_type": "code",
   "execution_count": 35,
   "id": "bf7bced4-09d0-40f6-bb20-e96daab5a4b2",
   "metadata": {},
   "outputs": [
    {
     "name": "stdout",
     "output_type": "stream",
     "text": [
      "QA\n",
      "qa\n"
     ]
    }
   ],
   "source": [
    "##variable name are case sensitive\n",
    "c = \"QA\"\n",
    "C = \"qa\"\n",
    "print(c)\n",
    "print(C)"
   ]
  },
  {
   "cell_type": "code",
   "execution_count": 37,
   "id": "ffdb6736-80d1-45bf-b10a-c8b0cdfca401",
   "metadata": {},
   "outputs": [
    {
     "data": {
      "text/plain": [
       "'\\nint, float, len, complex, str, bool. return, continue\\n'"
      ]
     },
     "execution_count": 37,
     "metadata": {},
     "output_type": "execute_result"
    }
   ],
   "source": [
    "## reserved keywords\n",
    "\"\"\"\n",
    "int, float, len, complex, str, bool. return, continue\n",
    "\"\"\""
   ]
  },
  {
   "cell_type": "code",
   "execution_count": 39,
   "id": "a0aa6295-db0c-4806-a7f3-3b75dc52ac33",
   "metadata": {},
   "outputs": [
    {
     "data": {
      "text/plain": [
       "False"
      ]
     },
     "execution_count": 39,
     "metadata": {},
     "output_type": "execute_result"
    }
   ],
   "source": [
    "#Boolean\n",
    "True\n",
    "False"
   ]
  },
  {
   "cell_type": "code",
   "execution_count": 40,
   "id": "cdb6415a-d5cf-4383-8dc7-0ab95e3f84ea",
   "metadata": {},
   "outputs": [
    {
     "data": {
      "text/plain": [
       "True"
      ]
     },
     "execution_count": 40,
     "metadata": {},
     "output_type": "execute_result"
    }
   ],
   "source": [
    "True and True"
   ]
  },
  {
   "cell_type": "code",
   "execution_count": 41,
   "id": "bdeeed03-da79-4e4d-a995-80b0e5354136",
   "metadata": {},
   "outputs": [
    {
     "data": {
      "text/plain": [
       "False"
      ]
     },
     "execution_count": 41,
     "metadata": {},
     "output_type": "execute_result"
    }
   ],
   "source": [
    "True and False"
   ]
  },
  {
   "cell_type": "code",
   "execution_count": 42,
   "id": "8b9c1bef-a25f-4d8e-97f4-b6a09fec81f7",
   "metadata": {},
   "outputs": [
    {
     "data": {
      "text/plain": [
       "False"
      ]
     },
     "execution_count": 42,
     "metadata": {},
     "output_type": "execute_result"
    }
   ],
   "source": [
    "False and True"
   ]
  },
  {
   "cell_type": "code",
   "execution_count": 43,
   "id": "9bd29936-f150-45b7-b50d-bf6b90731207",
   "metadata": {},
   "outputs": [
    {
     "data": {
      "text/plain": [
       "False"
      ]
     },
     "execution_count": 43,
     "metadata": {},
     "output_type": "execute_result"
    }
   ],
   "source": [
    "False and False"
   ]
  },
  {
   "cell_type": "code",
   "execution_count": 44,
   "id": "e647fc6d-700f-49bb-9707-94a73ac13f41",
   "metadata": {},
   "outputs": [
    {
     "data": {
      "text/plain": [
       "True"
      ]
     },
     "execution_count": 44,
     "metadata": {},
     "output_type": "execute_result"
    }
   ],
   "source": [
    "not False and True"
   ]
  },
  {
   "cell_type": "code",
   "execution_count": 52,
   "id": "0074ba87-82b1-4742-a2ea-507c3dce976c",
   "metadata": {},
   "outputs": [
    {
     "data": {
      "text/plain": [
       "True"
      ]
     },
     "execution_count": 52,
     "metadata": {},
     "output_type": "execute_result"
    }
   ],
   "source": [
    "not False and not False"
   ]
  },
  {
   "cell_type": "code",
   "execution_count": 46,
   "id": "e7c10ba5-d781-4681-a1b1-247c9f398e5f",
   "metadata": {},
   "outputs": [
    {
     "data": {
      "text/plain": [
       "True"
      ]
     },
     "execution_count": 46,
     "metadata": {},
     "output_type": "execute_result"
    }
   ],
   "source": [
    "True or True"
   ]
  },
  {
   "cell_type": "code",
   "execution_count": 47,
   "id": "4d595159-7ad1-4b7f-bc43-fe20efe1c860",
   "metadata": {},
   "outputs": [
    {
     "data": {
      "text/plain": [
       "True"
      ]
     },
     "execution_count": 47,
     "metadata": {},
     "output_type": "execute_result"
    }
   ],
   "source": [
    "True or False"
   ]
  },
  {
   "cell_type": "code",
   "execution_count": 49,
   "id": "063e5c05-d2db-4e1b-93e1-33d4dc702ad2",
   "metadata": {},
   "outputs": [
    {
     "data": {
      "text/plain": [
       "True"
      ]
     },
     "execution_count": 49,
     "metadata": {},
     "output_type": "execute_result"
    }
   ],
   "source": [
    "False | True"
   ]
  },
  {
   "cell_type": "code",
   "execution_count": 53,
   "id": "98b9ef35-c2ae-42f9-a8ad-f45ed4d0466e",
   "metadata": {},
   "outputs": [
    {
     "data": {
      "text/plain": [
       "True"
      ]
     },
     "execution_count": 53,
     "metadata": {},
     "output_type": "execute_result"
    }
   ],
   "source": [
    "not False and True"
   ]
  },
  {
   "cell_type": "code",
   "execution_count": 54,
   "id": "ebbad124-6967-4894-809f-46fe37e2e285",
   "metadata": {},
   "outputs": [
    {
     "data": {
      "text/plain": [
       "int"
      ]
     },
     "execution_count": 54,
     "metadata": {},
     "output_type": "execute_result"
    }
   ],
   "source": [
    "type(0)"
   ]
  },
  {
   "cell_type": "code",
   "execution_count": 55,
   "id": "1e3c8736-dff2-4072-91b4-62f43ce8c6eb",
   "metadata": {},
   "outputs": [
    {
     "data": {
      "text/plain": [
       "False"
      ]
     },
     "execution_count": 55,
     "metadata": {},
     "output_type": "execute_result"
    }
   ],
   "source": [
    "bool(0)"
   ]
  },
  {
   "cell_type": "code",
   "execution_count": 56,
   "id": "6e146463-b62c-48b2-93a9-58640e61410d",
   "metadata": {},
   "outputs": [
    {
     "data": {
      "text/plain": [
       "True"
      ]
     },
     "execution_count": 56,
     "metadata": {},
     "output_type": "execute_result"
    }
   ],
   "source": [
    "bool(1)"
   ]
  },
  {
   "cell_type": "code",
   "execution_count": 61,
   "id": "fb311085-4f59-494d-91c7-dbdd81f2f857",
   "metadata": {},
   "outputs": [
    {
     "name": "stdout",
     "output_type": "stream",
     "text": [
      "False\n"
     ]
    }
   ],
   "source": [
    "a = 0\n",
    "if bool(a)==False :\n",
    "    print(\"False\")"
   ]
  },
  {
   "cell_type": "code",
   "execution_count": 62,
   "id": "b1c41fd5-4d91-42ce-8349-bcd783baa436",
   "metadata": {},
   "outputs": [
    {
     "data": {
      "text/plain": [
       "False"
      ]
     },
     "execution_count": 62,
     "metadata": {},
     "output_type": "execute_result"
    }
   ],
   "source": [
    "## typecasting\n",
    "type(bool(a))==False"
   ]
  },
  {
   "cell_type": "code",
   "execution_count": 63,
   "id": "7b00f3a8-3229-4c17-8f96-c13a06fb76fe",
   "metadata": {},
   "outputs": [
    {
     "data": {
      "text/plain": [
       "str"
      ]
     },
     "execution_count": 63,
     "metadata": {},
     "output_type": "execute_result"
    }
   ],
   "source": [
    "type(str(8))"
   ]
  },
  {
   "cell_type": "code",
   "execution_count": 64,
   "id": "52c14f69-8d91-4e80-93a4-4d805e2b74c6",
   "metadata": {},
   "outputs": [],
   "source": [
    "## to get defination \n",
    "## Shift + F"
   ]
  },
  {
   "cell_type": "code",
   "execution_count": null,
   "id": "0fe04b8d-edb1-45ed-b1d0-07e3cf11a54e",
   "metadata": {},
   "outputs": [],
   "source": [
    "##Dynamic Typing"
   ]
  },
  {
   "cell_type": "code",
   "execution_count": 68,
   "id": "a37717dd-b232-491b-844f-a84f3f2e49c0",
   "metadata": {},
   "outputs": [
    {
     "name": "stdout",
     "output_type": "stream",
     "text": [
      "<class 'str'>\n"
     ]
    }
   ],
   "source": [
    "a = 2\n",
    "str_1 = \"neeraj\"\n",
    "a = \"var\"\n",
    "print(type(a))\n"
   ]
  },
  {
   "cell_type": "code",
   "execution_count": 69,
   "id": "38babb8f-fa0f-43d4-ad24-26fd441f35f8",
   "metadata": {},
   "outputs": [
    {
     "data": {
      "text/plain": [
       "11"
      ]
     },
     "execution_count": 69,
     "metadata": {},
     "output_type": "execute_result"
    }
   ],
   "source": [
    "## Concatenation between diffrent types\n",
    "int(\"1\"+\"1\")"
   ]
  },
  {
   "cell_type": "code",
   "execution_count": 70,
   "id": "4eec30c6-b991-4fe8-b6e4-8d78ef5e520e",
   "metadata": {},
   "outputs": [
    {
     "ename": "TypeError",
     "evalue": "unsupported operand type(s) for +: 'int' and 'str'",
     "output_type": "error",
     "traceback": [
      "\u001b[0;31m---------------------------------------------------------------------------\u001b[0m",
      "\u001b[0;31mTypeError\u001b[0m                                 Traceback (most recent call last)",
      "Cell \u001b[0;32mIn[70], line 1\u001b[0m\n\u001b[0;32m----> 1\u001b[0m \u001b[38;5;28;43mint\u001b[39;49m\u001b[43m(\u001b[49m\u001b[38;5;124;43m\"\u001b[39;49m\u001b[38;5;124;43m1\u001b[39;49m\u001b[38;5;124;43m\"\u001b[39;49m\u001b[43m)\u001b[49m\u001b[43m \u001b[49m\u001b[38;5;241;43m+\u001b[39;49m\u001b[43m \u001b[49m\u001b[38;5;124;43m\"\u001b[39;49m\u001b[38;5;124;43m1\u001b[39;49m\u001b[38;5;124;43m\"\u001b[39;49m\n",
      "\u001b[0;31mTypeError\u001b[0m: unsupported operand type(s) for +: 'int' and 'str'"
     ]
    }
   ],
   "source": [
    "int(\"1\") + \"1\""
   ]
  },
  {
   "cell_type": "code",
   "execution_count": 71,
   "id": "57526ea6-c6bc-4fda-aaba-7c2a216afe12",
   "metadata": {},
   "outputs": [
    {
     "data": {
      "text/plain": [
       "'aaaaaaaaaa'"
      ]
     },
     "execution_count": 71,
     "metadata": {},
     "output_type": "execute_result"
    }
   ],
   "source": [
    "\"a\" * 10"
   ]
  },
  {
   "cell_type": "code",
   "execution_count": null,
   "id": "6e177b53-2a70-4f3a-b8ba-ef702d883592",
   "metadata": {},
   "outputs": [],
   "source": []
  }
 ],
 "metadata": {
  "kernelspec": {
   "display_name": "Python 3 (ipykernel)",
   "language": "python",
   "name": "python3"
  },
  "language_info": {
   "codemirror_mode": {
    "name": "ipython",
    "version": 3
   },
   "file_extension": ".py",
   "mimetype": "text/x-python",
   "name": "python",
   "nbconvert_exporter": "python",
   "pygments_lexer": "ipython3",
   "version": "3.10.8"
  }
 },
 "nbformat": 4,
 "nbformat_minor": 5
}
