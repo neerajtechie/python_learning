{
  "nbformat": 4,
  "nbformat_minor": 0,
  "metadata": {
    "colab": {
      "provenance": []
    },
    "kernelspec": {
      "name": "python3",
      "display_name": "Python 3"
    },
    "language_info": {
      "name": "python"
    }
  },
  "cells": [
    {
      "cell_type": "markdown",
      "source": [
        "Q1 : How do you comment code in Python? What are the different types of comments?"
      ],
      "metadata": {
        "id": "GZ5Z8fplNiBl"
      }
    },
    {
      "cell_type": "markdown",
      "source": [
        "There are two type of comment in python.\n",
        "1) Singleline Comment (#)\n",
        "\n",
        "2) Multiline Comment example are given below ('''......''')"
      ],
      "metadata": {
        "id": "8ozUwyXPaL8m"
      }
    },
    {
      "cell_type": "code",
      "source": [
        "# This is a single-line comment\n",
        "print(\"Hello, World!\") # This is an inline comment"
      ],
      "metadata": {
        "id": "0PVB5Ah6Z-k5"
      },
      "execution_count": null,
      "outputs": []
    },
    {
      "cell_type": "code",
      "source": [
        "\"\"\"\n",
        "This is a multi-line \"comment\"\n",
        "It can span multiple lines.\n",
        "It is also a docstring.\n",
        "\"\"\"\n",
        "def my_function():\n",
        "    \"\"\"\n",
        "    This is a docstring for my_function.\n",
        "    It explains what the function does.\n",
        "    \"\"\"\n",
        "    print(\"Function called\")"
      ],
      "metadata": {
        "id": "D1v8L04FZ-Dv"
      },
      "execution_count": null,
      "outputs": []
    },
    {
      "cell_type": "markdown",
      "source": [
        "Q2. What are variables in Python? How do you declare and assign values to variables?"
      ],
      "metadata": {
        "id": "IZGw_c6PWGJL"
      }
    },
    {
      "cell_type": "markdown",
      "source": [
        "Storage: Variables store data in the computer's memory.\n",
        "\n",
        "Names: They are given names (identifiers) so you can refer to the stored data.\n",
        "\n",
        "Dynamic Typing: Python is dynamically typed, meaning you don't need to declare the data type of a variable explicitly. The interpreter1 infers the type based on the assigned value."
      ],
      "metadata": {
        "id": "2vhVkVuLa7OA"
      }
    },
    {
      "cell_type": "code",
      "source": [
        "age = 30  # Assigning an integer value\n",
        "name = \"Alice\"  # Assigning a string value\n",
        "pi = 3.14159  # Assigning a floating-point value\n",
        "is_student = True # Assigning a boolean value."
      ],
      "metadata": {
        "id": "uoM0pKMobKZa"
      },
      "execution_count": null,
      "outputs": []
    },
    {
      "cell_type": "markdown",
      "source": [
        "Q3. How do you convert one data type to another in Python?\n"
      ],
      "metadata": {
        "id": "H18m1WCqWGBc"
      }
    },
    {
      "cell_type": "code",
      "source": [
        "x = \"123\"\n",
        "y = int(x)\n",
        "print(y)  # Output: 123"
      ],
      "metadata": {
        "colab": {
          "base_uri": "https://localhost:8080/"
        },
        "id": "-0BHYnUObiAw",
        "outputId": "bc7b8195-856d-47b8-99f3-7f804a94336c"
      },
      "execution_count": null,
      "outputs": [
        {
          "output_type": "stream",
          "name": "stdout",
          "text": [
            "123\n"
          ]
        }
      ]
    },
    {
      "cell_type": "code",
      "source": [
        "x = \"3.14\"\n",
        "y = float(x)\n",
        "print(y)  # Output: 3.14"
      ],
      "metadata": {
        "colab": {
          "base_uri": "https://localhost:8080/"
        },
        "id": "A3bj9AeJbnqW",
        "outputId": "e6382d99-c0bd-4d50-e9b3-5eccb55ca2cf"
      },
      "execution_count": null,
      "outputs": [
        {
          "output_type": "stream",
          "name": "stdout",
          "text": [
            "3.14\n"
          ]
        }
      ]
    },
    {
      "cell_type": "code",
      "source": [
        "x = 123\n",
        "y = str(x)\n",
        "print(y)  # Output: \"123\""
      ],
      "metadata": {
        "colab": {
          "base_uri": "https://localhost:8080/"
        },
        "id": "skexW5cfbubX",
        "outputId": "c82def0e-d26f-478d-bdf8-ef4716d64de0"
      },
      "execution_count": null,
      "outputs": [
        {
          "output_type": "stream",
          "name": "stdout",
          "text": [
            "123\n"
          ]
        }
      ]
    },
    {
      "cell_type": "code",
      "source": [
        "x = \"hello\"\n",
        "y = list(x)\n",
        "print(y)  # Output: ['h', 'e', 'l', 'l', 'o']"
      ],
      "metadata": {
        "colab": {
          "base_uri": "https://localhost:8080/"
        },
        "id": "UMtwiaGHb1T0",
        "outputId": "61d74444-d280-444d-c599-937a28b32484"
      },
      "execution_count": null,
      "outputs": [
        {
          "output_type": "stream",
          "name": "stdout",
          "text": [
            "['h', 'e', 'l', 'l', 'o']\n"
          ]
        }
      ]
    },
    {
      "cell_type": "code",
      "source": [
        "x = [1,2,3]\n",
        "y = tuple(x)\n",
        "print(y) #output: (1, 2, 3)"
      ],
      "metadata": {
        "colab": {
          "base_uri": "https://localhost:8080/"
        },
        "id": "FyPffMjob5T3",
        "outputId": "6948f717-adcf-4a7b-e0b7-23e96aa4137b"
      },
      "execution_count": null,
      "outputs": [
        {
          "output_type": "stream",
          "name": "stdout",
          "text": [
            "(1, 2, 3)\n"
          ]
        }
      ]
    },
    {
      "cell_type": "code",
      "source": [
        "  x = 10\n",
        "  y = 3.14\n",
        "  z = x + y\n",
        "  print(z)  # Output: 13.14\n",
        "  print(type(z)) #output: <class 'float'>"
      ],
      "metadata": {
        "colab": {
          "base_uri": "https://localhost:8080/"
        },
        "id": "rAC01i01b5JX",
        "outputId": "b1aa065f-0223-4cad-f8bf-309da7e31ea3"
      },
      "execution_count": null,
      "outputs": [
        {
          "output_type": "stream",
          "name": "stdout",
          "text": [
            "13.14\n",
            "<class 'float'>\n"
          ]
        }
      ]
    },
    {
      "cell_type": "markdown",
      "source": [
        "Q4. How do you write and execute a Python script from the command line?"
      ],
      "metadata": {
        "id": "Jm8b5GrDWF5c"
      }
    },
    {
      "cell_type": "markdown",
      "source": [
        "Executing the Script from the Command Line:\n",
        "\n",
        "Open the Command Line/Terminal:\n",
        "\n",
        "Windows: Search for \"cmd\" or \"Command Prompt\" in the Start menu.\n",
        "\n",
        "\n",
        "Navigate to the Script's Directory:\n",
        "\n",
        "Use the cd (change directory) command to navigate to the folder where you saved your Python script.\n",
        "\n",
        "For example, if your script is in a folder named \"my_python_scripts\" on your desktop:\n",
        "\n",
        "Windows: cd Desktop\\my_python_scripts\n",
        "\n",
        "\n",
        "Run the Script:\n",
        "\n",
        "Type python (or python3 on some systems) followed by the name of your script file, and press Enter.\n",
        "\n",
        "Example: python my_script.py"
      ],
      "metadata": {
        "id": "DozJIwk1_lnf"
      }
    },
    {
      "cell_type": "markdown",
      "source": [
        "Q5. Given a list my_list = [1, 2, 3, 4, 5], write the code to slice the list and obtain the sub-list [2, 3]."
      ],
      "metadata": {
        "id": "ELabgxQ_WFvK"
      }
    },
    {
      "cell_type": "code",
      "source": [
        "my_list = [1, 2, 3, 4, 5]\n",
        "sub_list = my_list[1:3]\n",
        "print(sub_list)"
      ],
      "metadata": {
        "colab": {
          "base_uri": "https://localhost:8080/"
        },
        "id": "iPploPwc_9Xb",
        "outputId": "25e36efe-1d00-42f9-e36c-b7968fa48db9"
      },
      "execution_count": 1,
      "outputs": [
        {
          "output_type": "stream",
          "name": "stdout",
          "text": [
            "[2, 3]\n"
          ]
        }
      ]
    },
    {
      "cell_type": "markdown",
      "source": [
        "Q6. What is a complex number in mathematics, and how is it represented in Python?"
      ],
      "metadata": {
        "id": "KxHC1EkuWSb9"
      }
    },
    {
      "cell_type": "markdown",
      "source": [
        "omplex numbers! They're a fascinating extension of the real number system.\n",
        "\n",
        "In mathematics, a complex number is a number that can be expressed in the form:\n",
        "\n",
        "\n",
        "a+bi\n",
        "\n",
        "\n",
        "where:\n",
        "\n",
        "\n",
        "'a' is the real part of the complex number.\n",
        "\n",
        "'b' is the imaginary part of the complex number.\n",
        "\n",
        "'i' is the imaginary unit, defined as the square root of -1.\n",
        "\n",
        "Think of it as adding a new dimension to numbers. Real numbers exist on a number line. Complex numbers exist on a 2D plane called the complex plane, where the horizontal axis represents the real part and the vertical axis represents the imaginary part.\n"
      ],
      "metadata": {
        "id": "91XNzLTsAOO8"
      }
    },
    {
      "cell_type": "code",
      "source": [
        "a = 4+4j\n",
        "print(type(a))"
      ],
      "metadata": {
        "colab": {
          "base_uri": "https://localhost:8080/"
        },
        "id": "fulyFbkGAZT-",
        "outputId": "ee1a51f1-951d-4608-c951-a8f8d9000875"
      },
      "execution_count": 2,
      "outputs": [
        {
          "output_type": "stream",
          "name": "stdout",
          "text": [
            "<class 'complex'>\n"
          ]
        }
      ]
    },
    {
      "cell_type": "markdown",
      "source": [
        "Q7. What is the correct way to declare a variable named age and assign the value 25 to it?"
      ],
      "metadata": {
        "id": "JpkGl7B9WXRH"
      }
    },
    {
      "cell_type": "code",
      "source": [
        "age = 25"
      ],
      "metadata": {
        "id": "P79fsuy7AlYu"
      },
      "execution_count": null,
      "outputs": []
    },
    {
      "cell_type": "markdown",
      "source": [
        "Q8. Declare a variable named price and assign the value 9.99 to it. What data type does this variable\n",
        "belong to?"
      ],
      "metadata": {
        "id": "LfvgqwDWWXDV"
      }
    },
    {
      "cell_type": "code",
      "source": [
        "price = 9.99\n",
        "print(type(price))"
      ],
      "metadata": {
        "colab": {
          "base_uri": "https://localhost:8080/"
        },
        "id": "otuA7MQeAmxl",
        "outputId": "49ba6030-0c59-4dc0-968e-5322690a9b1e"
      },
      "execution_count": 3,
      "outputs": [
        {
          "output_type": "stream",
          "name": "stdout",
          "text": [
            "<class 'float'>\n"
          ]
        }
      ]
    },
    {
      "cell_type": "markdown",
      "source": [
        "Q9. Create a variable named name and assign your full name to it as a string. How would you print the\n",
        "value of this variable?"
      ],
      "metadata": {
        "id": "Fc8cRyGSWdp_"
      }
    },
    {
      "cell_type": "code",
      "source": [
        "name = 'Neeraj'\n",
        "print(name)"
      ],
      "metadata": {
        "colab": {
          "base_uri": "https://localhost:8080/"
        },
        "id": "VeZXtfdKAxsV",
        "outputId": "98eed178-4f7b-42dc-df72-de1b6312cdd5"
      },
      "execution_count": 4,
      "outputs": [
        {
          "output_type": "stream",
          "name": "stdout",
          "text": [
            "Neeraj\n"
          ]
        }
      ]
    },
    {
      "cell_type": "markdown",
      "source": [
        "Q10. Given the string \"Hello, World!\", extract the substring \"World\"."
      ],
      "metadata": {
        "id": "tGxNTSHqWgD0"
      }
    },
    {
      "cell_type": "code",
      "source": [
        "\n",
        "my_string = \"Hello, World!\"\n",
        "substring = my_string[7:12]\n",
        "print(substring)"
      ],
      "metadata": {
        "colab": {
          "base_uri": "https://localhost:8080/"
        },
        "id": "-6yuybl4BTUO",
        "outputId": "2650454c-f4e6-429c-abde-39e6f2efd276"
      },
      "execution_count": 7,
      "outputs": [
        {
          "output_type": "stream",
          "name": "stdout",
          "text": [
            "World\n"
          ]
        }
      ]
    },
    {
      "cell_type": "code",
      "source": [
        "a = \"Hello World\"\n",
        "print(a[6:])"
      ],
      "metadata": {
        "colab": {
          "base_uri": "https://localhost:8080/"
        },
        "id": "0Q7hRMwLA33H",
        "outputId": "e5458ff4-32c1-49ef-9373-2375fe20d818"
      },
      "execution_count": 5,
      "outputs": [
        {
          "output_type": "stream",
          "name": "stdout",
          "text": [
            "World\n"
          ]
        }
      ]
    },
    {
      "cell_type": "markdown",
      "source": [
        "Q11. Create a variable named \"is_student\" and assign it a boolean value indicating whether you are\n",
        "currently a student or not."
      ],
      "metadata": {
        "id": "laAihaPcWjdT"
      }
    },
    {
      "cell_type": "code",
      "source": [
        "is_student=False"
      ],
      "metadata": {
        "id": "zglgRfpMWWaJ"
      },
      "execution_count": 8,
      "outputs": []
    },
    {
      "cell_type": "markdown",
      "source": [],
      "metadata": {
        "id": "HzsKcNqSWSRN"
      }
    }
  ]
}