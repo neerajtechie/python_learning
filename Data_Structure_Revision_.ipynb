{
  "nbformat": 4,
  "nbformat_minor": 0,
  "metadata": {
    "colab": {
      "provenance": []
    },
    "kernelspec": {
      "name": "python3",
      "display_name": "Python 3"
    },
    "language_info": {
      "name": "python"
    }
  },
  "cells": [
    {
      "cell_type": "markdown",
      "source": [
        "### Data structures\n",
        "data structures are essential tools for organizing and managing data. They allow you to store and manipulate collections of data efficiently. Python provides several built-in data structures, and you can also implement more complex ones. Here's a breakdown:\n",
        "\n",
        "Built-in Data Structures:\n",
        "\n",
        "These are fundamental data structures that Python provides:\n",
        "\n",
        "#Lists:\n",
        "\n",
        "Ordered, mutable sequences of items.\n",
        "\n",
        "Can contain elements of different data types.\n",
        "\n",
        "Created using square brackets [].\n",
        "\n",
        "Example: [1, \"apple\", 3.14]\n",
        "\n",
        "\n",
        "#Tuples:\n",
        "Ordered, immutable sequences of items.\n",
        "\n",
        "Similar to lists, but cannot be modified after creation.\n",
        "\n",
        "Created using parentheses ().\n",
        "\n",
        "Example: (1, \"apple\", 3.14)'\n",
        "\n",
        "# Dictionaries:\n",
        "Unordered collections of key-value pairs.\n",
        "\n",
        "Keys must be unique and immutable.\n",
        "\n",
        "Values can be of any data type.\n",
        "\n",
        "Created using curly braces {}.\n",
        "\n",
        "Example: {\"name\": \"Alice\", \"age\": 30}\n",
        "\n",
        "# Sets:\n",
        "Unordered collections of unique items.\n",
        "\n",
        "Useful for operations like membership testing and removing duplicates.\n",
        "\n",
        "Created using curly braces {} or the set() function.\n",
        "\n",
        "Example: {1, 2, 3}\n",
        "\n",
        "#  Other Important Data Structures (Often from Libraries):\n",
        "\n",
        "While the above are built in, these are very common, and important to know.\n",
        "\n",
        "## Arrays:\n",
        "\n",
        "Provided by the array module or, more commonly, the NumPy library.\n",
        "\n",
        "Store collections of items of the same data type.\n",
        "\n",
        "Efficient for numerical operations.\n",
        "\n",
        "## Stacks:\n",
        "\n",
        "Follow the Last-In-First-Out (LIFO) principle.\n",
        "\n",
        "Can be implemented using lists.\n",
        "\n",
        "## Queues:\n",
        "Follow the First-In-First-Out (FIFO) principle.\n",
        "\n",
        "Can be implemented using lists or the collections.deque class.\n",
        "\n",
        "## Linked Lists:\n",
        "Sequences of nodes, where each node points to the next.\n",
        "\n",
        "Useful for dynamic data storage.\n",
        "\n",
        "## Trees:\n",
        "Hierarchical data structures with a root node and child nodes.\n",
        "\n",
        "Used for representing relationships between data.\n",
        "\n",
        "## Graphs:\n",
        "Collections of nodes (vertices) and edges that connect them.\n",
        "\n",
        "Used for representing networks and relationships.\n",
        "\n",
        "## Key Considerations:\n",
        "\n",
        "Mutability:\n",
        "Understanding whether a data structure is mutable (changeable) or immutable is crucial.\n",
        "\n",
        "Ordering:\n",
        "Some data structures maintain the order of elements, while others do not.\n",
        "\n",
        "Efficiency: Different data structures have different strengths and weaknesses in terms of performance.\n",
        "\n",
        "Understanding data structures is fundamental to writing efficient and effective Python code."
      ],
      "metadata": {
        "id": "XmNXX6C7jkK4"
      }
    },
    {
      "cell_type": "code",
      "execution_count": 2,
      "metadata": {
        "colab": {
          "base_uri": "https://localhost:8080/"
        },
        "id": "s6Rf6iLAhbZu",
        "outputId": "e2abcbb0-f785-495c-bc2a-4457eee08ea2"
      },
      "outputs": [
        {
          "output_type": "stream",
          "name": "stdout",
          "text": [
            "['apple', 'banana', 'cherry', 'date']\n",
            "apple\n",
            "date\n",
            "['apple', 'banana', 'cherry', 'date', 'elderberry']\n",
            "['apple', 'grape', 'cherry', 'date', 'elderberry']\n",
            "['apple', 'grape', 'date', 'elderberry']\n"
          ]
        }
      ],
      "source": [
        "fruits = [\"apple\", \"banana\", \"cherry\", \"date\"]\n",
        "\n",
        "print(fruits)  # Output: ['apple', 'banana', 'cherry', 'date']\n",
        "\n",
        "    # Accessing elements\n",
        "print(fruits[0])  # Output: apple\n",
        "print(fruits[-1]) # Output: date\n",
        "\n",
        "    # Modifying lists\n",
        "fruits.append(\"elderberry\")\n",
        "print(fruits) #output: ['apple', 'banana', 'cherry', 'date', 'elderberry']\n",
        "\n",
        "fruits[1] = \"grape\"\n",
        "print(fruits) #output: ['apple', 'grape', 'cherry', 'date', 'elderberry']\n",
        "fruits.pop(2) #removes the element at index 2.\n",
        "print(fruits) #output: ['apple', 'grape', 'date', 'elderberry']"
      ]
    },
    {
      "cell_type": "code",
      "source": [
        "coordinates = (10, 20)\n",
        "print(coordinates)  # Output: (10, 20)\n",
        "\n",
        "    # Accessing elements\n",
        "print(coordinates[0])  # Output: 10\n",
        "print(coordinates[1])  # Output: 20\n",
        "\n",
        "    # Tuples are immutable, so you can't modify them directly:\n",
        "    # coordinates[0] = 15  # This would cause an error!"
      ],
      "metadata": {
        "colab": {
          "base_uri": "https://localhost:8080/"
        },
        "id": "51U4Ygx03glR",
        "outputId": "43b78e5e-44e9-4464-fc6b-2e4ca9063b78"
      },
      "execution_count": 3,
      "outputs": [
        {
          "output_type": "stream",
          "name": "stdout",
          "text": [
            "(10, 20)\n",
            "10\n",
            "20\n"
          ]
        }
      ]
    },
    {
      "cell_type": "code",
      "source": [
        "student = {\"name\": \"Alice\", \"age\": 20, \"major\": \"Computer Science\"}\n",
        "print(student)  # Output: {'name': 'Alice', 'age': 20, 'major': 'Computer Science'}\n",
        "\n",
        "    # Accessing values\n",
        "print(student[\"name\"])  # Output: Alice\n",
        "print(student.get(\"age\")) #output: 20\n",
        "\n",
        "    # Modifying dictionaries\n",
        "student[\"age\"] = 21\n",
        "student[\"city\"] = \"New York\"\n",
        "print(student) #output: {'name': 'Alice', 'age': 21, 'major': 'Computer Science', 'city': 'New York'}\n",
        "\n",
        "del student[\"major\"]\n",
        "print(student) #output: {'name': 'Alice', 'age': 21, 'city': 'New York'}"
      ],
      "metadata": {
        "colab": {
          "base_uri": "https://localhost:8080/"
        },
        "id": "GgQpk0L439TG",
        "outputId": "9a1a4f64-a295-42e9-a91a-6ab3d13f1d54"
      },
      "execution_count": 4,
      "outputs": [
        {
          "output_type": "stream",
          "name": "stdout",
          "text": [
            "{'name': 'Alice', 'age': 20, 'major': 'Computer Science'}\n",
            "Alice\n",
            "20\n",
            "{'name': 'Alice', 'age': 21, 'major': 'Computer Science', 'city': 'New York'}\n",
            "{'name': 'Alice', 'age': 21, 'city': 'New York'}\n"
          ]
        }
      ]
    },
    {
      "cell_type": "code",
      "source": [
        "unique_numbers = {1, 2, 3, 4, 4, 5}\n",
        "print(unique_numbers)  # Output: {1, 2, 3, 4, 5} (duplicates are removed)\n",
        "\n",
        "    # Set operations\n",
        "set1 = {1, 2, 3}\n",
        "set2 = {3, 4, 5}\n",
        "\n",
        "print(set1.union(set2))  # Output: {1, 2, 3, 4, 5}\n",
        "print(set1.intersection(set2))  # Output: {3}\n",
        "print(set1.difference(set2)) #output: {1,2}"
      ],
      "metadata": {
        "id": "OkX8VDgb4MzJ"
      },
      "execution_count": null,
      "outputs": []
    },
    {
      "cell_type": "markdown",
      "source": [
        "Important Notes:\n",
        "\n",
        "Lists are very flexible and commonly used.\n",
        "\n",
        "Tuples are useful when you need immutable sequences.\n",
        "\n",
        "Dictionaries are excellent for storing and retrieving data using keys.\n",
        "\n",
        "Sets are great for working with unique collections of items."
      ],
      "metadata": {
        "id": "vXD8zovh4Wza"
      }
    },
    {
      "cell_type": "code",
      "source": [
        "marks = [34,23,34,21,67,77,98,5,5,6,67,7,6]\n",
        "len(marks)"
      ],
      "metadata": {
        "colab": {
          "base_uri": "https://localhost:8080/"
        },
        "id": "KN9xLGiZ4cAe",
        "outputId": "201e449b-294f-467d-f85d-50df1b831702"
      },
      "execution_count": 5,
      "outputs": [
        {
          "output_type": "execute_result",
          "data": {
            "text/plain": [
              "13"
            ]
          },
          "metadata": {},
          "execution_count": 5
        }
      ]
    },
    {
      "cell_type": "code",
      "source": [
        "marks.append(333) #Adds an item to the end."
      ],
      "metadata": {
        "id": "rg49jhq69e0n"
      },
      "execution_count": 6,
      "outputs": []
    },
    {
      "cell_type": "code",
      "source": [
        "print(marks)"
      ],
      "metadata": {
        "colab": {
          "base_uri": "https://localhost:8080/"
        },
        "id": "KhpcTg2-9lYD",
        "outputId": "ebd97e8b-10e2-476d-a5b0-2835368a9d3e"
      },
      "execution_count": 8,
      "outputs": [
        {
          "output_type": "stream",
          "name": "stdout",
          "text": [
            "[34, 23, 34, 21, 67, 77, 98, 5, 5, 6, 67, 7, 6, 333]\n"
          ]
        }
      ]
    },
    {
      "cell_type": "code",
      "source": [
        "marks[0]"
      ],
      "metadata": {
        "colab": {
          "base_uri": "https://localhost:8080/"
        },
        "id": "JAs5YubW9obe",
        "outputId": "14391d82-780c-4ad8-d8cd-1417621fe349"
      },
      "execution_count": 9,
      "outputs": [
        {
          "output_type": "execute_result",
          "data": {
            "text/plain": [
              "34"
            ]
          },
          "metadata": {},
          "execution_count": 9
        }
      ]
    },
    {
      "cell_type": "code",
      "source": [
        "marks[:2]"
      ],
      "metadata": {
        "colab": {
          "base_uri": "https://localhost:8080/"
        },
        "id": "La5rkXee9sO7",
        "outputId": "fde3714c-a381-4b76-cf54-afe2ba283b36"
      },
      "execution_count": 10,
      "outputs": [
        {
          "output_type": "execute_result",
          "data": {
            "text/plain": [
              "[34, 23]"
            ]
          },
          "metadata": {},
          "execution_count": 10
        }
      ]
    },
    {
      "cell_type": "code",
      "source": [
        "marks[2:]"
      ],
      "metadata": {
        "colab": {
          "base_uri": "https://localhost:8080/"
        },
        "id": "iuce23r79wS2",
        "outputId": "9845fb6c-340e-4010-903b-a7be4eb51535"
      },
      "execution_count": 11,
      "outputs": [
        {
          "output_type": "execute_result",
          "data": {
            "text/plain": [
              "[34, 21, 67, 77, 98, 5, 5, 6, 67, 7, 6, 333]"
            ]
          },
          "metadata": {},
          "execution_count": 11
        }
      ]
    },
    {
      "cell_type": "code",
      "source": [
        "marks[-1]"
      ],
      "metadata": {
        "colab": {
          "base_uri": "https://localhost:8080/"
        },
        "id": "O9kkrlNe9xwF",
        "outputId": "be152979-3949-4112-f6f8-49104451df94"
      },
      "execution_count": 12,
      "outputs": [
        {
          "output_type": "execute_result",
          "data": {
            "text/plain": [
              "333"
            ]
          },
          "metadata": {},
          "execution_count": 12
        }
      ]
    },
    {
      "cell_type": "code",
      "source": [
        "# Appends elements from an iterable.\n",
        "marks.extend([344,444])"
      ],
      "metadata": {
        "id": "iCkN97En9y_u"
      },
      "execution_count": 13,
      "outputs": []
    },
    {
      "cell_type": "code",
      "source": [
        "print(marks)"
      ],
      "metadata": {
        "colab": {
          "base_uri": "https://localhost:8080/"
        },
        "id": "RVTzeHsm-EYq",
        "outputId": "caedd834-5700-4e43-b450-31393051c5ee"
      },
      "execution_count": 27,
      "outputs": [
        {
          "output_type": "stream",
          "name": "stdout",
          "text": [
            "[34, 99, 23, 21, 67, 77, 98, 5, 5, 6, 67, 7, 6, 344]\n"
          ]
        }
      ]
    },
    {
      "cell_type": "code",
      "source": [
        "marks.remove(444) #Removes the first occurrence of an item."
      ],
      "metadata": {
        "id": "YJCg54vb-Ggw"
      },
      "execution_count": 21,
      "outputs": []
    },
    {
      "cell_type": "code",
      "source": [
        "marks.insert(1,99) #Inserts an item at a specific index."
      ],
      "metadata": {
        "id": "bSdh2_QX-Ssf"
      },
      "execution_count": 23,
      "outputs": []
    },
    {
      "cell_type": "code",
      "source": [
        "removed_item = marks.pop(3) #Removes and returns the item at a given index (default: last)"
      ],
      "metadata": {
        "id": "SRFfiOT_-uTk"
      },
      "execution_count": 25,
      "outputs": []
    },
    {
      "cell_type": "code",
      "source": [
        "print(removed_item)"
      ],
      "metadata": {
        "colab": {
          "base_uri": "https://localhost:8080/"
        },
        "id": "ocuX6myu_E1L",
        "outputId": "b09fea5a-e294-4837-ba86-1bc6a9ba6d4f"
      },
      "execution_count": 26,
      "outputs": [
        {
          "output_type": "stream",
          "name": "stdout",
          "text": [
            "34\n"
          ]
        }
      ]
    },
    {
      "cell_type": "code",
      "source": [
        "marks.index(marks[3])"
      ],
      "metadata": {
        "colab": {
          "base_uri": "https://localhost:8080/"
        },
        "id": "DbFb3hOq_JEw",
        "outputId": "49c79017-a809-4b8b-a6bf-627ed17a209a"
      },
      "execution_count": 30,
      "outputs": [
        {
          "output_type": "execute_result",
          "data": {
            "text/plain": [
              "3"
            ]
          },
          "metadata": {},
          "execution_count": 30
        }
      ]
    },
    {
      "cell_type": "markdown",
      "source": [
        "1. Lists (list)\n",
        "\n",
        "Description: Ordered, mutable sequences.\n",
        "\n",
        "    my_list = [10, 20, \"hello\", 3.14]\n",
        "    print(my_list)\n",
        "\n",
        "Methods:\n",
        "\n",
        "append(item): Adds an item to the end.\n",
        "\n",
        "    my_list.append(40)\n",
        "\n",
        "extend(iterable): Appends elements from an iterable.\n",
        "\n",
        "\n",
        "    my_list.extend([50, 60])\n",
        "insert(index, item): Inserts an item at a specific index.\n",
        "\n",
        "\n",
        "    my_list.insert(1, 15)\n",
        "remove(item): Removes the first occurrence of an item.\n",
        "\n",
        "\n",
        "    my_list.remove(\"hello\")\n",
        "pop(index=-1): Removes and returns the item at a given index (default: last).\n",
        "\n",
        "    removed_item = my_list.pop(0)\n",
        "index(item): Returns the index of the first occurrence of an item.\n",
        "\n",
        "\n",
        "    index_20 = my_list.index(20)\n",
        "count(item): Returns the number of occurrences of an item.\n",
        "\n",
        "    count_40 = my_list.count(40)\n",
        "sort(): Sorts the list in place.\n",
        "\n",
        "    my_list.sort() # for numerical values.\n",
        "    reverse(): Reverses the list in place.\n",
        "\n",
        "    my_list.reverse()\n",
        "clear(): Removes all items from the list.\n",
        "\n",
        "    my_list.clear()\n",
        "Properties (Technically accessed through functions):\n",
        "\n",
        "    len(list): Returns the length of the list.\n",
        "\n",
        "2. Tuples (tuple)\n",
        "\n",
        "Description: Ordered, immutable sequences.\n",
        "\n",
        "    my_tuple = (10, 20, \"hello\", 3.14)\n",
        "    print(my_tuple)\n",
        "\n",
        "Methods:\n",
        "\n",
        "count(item): Returns the number of occurrences of an item.\n",
        "\n",
        "index(item): Returns the index of the first occurrence of an item.1\n",
        "\n",
        "len(tuple): Returns the length of the tuple.\n",
        "\n",
        "3. Dictionaries (dict)\n",
        "\n",
        "Description: Unordered collections of key-value pairs.\n",
        "Example:\n",
        "Python\n",
        "\n",
        "    my_dict = {\"name\": \"Alice\", \"age\": 30, \"city\": \"New York\"}\n",
        "    print(my_dict)\n",
        "\n",
        "Methods:\n",
        "keys(): Returns a view object of keys.\n",
        "\n",
        "\n",
        "    keys = my_dict.keys()\n",
        "values(): Returns a view object of values.\n",
        "\n",
        "\n",
        "    values = my_dict.values()\n",
        "items(): Returns a view object of key-value pairs (tuples).\n",
        "\n",
        "\n",
        "    items = my_dict.items()\n",
        "get(key, default=None): Returns the value for a key, or a default value if the key is not found.\n",
        "\n",
        "\n",
        "    age = my_dict.get(\"age\")\n",
        "\n",
        "pop(key, default=None): Removes and returns the value for a key.\n",
        "\n",
        "\n",
        "    city = my_dict.pop(\"city\")\n",
        "\n",
        "update(other_dict): Updates the dictionary with key-value pairs from another dictionary or iterable.\n",
        "\n",
        "    my_dict.update({\"job\": \"engineer\"})\n",
        "clear(): Removes all items from the dictionary.\n",
        "\n",
        "\n",
        "    my_dict.clear()\n",
        "\n",
        "len(dict): Returns the number of key-value pairs.\n",
        "4. Sets (set)\n",
        "\n",
        "Description: Unordered collections of unique items.\n",
        "\n",
        "\n",
        "    my_set = {10, 20, 30, 40}\n",
        "    print(my_set)\n",
        "Methods:\n",
        "\n",
        "add(item): Adds an item to the set.\n",
        "\n",
        "\n",
        "    my_set.add(50)\n",
        "remove(item): Removes an item from the set (raises KeyError if not found).\n",
        "\n",
        "\n",
        "    my_set.remove(20)\n",
        "discard(item): Removes an item from the set (does not raise KeyError if not found).\n",
        "\n",
        "\n",
        "    my_set.discard(60)\n",
        "pop(): Removes and returns an arbitrary item from the set.\n",
        "\n",
        "\n",
        "    popped_item = my_set.pop()\n",
        "clear(): Removes all items from the set.\n",
        "\n",
        "    my_set.clear()\n",
        "\n",
        "union(other_set): Returns a new set with items from both sets.\n",
        "\n",
        "intersection(other_set): Returns a new set with common items.\n",
        "\n",
        "difference(other_set): Returns a new set with items in the first set but not the second.\n",
        "\n",
        "symmetric_difference(other_set): returns a new set with items in either set, but not both.\n",
        "\n",
        "\n",
        "len(set): Returns the number of items in the set."
      ],
      "metadata": {
        "id": "B5SG9uw-_8_V"
      }
    },
    {
      "cell_type": "code",
      "source": [],
      "metadata": {
        "colab": {
          "base_uri": "https://localhost:8080/",
          "height": 158
        },
        "id": "z6zccUmX_T8v",
        "outputId": "7dfc47a1-f81c-4aee-d181-d10ae74f1761"
      },
      "execution_count": 32,
      "outputs": [
        {
          "output_type": "error",
          "ename": "TypeError",
          "evalue": "list expected at most 1 argument, got 2",
          "traceback": [
            "\u001b[0;31m---------------------------------------------------------------------------\u001b[0m",
            "\u001b[0;31mTypeError\u001b[0m                                 Traceback (most recent call last)",
            "\u001b[0;32m<ipython-input-32-d73c35ca3895>\u001b[0m in \u001b[0;36m<cell line: 0>\u001b[0;34m()\u001b[0m\n\u001b[1;32m      1\u001b[0m \u001b[0ml\u001b[0m \u001b[0;34m=\u001b[0m \u001b[0;34m[\u001b[0m\u001b[0;36m1\u001b[0m\u001b[0;34m,\u001b[0m\u001b[0;36m2\u001b[0m\u001b[0;34m]\u001b[0m\u001b[0;34m\u001b[0m\u001b[0;34m\u001b[0m\u001b[0m\n\u001b[0;32m----> 2\u001b[0;31m \u001b[0mlist\u001b[0m\u001b[0;34m(\u001b[0m\u001b[0;36m1\u001b[0m\u001b[0;34m,\u001b[0m\u001b[0;36m2\u001b[0m\u001b[0;34m)\u001b[0m\u001b[0;34m\u001b[0m\u001b[0;34m\u001b[0m\u001b[0m\n\u001b[0m",
            "\u001b[0;31mTypeError\u001b[0m: list expected at most 1 argument, got 2"
          ]
        }
      ]
    },
    {
      "cell_type": "code",
      "source": [],
      "metadata": {
        "id": "FwrX4s1mD_L_"
      },
      "execution_count": null,
      "outputs": []
    }
  ]
}