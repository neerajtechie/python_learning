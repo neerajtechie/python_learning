{
  "nbformat": 4,
  "nbformat_minor": 0,
  "metadata": {
    "colab": {
      "provenance": []
    },
    "kernelspec": {
      "name": "python3",
      "display_name": "Python 3"
    },
    "language_info": {
      "name": "python"
    }
  },
  "cells": [
    {
      "cell_type": "markdown",
      "source": [
        "*Q1*. Which keyword is used to create a function? Create a function to return a list of odd numbers in the\n",
        "range of 1 to 25.\n"
      ],
      "metadata": {
        "id": "13HeQ1KaTnuZ"
      }
    },
    {
      "cell_type": "code",
      "source": [
        "#\"def\"keyword is used to create a function"
      ],
      "metadata": {
        "id": "wTI5JKvNUdis"
      },
      "execution_count": null,
      "outputs": []
    },
    {
      "cell_type": "code",
      "source": [
        "def get_odd_numbers():\n",
        "  odd_list = []\n",
        "  for number in range(1, 26):\n",
        "    if number % 2 != 0:\n",
        "      odd_list.append(number)\n",
        "  return odd_list"
      ],
      "metadata": {
        "id": "R07Yy9Qcp8HX"
      },
      "execution_count": 1,
      "outputs": []
    },
    {
      "cell_type": "markdown",
      "source": [
        "Q2. Why *args and **kwargs is used in some functions? Create a function each\n",
        "\n",
        "1.   List item\n",
        "2.   List item\n",
        "\n",
        "for *args and **kwargs to\n",
        "demonstrate their use.\n"
      ],
      "metadata": {
        "id": "SDJ0UHCUTs8T"
      }
    },
    {
      "cell_type": "markdown",
      "source": [
        "Ah, *args and **kwargs are super handy when you want your functions to be flexible and handle a varying number of inputs! Let's break them down.\n",
        "\n",
        "*args is like a little collector that scoops up any extra positional arguments you throw at a function and bundles them into a tuple. Think of it as saying, \"Hey, I might get a few extra things here, just pack 'em all together.\"\n",
        "\n",
        "**kwargs does a similar trick but for keyword arguments. It gathers any extra keyword arguments (like name='Alice' or age=30) and puts them into a dictionary. So, it's like, \"If you give me some extra info with labels, I'll keep them organized in a dictionary.\"\n",
        "\n",
        "Why are they useful? They let you design functions that can accept different numbers of arguments without you having to define each one explicitly. This is especially useful when you're not sure beforehand how many inputs a user might provide."
      ],
      "metadata": {
        "id": "W3gvJytQgbhO"
      }
    },
    {
      "cell_type": "code",
      "source": [
        "# Function using *args to sum up any number of numbers\n",
        "def sum_all(*args):\n",
        "  total = 0\n",
        "  for num in args:\n",
        "    total += num\n",
        "  return total\n",
        "\n",
        "print(sum_all(1, 2))\n",
        "print(sum_all(1, 2, 3, 4, 5))"
      ],
      "metadata": {
        "colab": {
          "base_uri": "https://localhost:8080/"
        },
        "id": "vwYXgFxSgdLG",
        "outputId": "b4313926-e1e3-4ab3-dd5e-824c079d7d53"
      },
      "execution_count": 2,
      "outputs": [
        {
          "output_type": "stream",
          "name": "stdout",
          "text": [
            "3\n",
            "15\n"
          ]
        }
      ]
    },
    {
      "cell_type": "code",
      "source": [
        "# Function using **kwargs to greet someone with optional info\n",
        "def greet(**kwargs):\n",
        "  if \"name\" in kwargs:\n",
        "    print(f\"Hello, {kwargs['name']}!\")\n",
        "  if \"age\" in kwargs:\n",
        "    print(f\"You are {kwargs['age']} years old.\")\n",
        "  if \"city\" in kwargs:\n",
        "    print(f\"Nice to know you're from {kwargs['city']}.\")\n",
        "\n",
        "greet(name=\"Bob\")\n",
        "greet(name=\"Charlie\", age=25)\n",
        "greet(city=\"Ahmedabad\", name=\"Diana\", occupation=\"Engineer\")"
      ],
      "metadata": {
        "colab": {
          "base_uri": "https://localhost:8080/"
        },
        "id": "Pj-AtGdggtAv",
        "outputId": "170ea997-8625-47e9-c6d3-8083a0a2ebc0"
      },
      "execution_count": 3,
      "outputs": [
        {
          "output_type": "stream",
          "name": "stdout",
          "text": [
            "Hello, Bob!\n",
            "Hello, Charlie!\n",
            "You are 25 years old.\n",
            "Hello, Diana!\n",
            "Nice to know you're from Ahmedabad.\n"
          ]
        }
      ]
    },
    {
      "cell_type": "markdown",
      "source": [
        "Q3. What is an iterator in python? Name the method used to initialise the iterator object and the method\n",
        "used for iteration. Use these methods to print the first five elements of the given list [2, 4, 6, 8, 10, 12, 14, 16,\n",
        "18, 20].\n"
      ],
      "metadata": {
        "id": "6IMtuntdTvUm"
      }
    },
    {
      "cell_type": "markdown",
      "source": [
        "In Python, an iterator is an object that allows you to traverse through a sequence of data, one item at a time. Think of it like a pointer that moves through a list, giving you access to each element as you need it, without loading the entire list into memory all at once. This can be super efficient, especially when you're dealing with really large datasets.\n",
        "There are two main methods that play a crucial role with iterators:\n",
        "\n",
        "__iter__(): This method is used to initialize the iterator object. When you call iter() on a sequence (like a list, tuple, or string), it returns an iterator object for that sequence by calling its __iter__() method behind the scenes. The iterator object is then ready to be used for iteration.\n",
        "\n",
        "__next__(): This method is used for iteration. When you call next() on an iterator object, it returns the next item in the sequence. If there are no more items, it raises a StopIteration exception, signaling that you've reached the end."
      ],
      "metadata": {
        "id": "PAqciKjrhC5u"
      }
    },
    {
      "cell_type": "code",
      "source": [
        "my_list = [2, 4, 6, 8, 10, 12, 14, 16, 18, 20]\n",
        "\n",
        "# Initialize the iterator object\n",
        "my_iterator = iter(my_list)\n",
        "\n",
        "# Iterate and print the first five elements\n",
        "try:\n",
        "  print(next(my_iterator))\n",
        "  print(next(my_iterator))\n",
        "  print(next(my_iterator))\n",
        "  print(next(my_iterator))\n",
        "  print(next(my_iterator))\n",
        "except StopIteration:\n",
        "  print(\"Reached the end of the list.\")"
      ],
      "metadata": {
        "colab": {
          "base_uri": "https://localhost:8080/"
        },
        "id": "TPWT2lh0gyTv",
        "outputId": "e5c40de7-ec83-41ab-fcf9-a29edb5d176f"
      },
      "execution_count": 4,
      "outputs": [
        {
          "output_type": "stream",
          "name": "stdout",
          "text": [
            "2\n",
            "4\n",
            "6\n",
            "8\n",
            "10\n"
          ]
        }
      ]
    },
    {
      "cell_type": "markdown",
      "source": [
        "Q4. What is a generator function in python? Why yield keyword is used? Give an example of a generator\n",
        "function.\n"
      ],
      "metadata": {
        "id": "Oc9sm_quTxUA"
      }
    },
    {
      "cell_type": "markdown",
      "source": [
        "n Python, a generator function is a special kind of function that doesn't return a single value like a regular function. Instead, it returns an iterator object that yields a sequence of values one at a time. Think of it as a function that can pause and resume its execution, remembering its state between calls.\n",
        "\n",
        "The magic behind generator functions lies in the yield keyword. When a yield statement is encountered in a generator function:\n",
        "\n",
        "The execution of the function is paused.\n",
        "The value specified in the yield statement is returned to the caller.\n",
        "The state of the function (including the values of local variables and the point of execution) is saved.\n",
        "When the next() method is called on the iterator returned by the generator function, the function resumes its execution from where it left off (right after the yield statement). This process continues until the function finishes or encounters a return statement (without a value, which implicitly returns None and signals the end of the iteration by raising a StopIteration exception).\n",
        "\n",
        "Why is yield used?\n",
        "\n",
        "The yield keyword is what makes a function a generator function. It's the key to achieving that pause-and-resume behavior and the lazy generation of values. Instead of computing all the values upfront and storing them in memory (like a regular function that returns a list), a generator function only computes and yields the next value when it's requested. This can lead to significant memory savings, especially when dealing with potentially infinite sequences or very large datasets."
      ],
      "metadata": {
        "id": "NxMecdbBiMtn"
      }
    },
    {
      "cell_type": "code",
      "source": [
        "def even_numbers_generator(limit):\n",
        "  num = 0\n",
        "  while num <= limit:\n",
        "    yield num\n",
        "    num += 2\n",
        "\n",
        "# Create an iterator object from the generator function\n",
        "even_iterator = even_numbers_generator(10)\n",
        "\n",
        "# Iterate through the generated even numbers\n",
        "print(next(even_iterator))\n",
        "print(next(even_iterator))\n",
        "print(next(even_iterator))\n",
        "print(next(even_iterator))\n",
        "print(next(even_iterator))\n",
        "print(next(even_iterator))\n",
        "\n",
        "# Trying to get the next value after the limit will raise StopIteration\n",
        "try:\n",
        "  print(next(even_iterator))\n",
        "except StopIteration:\n",
        "  print(\"Reached the end of the sequence.\")"
      ],
      "metadata": {
        "colab": {
          "base_uri": "https://localhost:8080/"
        },
        "id": "ox2LvLyIhQWj",
        "outputId": "b775ee7b-1977-4830-9620-c01ec719fd87"
      },
      "execution_count": 5,
      "outputs": [
        {
          "output_type": "stream",
          "name": "stdout",
          "text": [
            "0\n",
            "2\n",
            "4\n",
            "6\n",
            "8\n",
            "10\n",
            "Reached the end of the sequence.\n"
          ]
        }
      ]
    },
    {
      "cell_type": "markdown",
      "source": [
        "Q1. Create a python program to sort the given list of tuples based on integer value using a\n",
        "lambda function.\n",
        "[('Sachin Tendulkar', 34357), ('Ricky Ponting', 27483), ('Jack Kallis', 25534), ('Virat Kohli', 24936)]\n"
      ],
      "metadata": {
        "id": "YOL8Bu6iTzJQ"
      }
    },
    {
      "cell_type": "code",
      "source": [
        "player_data = [('Sachin Tendulkar', 34357), ('Ricky Ponting', 27483), ('Jack Kallis', 25534), ('Virat Kohli', 24936)]\n",
        "\n",
        "# Sort the list of tuples based on the integer value (the second element)\n",
        "sorted_data = sorted(player_data, key=lambda item: item[1])\n",
        "\n",
        "print(sorted_data)"
      ],
      "metadata": {
        "colab": {
          "base_uri": "https://localhost:8080/"
        },
        "id": "lQkv-oWwiVkY",
        "outputId": "aed49eb5-52d7-4984-db91-4fd716e5d04a"
      },
      "execution_count": 6,
      "outputs": [
        {
          "output_type": "stream",
          "name": "stdout",
          "text": [
            "[('Virat Kohli', 24936), ('Jack Kallis', 25534), ('Ricky Ponting', 27483), ('Sachin Tendulkar', 34357)]\n"
          ]
        }
      ]
    },
    {
      "cell_type": "markdown",
      "source": [
        "Q2. Write a Python Program to find the squares of all the numbers in the given list of integers using\n",
        "lambda and map functions.\n",
        "[1, 2, 3, 4, 5, 6, 7, 8, 9, 10]\n"
      ],
      "metadata": {
        "id": "eDF07-3XUD2S"
      }
    },
    {
      "cell_type": "code",
      "source": [
        "numbers = [1, 2, 3, 4, 5, 6, 7, 8, 9, 10]\n",
        "\n",
        "# Use map and lambda to find the square of each number\n",
        "squares = list(map(lambda x: x**2, numbers))\n",
        "\n",
        "print(squares)"
      ],
      "metadata": {
        "colab": {
          "base_uri": "https://localhost:8080/"
        },
        "id": "fkQr19oVin6k",
        "outputId": "49d06cdc-5892-4164-d459-8a1186b3cea9"
      },
      "execution_count": 8,
      "outputs": [
        {
          "output_type": "stream",
          "name": "stdout",
          "text": [
            "[1, 4, 9, 16, 25, 36, 49, 64, 81, 100]\n"
          ]
        }
      ]
    },
    {
      "cell_type": "markdown",
      "source": [
        "Q3. Write a python program to convert the given list of integers into a tuple of strings. Use map and\n",
        "lambda functions\n",
        "Given String: [1, 2, 3, 4, 5, 6, 7, 8, 9, 10]\n",
        "Expected output: ('1', '2', '3', '4', '5', '6', '7', '8', '9', '10')\n"
      ],
      "metadata": {
        "id": "98G8_p1SUFgj"
      }
    },
    {
      "cell_type": "code",
      "source": [
        "numbers = [1, 2, 3, 4, 5, 6, 7, 8, 9, 10]\n",
        "\n",
        "# Use map and lambda to convert each integer to a string\n",
        "string_tuple = tuple(map(lambda x: str(x), numbers))\n",
        "\n",
        "print(string_tuple)"
      ],
      "metadata": {
        "colab": {
          "base_uri": "https://localhost:8080/"
        },
        "id": "QLWghfP5ixsU",
        "outputId": "cecde7d4-3405-4eeb-fa06-b68cf9badb03"
      },
      "execution_count": 9,
      "outputs": [
        {
          "output_type": "stream",
          "name": "stdout",
          "text": [
            "('1', '2', '3', '4', '5', '6', '7', '8', '9', '10')\n"
          ]
        }
      ]
    },
    {
      "cell_type": "markdown",
      "source": [
        "\n",
        "\n",
        "```\n",
        "# This is formatted as code\n",
        "```\n",
        "\n",
        "Q4. Write a python program using reduce function to compute the product of a list containing numbers\n",
        "from 1 to 25.\n"
      ],
      "metadata": {
        "id": "0wWESBBoUH3m"
      }
    },
    {
      "cell_type": "code",
      "source": [
        "from functools import reduce\n",
        "\n",
        "# Create a list of numbers from 1 to 25\n",
        "numbers = list(range(1, 26))\n",
        "\n",
        "# Use reduce with a lambda function to compute the product\n",
        "product = reduce(lambda x, y: x * y, numbers)\n",
        "\n",
        "print(f\"The product of numbers from 1 to 25 is: {product}\")"
      ],
      "metadata": {
        "colab": {
          "base_uri": "https://localhost:8080/"
        },
        "id": "TyTqg09kiy9G",
        "outputId": "c3dc44ec-ee55-4f03-f83e-60a22ec0f792"
      },
      "execution_count": 10,
      "outputs": [
        {
          "output_type": "stream",
          "name": "stdout",
          "text": [
            "The product of numbers from 1 to 25 is: 15511210043330985984000000\n"
          ]
        }
      ]
    },
    {
      "cell_type": "markdown",
      "source": [
        "Q5. Write a python program to filter the numbers in a given list that are divisible by 2 and 3 using the\n",
        "filter function.\n",
        "[2, 3, 6, 9, 27, 60, 90, 120, 55, 46]\n"
      ],
      "metadata": {
        "id": "5wVQNScoUK14"
      }
    },
    {
      "cell_type": "code",
      "source": [
        "numbers = [2, 3, 6, 9, 27, 60, 90, 120, 55, 46]\n",
        "\n",
        "# Use the filter function with a lambda function to filter numbers divisible by 2 and 3\n",
        "filtered_numbers = list(filter(lambda x: (x % 2 == 0) and (x % 3 == 0), numbers))\n",
        "\n",
        "print(filtered_numbers)"
      ],
      "metadata": {
        "colab": {
          "base_uri": "https://localhost:8080/"
        },
        "id": "GLBjD5PdjDqG",
        "outputId": "74701460-1ddc-452a-e359-e041d2f4802c"
      },
      "execution_count": 11,
      "outputs": [
        {
          "output_type": "stream",
          "name": "stdout",
          "text": [
            "[6, 60, 90, 120]\n"
          ]
        }
      ]
    },
    {
      "cell_type": "markdown",
      "source": [
        "Q6. Write a python program to find palindromes in the given list of strings using lambda and filter\n",
        "function.\n",
        "['python', 'php', 'aba', 'radar', 'level']\n"
      ],
      "metadata": {
        "id": "pEhtgOXuUM6C"
      }
    },
    {
      "cell_type": "code",
      "source": [
        "strings = ['python', 'php', 'aba', 'radar', 'level']\n",
        "\n",
        "# Use filter and lambda to find palindromes\n",
        "palindromes = list(filter(lambda s: s == s[::-1], strings))\n",
        "\n",
        "print(palindromes)"
      ],
      "metadata": {
        "colab": {
          "base_uri": "https://localhost:8080/"
        },
        "id": "BYE8JuXOjFqb",
        "outputId": "c2fadebd-f1ef-4167-a18c-04edffef6f25"
      },
      "execution_count": 12,
      "outputs": [
        {
          "output_type": "stream",
          "name": "stdout",
          "text": [
            "['php', 'aba', 'radar', 'level']\n"
          ]
        }
      ]
    },
    {
      "cell_type": "code",
      "source": [],
      "metadata": {
        "id": "cflQ6vLnjJ1f"
      },
      "execution_count": null,
      "outputs": []
    }
  ]
}