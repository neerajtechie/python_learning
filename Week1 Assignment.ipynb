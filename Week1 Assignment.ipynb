{
 "cells": [
  {
   "cell_type": "markdown",
   "id": "917b3967-3c0c-4146-8d7b-358340a4cec9",
   "metadata": {},
   "source": [
    "Q1.Create one variable containing following type of data."
   ]
  },
  {
   "cell_type": "code",
   "execution_count": 1,
   "id": "80162151-fd85-4261-8d39-09840fa5e39d",
   "metadata": {},
   "outputs": [],
   "source": [
    "name=\"Neeraj\""
   ]
  },
  {
   "cell_type": "code",
   "execution_count": 2,
   "id": "525baf43-152b-4ad2-a283-61c9e3bf693a",
   "metadata": {},
   "outputs": [
    {
     "data": {
      "text/plain": [
       "str"
      ]
     },
     "execution_count": 2,
     "metadata": {},
     "output_type": "execute_result"
    }
   ],
   "source": [
    "type(name)"
   ]
  },
  {
   "cell_type": "code",
   "execution_count": 5,
   "id": "ac02afda-73d8-4510-8af6-65655f9253b0",
   "metadata": {},
   "outputs": [],
   "source": [
    "n = [7,6,9,8,5,3,7,0,9,3,4,\"Hi\", \"Neeraj\", 4+9j]"
   ]
  },
  {
   "cell_type": "code",
   "execution_count": 6,
   "id": "c2b8a130-5fd6-4f87-ac4a-217da6043062",
   "metadata": {},
   "outputs": [
    {
     "data": {
      "text/plain": [
       "list"
      ]
     },
     "execution_count": 6,
     "metadata": {},
     "output_type": "execute_result"
    }
   ],
   "source": [
    "type(n)"
   ]
  },
  {
   "cell_type": "code",
   "execution_count": 7,
   "id": "72da142e-7689-41fe-9899-69fe91f72036",
   "metadata": {},
   "outputs": [],
   "source": [
    "a=34.45"
   ]
  },
  {
   "cell_type": "code",
   "execution_count": 8,
   "id": "bc22f554-0cff-4dcf-9521-59f6f5070ef8",
   "metadata": {},
   "outputs": [
    {
     "data": {
      "text/plain": [
       "float"
      ]
     },
     "execution_count": 8,
     "metadata": {},
     "output_type": "execute_result"
    }
   ],
   "source": [
    "type(a)"
   ]
  },
  {
   "cell_type": "code",
   "execution_count": 12,
   "id": "59cec0ea-8bd7-4c79-b574-275ea100cc1a",
   "metadata": {},
   "outputs": [],
   "source": [
    "N=(1,2,3,4,5,6,7,8,9,\"Hello\", \"World\",6+7j)"
   ]
  },
  {
   "cell_type": "code",
   "execution_count": 13,
   "id": "e73455e8-d1db-46b3-917d-9e14e3006068",
   "metadata": {},
   "outputs": [
    {
     "data": {
      "text/plain": [
       "tuple"
      ]
     },
     "execution_count": 13,
     "metadata": {},
     "output_type": "execute_result"
    }
   ],
   "source": [
    "type(N)"
   ]
  },
  {
   "cell_type": "markdown",
   "id": "058472ce-ce9b-49c5-b2f5-49667f87e75e",
   "metadata": {},
   "source": [
    "Q2. Given are some follwoing variavle containing data, FInd ? What will be the data type of the above given variable."
   ]
  },
  {
   "cell_type": "code",
   "execution_count": 14,
   "id": "143c015b-3997-4246-aac6-d006246eb840",
   "metadata": {},
   "outputs": [
    {
     "data": {
      "text/plain": [
       "str"
      ]
     },
     "execution_count": 14,
     "metadata": {},
     "output_type": "execute_result"
    }
   ],
   "source": [
    "var1=\"\"\n",
    "type(var1)"
   ]
  },
  {
   "cell_type": "code",
   "execution_count": 20,
   "id": "f338096c-db73-461a-8011-d0926252b5eb",
   "metadata": {},
   "outputs": [
    {
     "data": {
      "text/plain": [
       "str"
      ]
     },
     "execution_count": 20,
     "metadata": {},
     "output_type": "execute_result"
    }
   ],
   "source": [
    "var2=\"[DS,ML,PYTHON]\"\n",
    "type(var2)"
   ]
  },
  {
   "cell_type": "code",
   "execution_count": 21,
   "id": "6a087448-be95-4469-9e10-912d482b7f42",
   "metadata": {},
   "outputs": [],
   "source": [
    "var3=[\"DS\",\"ML\",\"Python\"]"
   ]
  },
  {
   "cell_type": "code",
   "execution_count": 23,
   "id": "f74296f2-ca8a-4a61-a2f2-a57faeee1ae4",
   "metadata": {},
   "outputs": [
    {
     "data": {
      "text/plain": [
       "list"
      ]
     },
     "execution_count": 23,
     "metadata": {},
     "output_type": "execute_result"
    }
   ],
   "source": [
    "type(var3)"
   ]
  },
  {
   "cell_type": "code",
   "execution_count": 26,
   "id": "ad555eae-7173-421c-89b7-78c416a27719",
   "metadata": {},
   "outputs": [
    {
     "data": {
      "text/plain": [
       "int"
      ]
     },
     "execution_count": 26,
     "metadata": {},
     "output_type": "execute_result"
    }
   ],
   "source": [
    "var4=1\n",
    "type(var4)"
   ]
  },
  {
   "cell_type": "markdown",
   "id": "05790b7c-14f0-476e-9ca5-72b8a12d16fd",
   "metadata": {},
   "source": [
    "Q3.Explain the use of the following operators using an example"
   ]
  },
  {
   "cell_type": "markdown",
   "id": "5f85fe84-ef86-4b22-a4b4-f25402937df4",
   "metadata": {},
   "source": [
    "/ this operator compeletly divides the no."
   ]
  },
  {
   "cell_type": "code",
   "execution_count": 27,
   "id": "49513b14-9441-4438-a612-b5fcd4896334",
   "metadata": {},
   "outputs": [
    {
     "data": {
      "text/plain": [
       "2.0"
      ]
     },
     "execution_count": 27,
     "metadata": {},
     "output_type": "execute_result"
    }
   ],
   "source": [
    "4/2"
   ]
  },
  {
   "cell_type": "code",
   "execution_count": 28,
   "id": "ac4c0292-05f7-4f44-982c-5d697568759d",
   "metadata": {},
   "outputs": [
    {
     "data": {
      "text/plain": [
       "2.5"
      ]
     },
     "execution_count": 28,
     "metadata": {},
     "output_type": "execute_result"
    }
   ],
   "source": [
    "5/2"
   ]
  },
  {
   "cell_type": "code",
   "execution_count": 29,
   "id": "d927923e-664b-45f1-8c2c-ddfee4d7bacf",
   "metadata": {},
   "outputs": [
    {
     "data": {
      "text/plain": [
       "15.0"
      ]
     },
     "execution_count": 29,
     "metadata": {},
     "output_type": "execute_result"
    }
   ],
   "source": [
    "45/3"
   ]
  },
  {
   "cell_type": "code",
   "execution_count": 30,
   "id": "39f238c4-112a-4326-b0e3-d80faff6e1cf",
   "metadata": {},
   "outputs": [
    {
     "data": {
      "text/plain": [
       "2.3333333333333335"
      ]
     },
     "execution_count": 30,
     "metadata": {},
     "output_type": "execute_result"
    }
   ],
   "source": [
    "7/3"
   ]
  },
  {
   "cell_type": "markdown",
   "id": "39c065db-f583-4ee2-b169-a02d00dcad4a",
   "metadata": {},
   "source": [
    "% This operator is call modulous. It gives output remaindor."
   ]
  },
  {
   "cell_type": "code",
   "execution_count": 31,
   "id": "da0e6caf-eef0-4449-9c19-563eb911dcaa",
   "metadata": {},
   "outputs": [
    {
     "data": {
      "text/plain": [
       "1"
      ]
     },
     "execution_count": 31,
     "metadata": {},
     "output_type": "execute_result"
    }
   ],
   "source": [
    "4%3"
   ]
  },
  {
   "cell_type": "code",
   "execution_count": 33,
   "id": "c7424974-8740-41db-bb93-4301eb4ed07b",
   "metadata": {},
   "outputs": [
    {
     "data": {
      "text/plain": [
       "3"
      ]
     },
     "execution_count": 33,
     "metadata": {},
     "output_type": "execute_result"
    }
   ],
   "source": [
    "45%7"
   ]
  },
  {
   "cell_type": "code",
   "execution_count": 34,
   "id": "495c798d-fd2f-46c1-a738-68850ac1a6c8",
   "metadata": {},
   "outputs": [
    {
     "data": {
      "text/plain": [
       "1"
      ]
     },
     "execution_count": 34,
     "metadata": {},
     "output_type": "execute_result"
    }
   ],
   "source": [
    "3%2"
   ]
  },
  {
   "cell_type": "code",
   "execution_count": 35,
   "id": "ebc1a362-2169-48ad-b94d-59051b26cf98",
   "metadata": {},
   "outputs": [
    {
     "data": {
      "text/plain": [
       "50"
      ]
     },
     "execution_count": 35,
     "metadata": {},
     "output_type": "execute_result"
    }
   ],
   "source": [
    "550%100"
   ]
  },
  {
   "cell_type": "markdown",
   "id": "5db5d3fd-6c8f-426e-9dc3-53064b67eb2c",
   "metadata": {},
   "source": [
    "// this operator gives the output quatient"
   ]
  },
  {
   "cell_type": "code",
   "execution_count": 36,
   "id": "0d2145a5-7e8c-47cc-9f3b-0b81cac35878",
   "metadata": {},
   "outputs": [
    {
     "data": {
      "text/plain": [
       "1"
      ]
     },
     "execution_count": 36,
     "metadata": {},
     "output_type": "execute_result"
    }
   ],
   "source": [
    "4//3"
   ]
  },
  {
   "cell_type": "code",
   "execution_count": 37,
   "id": "b072ae40-a2ec-4864-8ca0-1195cdb6f2d2",
   "metadata": {},
   "outputs": [
    {
     "data": {
      "text/plain": [
       "6"
      ]
     },
     "execution_count": 37,
     "metadata": {},
     "output_type": "execute_result"
    }
   ],
   "source": [
    "45//7"
   ]
  },
  {
   "cell_type": "code",
   "execution_count": 39,
   "id": "e8480f57-f5ca-46f7-a84c-18f90f655c7e",
   "metadata": {},
   "outputs": [
    {
     "data": {
      "text/plain": [
       "5"
      ]
     },
     "execution_count": 39,
     "metadata": {},
     "output_type": "execute_result"
    }
   ],
   "source": [
    "550//100"
   ]
  },
  {
   "cell_type": "markdown",
   "id": "a923fa66-12ba-4165-96ba-932aca884f7c",
   "metadata": {},
   "source": [
    "** It denote the power of the no."
   ]
  },
  {
   "cell_type": "code",
   "execution_count": 40,
   "id": "70c1cb56-be74-40a2-9de0-cf60e2092e0d",
   "metadata": {},
   "outputs": [
    {
     "data": {
      "text/plain": [
       "4"
      ]
     },
     "execution_count": 40,
     "metadata": {},
     "output_type": "execute_result"
    }
   ],
   "source": [
    "2**2"
   ]
  },
  {
   "cell_type": "code",
   "execution_count": 42,
   "id": "fc3e91cc-2364-41b2-813d-260acc98eb87",
   "metadata": {},
   "outputs": [
    {
     "data": {
      "text/plain": [
       "729"
      ]
     },
     "execution_count": 42,
     "metadata": {},
     "output_type": "execute_result"
    }
   ],
   "source": [
    "3**6"
   ]
  },
  {
   "cell_type": "code",
   "execution_count": 43,
   "id": "e83802f5-2914-49bb-98eb-bd2b2748cfc6",
   "metadata": {},
   "outputs": [
    {
     "data": {
      "text/plain": [
       "125"
      ]
     },
     "execution_count": 43,
     "metadata": {},
     "output_type": "execute_result"
    }
   ],
   "source": [
    "5**3"
   ]
  },
  {
   "cell_type": "markdown",
   "id": "e02af7b3-db2e-4d16-89de-4e2ae9175608",
   "metadata": {},
   "source": [
    "Q4. Create a list of length 10 of your choice containing multiple types of data. Using for loop print the \n",
    "element and its data type."
   ]
  },
  {
   "cell_type": "code",
   "execution_count": 9,
   "id": "0e318580-648c-4bb3-ba70-78fbca0af49d",
   "metadata": {},
   "outputs": [
    {
     "name": "stdout",
     "output_type": "stream",
     "text": [
      "1 <class 'int'>\n",
      "23 <class 'int'>\n",
      "4 <class 'int'>\n",
      "5 <class 'int'>\n",
      "6 <class 'int'>\n",
      "(7+8j) <class 'complex'>\n",
      "Neerak <class 'str'>\n",
      "89.89 <class 'float'>\n",
      "True <class 'bool'>\n",
      "False <class 'bool'>\n"
     ]
    }
   ],
   "source": [
    "l=[1,23,4,5,6,7+8j,\"Neerak\",89.89,True,False]\n",
    "for i in l:\n",
    "    print(i,type(i))\n",
    "    "
   ]
  },
  {
   "cell_type": "markdown",
   "id": "3bd6b06e-4d63-466f-ad82-40c9d4fcc23f",
   "metadata": {},
   "source": [
    "Q5. Using a while loop, verify if the number A is purely divisible by number B and if so then how many \n",
    "times it can be divisible."
   ]
  },
  {
   "cell_type": "code",
   "execution_count": 19,
   "id": "febc1248-6789-4fa3-8b38-e9450763c9e9",
   "metadata": {},
   "outputs": [
    {
     "name": "stdin",
     "output_type": "stream",
     "text": [
      "Enter number A:  45\n",
      "Enter number B:  5\n"
     ]
    },
    {
     "name": "stdout",
     "output_type": "stream",
     "text": [
      "Number A is divisible by number B.\n",
      "It can be divided 9 times.\n"
     ]
    }
   ],
   "source": [
    "A = int(input(\"Enter number A: \"))\n",
    "B = int(input(\"Enter number B: \"))\n",
    "count=0\n",
    "while A % B == 0:\n",
    "    A = A / B\n",
    "    count += 1\n",
    "\n",
    "if count > 0:\n",
    "    print(\"Number A is divisible by number B.\")\n",
    "    print(\"It can be divided\", int(A), \"times.\")\n",
    "else:\n",
    "    print(\"Number A is not divisible by number B.\")\n"
   ]
  },
  {
   "cell_type": "markdown",
   "id": "8d5d1b41-0b59-4aad-a9fa-230f026c8cec",
   "metadata": {},
   "source": [
    "Q6. Create a list containing 25 int type data. Using for loop and if-else condition print if the element is \n",
    "divisible by 3 or not"
   ]
  },
  {
   "cell_type": "code",
   "execution_count": 3,
   "id": "52a82ffe-ef57-4336-836b-456a48b32674",
   "metadata": {},
   "outputs": [
    {
     "name": "stdout",
     "output_type": "stream",
     "text": [
      "23 is not divisible by 3\n",
      "34 is not divisible by 3\n",
      "55 is not divisible by 3\n",
      "6 is divisible by 3\n",
      "67 is not divisible by 3\n",
      "8 is not divisible by 3\n",
      "9 is divisible by 3\n",
      "34 is not divisible by 3\n",
      "34 is not divisible by 3\n",
      "34 is not divisible by 3\n",
      "345 is divisible by 3\n",
      "34 is not divisible by 3\n",
      "45 is divisible by 3\n",
      "6 is divisible by 3\n",
      "6 is divisible by 3\n",
      "7 is not divisible by 3\n",
      "7 is not divisible by 3\n",
      "7 is not divisible by 3\n",
      "34 is not divisible by 3\n",
      "34 is not divisible by 3\n",
      "56 is not divisible by 3\n",
      "34 is not divisible by 3\n",
      "34 is not divisible by 3\n",
      "56 is not divisible by 3\n",
      "46 is not divisible by 3\n"
     ]
    }
   ],
   "source": [
    "l=[23,34,55,6,67,8,9,34,34,34,345,34,45,6,6,7,7,7,34,34,56,34,34,56,46]\n",
    "for num in l:\n",
    "    if num % 3 == 0:\n",
    "        print(num, \"is divisible by 3\")\n",
    "    else:\n",
    "        print(num, \"is not divisible by 3\")"
   ]
  },
  {
   "cell_type": "markdown",
   "id": "ddff20e8-07ff-4499-8943-c989ea132115",
   "metadata": {},
   "source": [
    "Q7. What do you understand about mutable and immutable data types? Give examples for both showing \n",
    "this property.\n",
    "Ans:In Python, mutable and immutable are two fundamental properties of data types.\n",
    "\n",
    "Immutable data types are those whose values cannot be changed after they are created. When you modify an immutable object, a new object is created in memory. Examples of immutable data types in Python include integers, floats, strings, and tuples.\n",
    "\n",
    "mutable data types are those that can be modified after they are created. When you modify a mutable object, the changes are reflected in the same object in memory. Examples of mutable data types in Python include lists, dictionaries, and sets.\n",
    "\n"
   ]
  },
  {
   "cell_type": "code",
   "execution_count": 4,
   "id": "2a6ad37d-b7b3-407e-9309-6059715a7834",
   "metadata": {},
   "outputs": [
    {
     "name": "stdout",
     "output_type": "stream",
     "text": [
      "Original name: Neeraj\n",
      "Modified name: NeerajKumar\n"
     ]
    }
   ],
   "source": [
    "name = \"Neeraj\"\n",
    "print(\"Original name:\", name)\n",
    "\n",
    "# Modifying the string\n",
    "name += \"Kumar\"\n",
    "\n",
    "print(\"Modified name:\", name)"
   ]
  },
  {
   "cell_type": "code",
   "execution_count": null,
   "id": "72bff12a-fdf0-40bd-9714-158c60bd5739",
   "metadata": {},
   "outputs": [],
   "source": [
    "numbers = [1, 2, 3, 4, 5]\n",
    "print(\"Original list:\", numbers)\n",
    "\n",
    "# Modifying the list\n",
    "numbers.append(6)\n",
    "numbers[2] = 7\n",
    "\n",
    "print(\"Modified list:\", numbers)\n",
    "Output:\n",
    "\n",
    "less\n",
    "Copy code\n",
    "Original list: [1, 2, 3, 4, 5]\n",
    "Modified list: [1, 2, 7, 4, 5, 6]\n",
    "In this example, the list numbers is initially assigned the values [1, 2, 3, 4, 5]. We modify the list by appending the number 6 and changing the element at index 2 to 7. The changes are directly made to the original list object. This demonstrates that lists are mutable in Python.\n",
    "\n",
    "Understanding the mutability and immutability of data types is important because it affects how we work with variables, pass them as arguments to functions, and manage \n",
    "\n",
    "\n",
    "\n",
    "\n",
    "\n"
   ]
  }
 ],
 "metadata": {
  "kernelspec": {
   "display_name": "Python 3 (ipykernel)",
   "language": "python",
   "name": "python3"
  },
  "language_info": {
   "codemirror_mode": {
    "name": "ipython",
    "version": 3
   },
   "file_extension": ".py",
   "mimetype": "text/x-python",
   "name": "python",
   "nbconvert_exporter": "python",
   "pygments_lexer": "ipython3",
   "version": "3.10.8"
  }
 },
 "nbformat": 4,
 "nbformat_minor": 5
}
