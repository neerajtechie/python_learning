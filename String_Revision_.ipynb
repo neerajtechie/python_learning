{
  "nbformat": 4,
  "nbformat_minor": 0,
  "metadata": {
    "colab": {
      "provenance": []
    },
    "kernelspec": {
      "name": "python3",
      "display_name": "Python 3"
    },
    "language_info": {
      "name": "python"
    }
  },
  "cells": [
    {
      "cell_type": "markdown",
      "source": [
        "### String\n",
        "Strings in Python are sequences of characters, representing text. They are one of the most commonly used data types and offer a wide range of functionalities. Here's a comprehensive overview:"
      ],
      "metadata": {
        "id": "q-1nDF38rXQh"
      }
    },
    {
      "cell_type": "markdown",
      "source": [
        "1. Creating Strings:\n",
        "\n",
        "Strings can be created using single quotes ('...'), double quotes (\"...\"), or triple quotes ('''...''' or \"\"\"...\"\"\").\n",
        "\n",
        "Single and double quotes are interchangeable for simple strings.\n",
        "\n",
        "Triple quotes are used for multi-line strings or strings containing single or double quotes."
      ],
      "metadata": {
        "id": "BzHUAY6Nrf35"
      }
    },
    {
      "cell_type": "code",
      "source": [
        "    string1 = 'Hello, Python!'\n",
        "    string2 = \"This is a string.\"\n",
        "    string3 = '''This is a\n",
        "    multi-line string.'''\n",
        "    string4 = \"\"\"Also a multi-line string,\n",
        "    with \"double quotes\" inside.\"\"\""
      ],
      "metadata": {
        "id": "zAqRfSLdrhn_"
      },
      "execution_count": 2,
      "outputs": []
    },
    {
      "cell_type": "code",
      "source": [
        "# Defining a string using single quotes\n",
        "single_quote_str = 'Hello, World!'\n",
        "print(single_quote_str)# Output: Hello, World!"
      ],
      "metadata": {
        "colab": {
          "base_uri": "https://localhost:8080/"
        },
        "id": "9alHZEPtr-mr",
        "outputId": "6523b02d-ddb3-4136-939f-700a147b7302"
      },
      "execution_count": 2,
      "outputs": [
        {
          "output_type": "stream",
          "name": "stdout",
          "text": [
            "Hello, World!\n"
          ]
        }
      ]
    },
    {
      "cell_type": "code",
      "source": [
        "# Defining a string using double quotes\n",
        "double_quote_str = \"Hello, World!\"\n",
        "print(double_quote_str)# Output: Hello, World!"
      ],
      "metadata": {
        "colab": {
          "base_uri": "https://localhost:8080/"
        },
        "id": "As5zZfWSHk5P",
        "outputId": "e658b7fe-dd55-41be-ed0d-8be00be5aadc"
      },
      "execution_count": 3,
      "outputs": [
        {
          "output_type": "stream",
          "name": "stdout",
          "text": [
            "Hello, World!\n"
          ]
        }
      ]
    },
    {
      "cell_type": "code",
      "source": [
        "quote_str = \"It's a beautiful day!\"\n",
        "print(quote_str)# Output: It's a beautiful day!"
      ],
      "metadata": {
        "colab": {
          "base_uri": "https://localhost:8080/"
        },
        "id": "ZljY-r2VHnao",
        "outputId": "bc49eb80-db93-45a4-c596-fd5a3e39052b"
      },
      "execution_count": 4,
      "outputs": [
        {
          "output_type": "stream",
          "name": "stdout",
          "text": [
            "It's a beautiful day!\n"
          ]
        }
      ]
    },
    {
      "cell_type": "code",
      "source": [
        "quote_str = 'He said, \"Hello!\"'\n",
        "print(quote_str)# Output: He said, \"Hello!\""
      ],
      "metadata": {
        "colab": {
          "base_uri": "https://localhost:8080/"
        },
        "id": "SXmFV_FyHz6E",
        "outputId": "0b03bf01-8542-4970-9203-14c9de9db520"
      },
      "execution_count": 5,
      "outputs": [
        {
          "output_type": "stream",
          "name": "stdout",
          "text": [
            "He said, \"Hello!\"\n"
          ]
        }
      ]
    },
    {
      "cell_type": "code",
      "source": [
        "# Using escape character for single quote\n",
        "escape_str1 = 'It\\'s a beautiful day!'\n",
        "print(escape_str1)# Output: It's a beautiful day!\n",
        "\n",
        "# Using escape character for double quote\n",
        "escape_str2 = \"He said, \\\"Hello!\\\"\"\n",
        "print(escape_str2)# Output: He said, \"Hello!\""
      ],
      "metadata": {
        "colab": {
          "base_uri": "https://localhost:8080/"
        },
        "id": "81Wf-SV5H0qj",
        "outputId": "8d38c55e-61f2-4ada-d2bc-56a592a158bb"
      },
      "execution_count": 6,
      "outputs": [
        {
          "output_type": "stream",
          "name": "stdout",
          "text": [
            "It's a beautiful day!\n",
            "He said, \"Hello!\"\n"
          ]
        }
      ]
    },
    {
      "cell_type": "code",
      "source": [
        "newline_str = \"Hello,\\nWorld!\"\n",
        "print(newline_str)\n",
        "# Output:\n",
        "# Hello,\n",
        "# World!"
      ],
      "metadata": {
        "colab": {
          "base_uri": "https://localhost:8080/"
        },
        "id": "bcX2KPZIH5j1",
        "outputId": "d1aa577a-7f2c-4602-c366-a3056661757c"
      },
      "execution_count": 7,
      "outputs": [
        {
          "output_type": "stream",
          "name": "stdout",
          "text": [
            "Hello,\n",
            "World!\n"
          ]
        }
      ]
    },
    {
      "cell_type": "code",
      "source": [
        "tab_str = \"Hello,\\tWorld!\"\n",
        "print(tab_str)# Output: Hello, World!"
      ],
      "metadata": {
        "colab": {
          "base_uri": "https://localhost:8080/"
        },
        "id": "htBOfUOGIdwT",
        "outputId": "05a45318-4c99-472a-8e16-9f9753b39112"
      },
      "execution_count": 8,
      "outputs": [
        {
          "output_type": "stream",
          "name": "stdout",
          "text": [
            "Hello,\tWorld!\n"
          ]
        }
      ]
    },
    {
      "cell_type": "code",
      "source": [
        "backspace_str = \"Hello, \\bWorld!\"\n",
        "print(backspace_str)# Output: Hello,World"
      ],
      "metadata": {
        "colab": {
          "base_uri": "https://localhost:8080/"
        },
        "id": "iu3vuAkEIhBY",
        "outputId": "5096dc74-a501-4aa3-af64-4452c38093c0"
      },
      "execution_count": 9,
      "outputs": [
        {
          "output_type": "stream",
          "name": "stdout",
          "text": [
            "Hello, \bWorld!\n"
          ]
        }
      ]
    },
    {
      "cell_type": "code",
      "source": [
        "str1 = \"Hello\"\n",
        "str2 = \"World\"\n",
        "concat_str = str1 + \" \" + str2\n",
        "print(concat_str) # Output: Hello World"
      ],
      "metadata": {
        "id": "q9yXLhfmPGSw"
      },
      "execution_count": null,
      "outputs": []
    },
    {
      "cell_type": "code",
      "source": [
        "length_str = \"Hello, World!\"\n",
        "print(len(length_str)) # Output: 13"
      ],
      "metadata": {
        "id": "DcZxmMl7PoUP"
      },
      "execution_count": null,
      "outputs": []
    },
    {
      "cell_type": "markdown",
      "source": [
        "2. String Immutability:\n",
        "\n",
        "Strings in Python are immutable, meaning you cannot change the characters within a string after it's created. Any operation that appears to modify a string actually creates a new string.\n",
        "\n",
        "3. String Indexing and Slicing:\n",
        "\n",
        "Strings are ordered sequences, so you can access individual characters using indexing.\n",
        "\n",
        "Indexing starts from 0 for the first character.\n",
        "\n",
        "Negative indexing starts from -1 for the last character.\n",
        "\n",
        "Slicing allows you to extract portions of a string.\n",
        "\n",
        "string[start:stop:step]"
      ],
      "metadata": {
        "id": "ZRjAquYqSqWL"
      }
    },
    {
      "cell_type": "code",
      "source": [
        "my_string = \"Python\"\n",
        "print(my_string[0]) # Output: P\n",
        "print(my_string[-1]) # Output: n\n",
        "print(my_string[1:4]) # Output: yth\n",
        "print(my_string[:3]) # Output: Pyt\n",
        "print(my_string[2:]) # Output: thon\n",
        "print(my_string[::2]) # Output: Pto"
      ],
      "metadata": {
        "colab": {
          "base_uri": "https://localhost:8080/"
        },
        "id": "LX8kxhakS0pG",
        "outputId": "c38ef08c-5b6f-4112-db62-484228a98114"
      },
      "execution_count": 11,
      "outputs": [
        {
          "output_type": "stream",
          "name": "stdout",
          "text": [
            "P\n",
            "n\n",
            "yth\n",
            "Pyt\n",
            "thon\n",
            "Pto\n"
          ]
        }
      ]
    },
    {
      "cell_type": "code",
      "source": [
        "example_str = \"Python\"\n",
        "# Positive Indexing\n",
        "print(example_str[0]) # Output: P\n",
        "print(example_str[1]) # Output: y\n",
        "print(example_str[2]) # Output: t\n",
        "print(example_str[3]) # Output: h\n",
        "print(example_str[4]) # Output: o\n",
        "print(example_str[5]) # Output: n\n",
        "# Negative Indexing\n",
        "print(example_str[-1])  # Output: n\n",
        "print(example_str[-2])  # Output: o\n",
        "print(example_str[-3])  # Output: h\n",
        "print(example_str[-4])  # Output: t\n",
        "print(example_str[-5])  # Output: y\n",
        "print(example_str[-6])  # Output: P"
      ],
      "metadata": {
        "id": "jbnKZ7YuUU-r"
      },
      "execution_count": null,
      "outputs": []
    },
    {
      "cell_type": "code",
      "source": [
        "example_str = \"Python Programming\"\n",
        "# Slicing with positive indices\n",
        "print(example_str[0:6]) # Output: Python\n",
        "print(example_str[7:18]) # Output: Programming\n",
        "print(example_str[7:]) # Output: Programming (from index 7 to the end)\n",
        "print(example_str[:6])  # Output: Python (from start to index 6)\n",
        "# Slicing with negative indices\n",
        "print(example_str[-18:-12]) # Output: Python\n",
        "print(example_str[-11:]) # Output: Programming\n",
        "\n",
        "# Slicing with step\n",
        "print(example_str[0:18:2]) # Output: Pto rgamn (every 2nd character)\n",
        "print(example_str[::2]) # Output: Pto rgamn (from start to end, every 2nd character)\n",
        "print(example_str[::3]) # Output: Ph oai (every 3rd character)\n",
        "# Slicing with negative step (reversing the string)\n",
        "print(example_str[::-1]) # Output: gnimmargorP nohtyP (reversed string)\n",
        "print(example_str[18:0:-1]) # Output: gnimmargorP nohty"
      ],
      "metadata": {
        "colab": {
          "base_uri": "https://localhost:8080/"
        },
        "id": "vFUEKr49VDVv",
        "outputId": "cbb4cbd2-17cd-468d-85e2-c0eca5face5a"
      },
      "execution_count": 13,
      "outputs": [
        {
          "output_type": "stream",
          "name": "stdout",
          "text": [
            "Python\n",
            "Programming\n",
            "Programming\n",
            "Python\n",
            "Python\n",
            "Programming\n",
            "Pto rgamn\n",
            "Pto rgamn\n",
            "Ph oai\n",
            "gnimmargorP nohtyP\n",
            "gnimmargorP nohty\n"
          ]
        }
      ]
    },
    {
      "cell_type": "code",
      "source": [
        "print(example_str[:]) # Output: Python Programming (whole string)\n",
        "print(example_str[7:]) # Output: Programming (from index 7 to the end)\n",
        "print(example_str[:6]) # Output: Python (from start to index 6)\n",
        "print(example_str[::1]) # Output: Python Programming (every character)\n",
        "print(example_str[::2]) # Output: Pto rgamn (every 2nd character)"
      ],
      "metadata": {
        "colab": {
          "base_uri": "https://localhost:8080/"
        },
        "id": "wmM1oCVSVH_j",
        "outputId": "607496c9-4375-40d6-bafb-37155f9998b9"
      },
      "execution_count": 14,
      "outputs": [
        {
          "output_type": "stream",
          "name": "stdout",
          "text": [
            "Python Programming\n",
            "Programming\n",
            "Python\n",
            "Python Programming\n",
            "Pto rgamn\n"
          ]
        }
      ]
    },
    {
      "cell_type": "code",
      "source": [
        "reverse_str = \"Python Programming\"\n",
        "# Reversing the entire string\n",
        "print(reverse_str[::-1]) # Output: gnimmargorP nohtyP\n",
        "# Reversing a substring\n",
        "print(reverse_str[6:0:-1]) # Output: nohtyP (from index 6 to 1)\n",
        "print(reverse_str[-1:-18:-2]) # Output: gimrPnhy (every 2nd character in reverse)"
      ],
      "metadata": {
        "colab": {
          "base_uri": "https://localhost:8080/"
        },
        "id": "0bn5nRDQVM0I",
        "outputId": "e67aac92-83ca-487c-b16f-d3435cd593f8"
      },
      "execution_count": 15,
      "outputs": [
        {
          "output_type": "stream",
          "name": "stdout",
          "text": [
            "gnimmargorP nohtyP\n",
            " nohty\n",
            "gimroPnhy\n"
          ]
        }
      ]
    },
    {
      "cell_type": "code",
      "source": [
        "complex_str = \"Data Science\"\n",
        "# Extract \"Data\"\n",
        "print(complex_str[0:4])# Output: Data\n",
        "# Extract \"Science\"\n",
        "print(complex_str[5:])# Output: Science\n",
        "# Extract \"a Sc\" (characters at index 1, 3, 5, 7)\n",
        "print(complex_str[1:8:2]) # Output: a Sc\n",
        "# Extract \"ecneicS ataD\" (reverse the entire string with step)\n",
        "print(complex_str[::-1]) # Output: ecneicS ataD\n",
        "# Extract \"Sci\" using negative indices\n",
        "print(complex_str[-8:-5]) # Output: Sci\n",
        "\n",
        "### Examples Combining Indexing and Slicing\n",
        "\n",
        "combo_str = \"Machine Learning\"\n",
        "# Indexing and slicing to get \"Machine\"\n",
        "print(combo_str[0:7]) # Output: Machine\n",
        "# Indexing and slicing to get \"Learning\"\n",
        "print(combo_str[8:]) # Output: Learning\n",
        "# Getting a specific character from a slice\n",
        "slice_str = combo_str[0:7] # \"Machine\"\n",
        "print(slice_str[3]) # Output: h\n",
        "# Reverse a slice\n",
        "print(combo_str[8:][::-1]) # Output: gninraeL"
      ],
      "metadata": {
        "colab": {
          "base_uri": "https://localhost:8080/"
        },
        "id": "TK1pJgBsVRus",
        "outputId": "98f39388-99aa-475e-e6b1-c8f1e5c80e4d"
      },
      "execution_count": 16,
      "outputs": [
        {
          "output_type": "stream",
          "name": "stdout",
          "text": [
            "Data\n",
            "Science\n",
            "aaSi\n",
            "ecneicS ataD\n",
            " Sc\n",
            "Machine\n",
            "Learning\n",
            "h\n",
            "gninraeL\n"
          ]
        }
      ]
    },
    {
      "cell_type": "code",
      "source": [
        "# Defining strings with different quotes\n",
        "single_quote_str = 'Single quotes'\n",
        "double_quote_str = \"Double quotes\"\n",
        "mixed_quote_str = \"It's a mix of quotes\"\n",
        "\n",
        "# Special characters\n",
        "special_char_str = \"Hello,\\nWorld!\\tHow are you?\\bGood!\"\n",
        "# Concatenation\n",
        "concat_str = single_quote_str + \" and \" + double_quote_str\n",
        "# Length\n",
        "length_of_concat_str = len(concat_str)\n",
        "# Indexing\n",
        "first_char = concat_str[0]\n",
        "last_char = concat_str[-1]\n",
        "# Slicing\n",
        "middle_section = concat_str[7:19]\n",
        "# Printing all results\n",
        "print(single_quote_str) # Output: Single quotes\n",
        "print(double_quote_str) # Output: Double quotes\n",
        "print(mixed_quote_str)  #Output: It's a mix of quotes\n",
        "print(special_char_str)\n",
        "# Output:\n",
        "# Hello,\n",
        "# World!\tHow are you?Good!\n",
        "print(concat_str) # Output: Single quotes and Double quotes\n",
        "print(length_of_concat_str) # Output: 31\n",
        "print(first_char) # Output: S\n",
        "print(last_char) # Output: s\n",
        "print(middle_section) # Output: quotes and D"
      ],
      "metadata": {
        "colab": {
          "base_uri": "https://localhost:8080/"
        },
        "id": "uByWtrFcVTi_",
        "outputId": "72e4dafd-a495-407f-9840-d94d92ce0280"
      },
      "execution_count": 17,
      "outputs": [
        {
          "output_type": "stream",
          "name": "stdout",
          "text": [
            "Single quotes\n",
            "Double quotes\n",
            "It's a mix of quotes\n",
            "Hello,\n",
            "World!\tHow are you?\bGood!\n",
            "Single quotes and Double quotes\n",
            "31\n",
            "S\n",
            "s\n",
            "quotes and D\n"
          ]
        }
      ]
    },
    {
      "cell_type": "markdown",
      "source": [
        "4. String Operations:\n",
        "\n",
        "Concatenation (+): Combines two or more strings."
      ],
      "metadata": {
        "id": "1lqe1VQ9egJ-"
      }
    },
    {
      "cell_type": "code",
      "source": [
        "str1 = \"Hello\"\n",
        "str2 = \"World\"\n",
        "result = str1 + \", \" + str2\n",
        "print(result) #output: Hello, World"
      ],
      "metadata": {
        "colab": {
          "base_uri": "https://localhost:8080/"
        },
        "id": "8k_7ZtvRVVpH",
        "outputId": "6fde8da6-4ef7-43ae-d339-f009d9f3532b"
      },
      "execution_count": 18,
      "outputs": [
        {
          "output_type": "stream",
          "name": "stdout",
          "text": [
            "Hello, World\n"
          ]
        }
      ]
    },
    {
      "cell_type": "markdown",
      "source": [
        "Repetition (*): Repeats a string multiple times."
      ],
      "metadata": {
        "id": "NQlXQsTxeuQU"
      }
    },
    {
      "cell_type": "code",
      "source": [
        "str1 = \"Madhu \"\n",
        "result = str1 * 4\n",
        "print(result) #output: abcabcabc"
      ],
      "metadata": {
        "colab": {
          "base_uri": "https://localhost:8080/"
        },
        "id": "kezPe8qOeoBz",
        "outputId": "3d827235-7012-45b7-ca8b-ae745f0426a2"
      },
      "execution_count": 20,
      "outputs": [
        {
          "output_type": "stream",
          "name": "stdout",
          "text": [
            "Madhu Madhu Madhu Madhu \n"
          ]
        }
      ]
    },
    {
      "cell_type": "markdown",
      "source": [
        "Membership (in, not in): Checks if a substring is present in a string."
      ],
      "metadata": {
        "id": "8FWWi3tkgxsr"
      }
    },
    {
      "cell_type": "code",
      "source": [
        "str1 = \"Python\"\n",
        "print(\"Py\" in str1) #output: True\n",
        "print(\"Java\" not in str1) #output: True?"
      ],
      "metadata": {
        "colab": {
          "base_uri": "https://localhost:8080/"
        },
        "id": "PMHeWx8Zezt9",
        "outputId": "7b4135ac-f499-4c8b-8732-19b3ba793fb1"
      },
      "execution_count": 21,
      "outputs": [
        {
          "output_type": "stream",
          "name": "stdout",
          "text": [
            "True\n",
            "True\n"
          ]
        }
      ]
    },
    {
      "cell_type": "markdown",
      "source": [
        "5. String Methods:\n",
        "\n",
        "Python provides numerous built-in string methods for various operations:\n",
        "\n",
        "\n",
        "len(): Returns the length of a string.\n",
        "\n",
        "lower(): Converts a string to lowercase.\n",
        "\n",
        "upper(): Converts a string to uppercase.\n",
        "\n",
        "strip(): Removes leading and trailing whitespace.\n",
        "\n",
        "split(): Splits a string into a list of substrings.\n",
        "\n",
        "join(): Joins a list of strings into a single string.\n",
        "\n",
        "find(): Returns the index of the first occurrence of a substring.\n",
        "\n",
        "replace(): Replaces occurrences of a substring with another substring.\n",
        "\n",
        "format() or f-strings: Formats strings with variables.\n",
        "\n",
        "f-strings are more modern, and generally preferable.\n",
        "\n",
        "format() is also still very useful."
      ],
      "metadata": {
        "id": "ZlU0-m-Bg7d9"
      }
    },
    {
      "cell_type": "code",
      "source": [
        "str1=\"I am a learner\"\n",
        "print(str1.endswith('er'))\n"
      ],
      "metadata": {
        "colab": {
          "base_uri": "https://localhost:8080/"
        },
        "id": "vXFoj0OJg2rb",
        "outputId": "f09134f9-2b06-4d99-890b-d056b1f07574"
      },
      "execution_count": 3,
      "outputs": [
        {
          "output_type": "stream",
          "name": "stdout",
          "text": [
            "True\n"
          ]
        }
      ]
    },
    {
      "cell_type": "code",
      "source": [
        "str2=\"python\"\n",
        "print(str2.capitalize())"
      ],
      "metadata": {
        "colab": {
          "base_uri": "https://localhost:8080/"
        },
        "id": "dP9WToGwKOmP",
        "outputId": "f415d2c9-8db8-4f47-a1ea-ce6a5236806b"
      },
      "execution_count": 4,
      "outputs": [
        {
          "output_type": "stream",
          "name": "stdout",
          "text": [
            "Python\n"
          ]
        }
      ]
    },
    {
      "cell_type": "code",
      "source": [
        "str3=\"I am continuous Learner\"\n",
        "print(str3.replace('a','o'))"
      ],
      "metadata": {
        "colab": {
          "base_uri": "https://localhost:8080/"
        },
        "id": "MiRU7Sa4Kmhv",
        "outputId": "668b90b1-9db1-4846-d500-501a86a54302"
      },
      "execution_count": 5,
      "outputs": [
        {
          "output_type": "stream",
          "name": "stdout",
          "text": [
            "I om continuous Leorner\n"
          ]
        }
      ]
    },
    {
      "cell_type": "code",
      "source": [
        "print(str3.find(\"om\"))"
      ],
      "metadata": {
        "colab": {
          "base_uri": "https://localhost:8080/"
        },
        "id": "AOxOmojBLQAE",
        "outputId": "202ff342-43bb-4565-d802-9c081654f544"
      },
      "execution_count": 12,
      "outputs": [
        {
          "output_type": "stream",
          "name": "stdout",
          "text": [
            "-1\n"
          ]
        }
      ]
    },
    {
      "cell_type": "code",
      "source": [
        "print(str3.count(\"c\"))"
      ],
      "metadata": {
        "colab": {
          "base_uri": "https://localhost:8080/"
        },
        "id": "X-zAUMYPL4mW",
        "outputId": "f0ef185e-3d39-4aba-fb48-f19576d16e3f"
      },
      "execution_count": 11,
      "outputs": [
        {
          "output_type": "stream",
          "name": "stdout",
          "text": [
            "1\n"
          ]
        }
      ]
    },
    {
      "cell_type": "code",
      "source": [
        "text = \"  Python is fun!  \"\n",
        "print(len(text)) #output: 17\n",
        "print(text.lower()) #output: \"  python is fun!  \"\n",
        "print(text.strip()) #output: \"Python is fun!\"\n",
        "print(text.split()) #output: ['Python', 'is', 'fun!']\n",
        "words = [\"Hello\", \"World\"]\n",
        "print(\" \".join(words)) #output: Hello World\n",
        "print(text.find(\"fun\")) #output: 12\n",
        "print(text.replace(\"fun\", \"awesome\")) #output: \"  Python is awesome!  \"\n",
        "\n",
        "name = \"Alice\"\n",
        "age = 30\n",
        "print(f\"My name is {name} and I am {age} years old.\") #f-string\n",
        "print(\"My name is {} and I am {} years old.\".format(name, age)) #format()"
      ],
      "metadata": {
        "colab": {
          "base_uri": "https://localhost:8080/"
        },
        "id": "txbULtWpNIHG",
        "outputId": "86aa7f84-8bc5-464b-93a9-df1e923b9601"
      },
      "execution_count": 14,
      "outputs": [
        {
          "output_type": "stream",
          "name": "stdout",
          "text": [
            "18\n",
            "  python is fun!  \n",
            "Python is fun!\n",
            "['Python', 'is', 'fun!']\n",
            "Hello World\n",
            "12\n",
            "  Python is awesome!  \n",
            "My name is Alice and I am 30 years old.\n",
            "My name is Alice and I am 30 years old.\n"
          ]
        }
      ]
    },
    {
      "cell_type": "code",
      "source": [
        "str1=\"hello World\"\n",
        "print(str1.endswith(\"d\"))\n",
        "print(str1.endswith('World'))\n",
        "print(str1.endswith('Worl'))"
      ],
      "metadata": {
        "colab": {
          "base_uri": "https://localhost:8080/"
        },
        "id": "tp4G4kLkOK7A",
        "outputId": "d421e3e7-155a-411e-d173-2d65a2ddf351"
      },
      "execution_count": 16,
      "outputs": [
        {
          "output_type": "stream",
          "name": "stdout",
          "text": [
            "True\n",
            "True\n",
            "False\n"
          ]
        }
      ]
    },
    {
      "cell_type": "code",
      "source": [
        "str1 = \"hello, world!\"\n",
        "print(str1.capitalize())   # Output: Hello, world!"
      ],
      "metadata": {
        "colab": {
          "base_uri": "https://localhost:8080/"
        },
        "id": "bnVT9TQmQUYj",
        "outputId": "3437d19a-50c9-4502-9d67-b254362d511a"
      },
      "execution_count": 18,
      "outputs": [
        {
          "output_type": "stream",
          "name": "stdout",
          "text": [
            "Hello, world!\n"
          ]
        }
      ]
    },
    {
      "cell_type": "code",
      "source": [
        "list1 = ['apple', 'banana', 'cherry']\n",
        "print(\", \".join(list1)) # Output: apple, banana, cherry"
      ],
      "metadata": {
        "colab": {
          "base_uri": "https://localhost:8080/"
        },
        "id": "3_cdOOW0QaQx",
        "outputId": "13ac7195-9472-4c82-9252-635396d759c4"
      },
      "execution_count": 19,
      "outputs": [
        {
          "output_type": "stream",
          "name": "stdout",
          "text": [
            "apple, banana, cherry\n"
          ]
        }
      ]
    },
    {
      "cell_type": "code",
      "source": [
        "# Positional arguments\n",
        "str1 = \"Name: {}, Age: {}\"\n",
        "print(str1.format(\"Alice\", 30)) # Output: Name: Alice, Age: 30\n",
        "# Keyword arguments\n",
        "str2 = \"Name: {name}, Age: {age}\"\n",
        "print(str2.format(name=\"Bob\", age=25)) # Output: Name: Bob, Age: 25"
      ],
      "metadata": {
        "colab": {
          "base_uri": "https://localhost:8080/"
        },
        "id": "tmMI3VdGQlDn",
        "outputId": "724b1b77-90b1-4454-8bb1-f51368ade06a"
      },
      "execution_count": 20,
      "outputs": [
        {
          "output_type": "stream",
          "name": "stdout",
          "text": [
            "Name: Alice, Age: 30\n",
            "Name: Bob, Age: 25\n"
          ]
        }
      ]
    },
    {
      "cell_type": "code",
      "source": [
        "str1 = \" python is Fun! \"\n",
        "# Strip leading and trailing spaces\n",
        "stripped_str = str1.strip()\n",
        "print(stripped_str) # Output: python is Fun!\n",
        "\n",
        "# Capitalize the string\n",
        "capitalized_str = stripped_str.capitalize()\n",
        "print(capitalized_str) # Output: Python is fun!\n",
        "\n",
        "# Replace a substring\n",
        "replaced_str = capitalized_str.replace(\"fun\", \"awesome\")\n",
        "print(replaced_str) # Output: Python is awesome!\n",
        "# Check if the string starts with \"Python\"\n",
        "print(replaced_str.startswith(\"Python\")) # Output: True\n",
        "\n",
        "# Find the index of a substring\n",
        "index = replaced_str.find(\"is\")\n",
        "print(index) # Output: 7\n",
        "\n",
        "# Count occurrences of a substring\n",
        "count = replaced_str.count(\"is\")\n",
        "print(count) # Output: 1\n",
        "\n",
        "# Split the string into a list\n",
        "split_list = replaced_str.split()\n",
        "print(split_list) # Output: ['Python', 'is', 'awesome']\n",
        "# Join the list back into a string\n",
        "joined_str = \" \".join(split_list)\n",
        "print(joined_str) # Output: Python is awesome\n",
        "\n",
        "# Convert to uppercase\n",
        "upper_str = joined_str.upper()\n",
        "print(upper_str) # Output: PYTHON IS AWESOME\n",
        "# Convert to lowercase\n",
        "lower_str = upper_str.lower()\n",
        "print(lower_str) # Output: python is awesome\n",
        "\n",
        "# Format a string with placeholders\n",
        "formatted_str = \"Message: {}, Code: {}\".format(\"Success\", 200)\n",
        "print(formatted_str) # Output: Message: Success, Code: 200"
      ],
      "metadata": {
        "colab": {
          "base_uri": "https://localhost:8080/"
        },
        "id": "kNDJP0jHQwX2",
        "outputId": "045b4fa6-5449-4805-e2ac-16b0c6badad3"
      },
      "execution_count": 22,
      "outputs": [
        {
          "output_type": "stream",
          "name": "stdout",
          "text": [
            "python is Fun!\n",
            "Python is fun!\n",
            "Python is awesome!\n",
            "True\n",
            "7\n",
            "1\n",
            "['Python', 'is', 'awesome!']\n",
            "Python is awesome!\n",
            "PYTHON IS AWESOME!\n",
            "python is awesome!\n",
            "Message: Success, Code: 200\n"
          ]
        }
      ]
    },
    {
      "cell_type": "code",
      "source": [],
      "metadata": {
        "id": "pS1R5UZZSY2P"
      },
      "execution_count": null,
      "outputs": []
    },
    {
      "cell_type": "code",
      "source": [
        "a= \"hello World is FiRST Program\"\n",
        "res=a.casefold()\n",
        "print(res)"
      ],
      "metadata": {
        "colab": {
          "base_uri": "https://localhost:8080/"
        },
        "id": "xZ9_mlqVSTFx",
        "outputId": "712f94eb-1e6c-41f4-d245-a49867049df6"
      },
      "execution_count": 23,
      "outputs": [
        {
          "output_type": "stream",
          "name": "stdout",
          "text": [
            "hello world is first program\n"
          ]
        }
      ]
    },
    {
      "cell_type": "code",
      "source": [
        "x='Hello'\n",
        "print(x.center(10,'o'))\n",
        "print(x.center(15,'h'))"
      ],
      "metadata": {
        "colab": {
          "base_uri": "https://localhost:8080/"
        },
        "id": "yJMLd04gQ9fX",
        "outputId": "962d3eb0-da48-4e38-8a09-3fb7a58bb7a5"
      },
      "execution_count": 25,
      "outputs": [
        {
          "output_type": "stream",
          "name": "stdout",
          "text": [
            "ooHelloooo\n",
            "hhhhhHellohhhhh\n"
          ]
        }
      ]
    },
    {
      "cell_type": "code",
      "source": [
        "var=\"Format to 2 digits {n:.2f}\"\n",
        "print(var.format(n=20.7811))"
      ],
      "metadata": {
        "colab": {
          "base_uri": "https://localhost:8080/"
        },
        "id": "ZOu_JH4hS-4X",
        "outputId": "0cf78665-0147-4091-b8ce-54ca7141ef10"
      },
      "execution_count": 26,
      "outputs": [
        {
          "output_type": "stream",
          "name": "stdout",
          "text": [
            "Format to 2 digits 20.78\n"
          ]
        }
      ]
    },
    {
      "cell_type": "markdown",
      "source": [
        "Deleting and Updating String"
      ],
      "metadata": {
        "id": "qyWDo1wYT21A"
      }
    },
    {
      "cell_type": "code",
      "source": [],
      "metadata": {
        "id": "pVKAnk1XTiko"
      },
      "execution_count": 29,
      "outputs": []
    },
    {
      "cell_type": "code",
      "source": [
        "str1=\"Hello World\"\n",
        "str2 = str1[:5] + 'w' + str1[7:]\n",
        "print(str2)"
      ],
      "metadata": {
        "colab": {
          "base_uri": "https://localhost:8080/"
        },
        "id": "ODHQ1WNyUAtN",
        "outputId": "b91f0834-49a4-4e5f-c665-4caffb04fa62"
      },
      "execution_count": 4,
      "outputs": [
        {
          "output_type": "stream",
          "name": "stdout",
          "text": [
            "Helloworld\n"
          ]
        }
      ]
    },
    {
      "cell_type": "code",
      "source": [
        "str1= \"Hi People ! This is your bro \"\n",
        "new_str = str1.replace('bro','Brother')\n",
        "print(new_str)"
      ],
      "metadata": {
        "colab": {
          "base_uri": "https://localhost:8080/"
        },
        "id": "sWGzdSgDK8Wg",
        "outputId": "42ccc70b-5f87-4693-a987-3ffc6b94af75"
      },
      "execution_count": 5,
      "outputs": [
        {
          "output_type": "stream",
          "name": "stdout",
          "text": [
            "Hi People ! This is your Brother \n"
          ]
        }
      ]
    },
    {
      "cell_type": "code",
      "source": [
        "str1 = \"Hello, World!\"\n",
        "str_list = list(str1)\n",
        "print(str_list)\n",
        "str_list[7] = 'w'# Update 'W' to 'w'\n",
        "new_str = ''.join(str_list)\n",
        "print(new_str) # Output: Hello, world!"
      ],
      "metadata": {
        "colab": {
          "base_uri": "https://localhost:8080/"
        },
        "id": "JP6S8BOoOHwr",
        "outputId": "359e8117-6eb8-494f-f26a-1e77ea0a9489"
      },
      "execution_count": 7,
      "outputs": [
        {
          "output_type": "stream",
          "name": "stdout",
          "text": [
            "['H', 'e', 'l', 'l', 'o', ',', ' ', 'W', 'o', 'r', 'l', 'd', '!']\n",
            "Hello, world!\n"
          ]
        }
      ]
    },
    {
      "cell_type": "code",
      "source": [
        "str1 = \"Hello, World!\"\n",
        "# Delete 'W'\n",
        "new_str = str1[:7] + str1[8:]\n",
        "print(new_str) # Output: Hello, orld!"
      ],
      "metadata": {
        "colab": {
          "base_uri": "https://localhost:8080/"
        },
        "id": "EiIJGmnIPV-x",
        "outputId": "f0c93557-811e-41ae-f876-ad8ae9d4b4ab"
      },
      "execution_count": 8,
      "outputs": [
        {
          "output_type": "stream",
          "name": "stdout",
          "text": [
            "Hello, orld!\n"
          ]
        }
      ]
    },
    {
      "cell_type": "code",
      "source": [
        "str1 = \"Hello, World! Welcome to the World!\"\n",
        "# Delete all occurrences of 'World'\n",
        "new_str = str1.replace(\"World\", \"\")\n",
        "print(new_str) # Output: Hello, ! Welcome to the !"
      ],
      "metadata": {
        "colab": {
          "base_uri": "https://localhost:8080/"
        },
        "id": "bwgD2RzVPjlR",
        "outputId": "846b5953-a457-4411-cdcd-493ace46b6bf"
      },
      "execution_count": 9,
      "outputs": [
        {
          "output_type": "stream",
          "name": "stdout",
          "text": [
            "Hello, ! Welcome to the !\n"
          ]
        }
      ]
    },
    {
      "cell_type": "code",
      "source": [
        "str1 = \"Hello, World! 12345\"\n",
        "# Update 'W' to 'w' and delete all digits\n",
        "str_list = list(str1.replace('W', 'w'))\n",
        "new_str = ''.join([char for char in str_list if not char.isdigit()])\n",
        "print(new_str)\n",
        "# Output: Hello, world!"
      ],
      "metadata": {
        "colab": {
          "base_uri": "https://localhost:8080/"
        },
        "id": "-uY7N0fEPlle",
        "outputId": "e1cbd83c-fb5d-4cbb-b0c6-4219ec13fc85"
      },
      "execution_count": 10,
      "outputs": [
        {
          "output_type": "stream",
          "name": "stdout",
          "text": [
            "Hello, world! \n"
          ]
        }
      ]
    },
    {
      "cell_type": "code",
      "source": [
        "str1 = \"Hello, World!\"\n",
        "# Delete the entire string\n",
        "del str1\n",
        "# Trying to print str1 will raise a NameError as str1 no longer exists\n",
        "try:\n",
        "  print(str1)\n",
        "except NameError:\n",
        "  print(\"str1 is deleted.\") # Output: str1 is deleted."
      ],
      "metadata": {
        "colab": {
          "base_uri": "https://localhost:8080/"
        },
        "id": "jGS34T_gPphv",
        "outputId": "df103573-1335-47a8-bf05-80ba570ed55f"
      },
      "execution_count": 11,
      "outputs": [
        {
          "output_type": "stream",
          "name": "stdout",
          "text": [
            "str1 is deleted.\n"
          ]
        }
      ]
    },
    {
      "cell_type": "code",
      "source": [],
      "metadata": {
        "id": "syHpHXFPPzCK"
      },
      "execution_count": null,
      "outputs": []
    }
  ]
}