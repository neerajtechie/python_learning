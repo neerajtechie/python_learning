{
  "nbformat": 4,
  "nbformat_minor": 0,
  "metadata": {
    "colab": {
      "provenance": [],
      "collapsed_sections": [
        "NRkP2z3M2SQZ",
        "xWMgoHcZOIuv",
        "Qes2i3B_K7-T",
        "c93TmknTN9jK",
        "2cuTwiKoNa01"
      ]
    },
    "kernelspec": {
      "name": "python3",
      "display_name": "Python 3"
    },
    "language_info": {
      "name": "python"
    }
  },
  "cells": [
    {
      "cell_type": "markdown",
      "source": [
        "### \" All about Print() \""
      ],
      "metadata": {
        "id": "NRkP2z3M2SQZ"
      }
    },
    {
      "cell_type": "code",
      "source": [
        "print(\"Hello Duniya\", \"This is my first Pyhton Print code\")"
      ],
      "metadata": {
        "colab": {
          "base_uri": "https://localhost:8080/"
        },
        "id": "k-avap2l2qDV",
        "outputId": "1f63df87-9913-4d9b-9d0e-e01f1012c748"
      },
      "execution_count": 1,
      "outputs": [
        {
          "output_type": "stream",
          "name": "stdout",
          "text": [
            "Hello Duniya This is my first Pyhton Print code\n"
          ]
        }
      ]
    },
    {
      "cell_type": "code",
      "source": [
        "print('Hello')\n",
        "print('World')"
      ],
      "metadata": {
        "colab": {
          "base_uri": "https://localhost:8080/"
        },
        "id": "D_ZtAoQN7ZLI",
        "outputId": "6bf6b94c-fc73-4af1-964b-050b36ac9181"
      },
      "execution_count": 2,
      "outputs": [
        {
          "output_type": "stream",
          "name": "stdout",
          "text": [
            "Hello\n",
            "World\n"
          ]
        }
      ]
    },
    {
      "cell_type": "code",
      "source": [
        "print(\"Hello\", \"world\", sep=\"-\")"
      ],
      "metadata": {
        "colab": {
          "base_uri": "https://localhost:8080/"
        },
        "id": "bmadJAMz7j2_",
        "outputId": "7d316ab7-0166-4ae8-ae9a-47191286e868"
      },
      "execution_count": 3,
      "outputs": [
        {
          "output_type": "stream",
          "name": "stdout",
          "text": [
            "Hello-world\n"
          ]
        }
      ]
    },
    {
      "cell_type": "code",
      "source": [
        "print(\"Hello\", \"world\")"
      ],
      "metadata": {
        "colab": {
          "base_uri": "https://localhost:8080/"
        },
        "id": "S-zVC2HX8M4p",
        "outputId": "1691b7ae-5a81-420b-b476-2c0eb5a38ee2"
      },
      "execution_count": 4,
      "outputs": [
        {
          "output_type": "stream",
          "name": "stdout",
          "text": [
            "Hello world\n"
          ]
        }
      ]
    },
    {
      "cell_type": "code",
      "source": [
        "print(\"Hello\")"
      ],
      "metadata": {
        "colab": {
          "base_uri": "https://localhost:8080/"
        },
        "id": "1QAjkvVY8RHD",
        "outputId": "9b381235-04da-4820-f4f3-0e7c9879146c"
      },
      "execution_count": 5,
      "outputs": [
        {
          "output_type": "stream",
          "name": "stdout",
          "text": [
            "Hello\n"
          ]
        }
      ]
    },
    {
      "cell_type": "code",
      "source": [
        "print(\"Hello\", end=\"!\")"
      ],
      "metadata": {
        "colab": {
          "base_uri": "https://localhost:8080/"
        },
        "id": "ZZHugZNg8Zut",
        "outputId": "a94bebde-1642-46f2-f328-4bc49bb054b8"
      },
      "execution_count": 6,
      "outputs": [
        {
          "output_type": "stream",
          "name": "stdout",
          "text": [
            "Hello!"
          ]
        }
      ]
    },
    {
      "cell_type": "code",
      "source": [
        "name = \"Alice\"\n",
        "age = 30\n",
        "print(\"Name:\", name, \"Age:\", age)"
      ],
      "metadata": {
        "colab": {
          "base_uri": "https://localhost:8080/"
        },
        "id": "zWqmjA408acu",
        "outputId": "7b74033d-fec8-48e1-fa55-4f219d80940a"
      },
      "execution_count": 7,
      "outputs": [
        {
          "output_type": "stream",
          "name": "stdout",
          "text": [
            "Name: Alice Age: 30\n"
          ]
        }
      ]
    },
    {
      "cell_type": "code",
      "source": [
        "name=\"neer\"\n",
        "print(\"My name is\",name)"
      ],
      "metadata": {
        "colab": {
          "base_uri": "https://localhost:8080/"
        },
        "id": "oYcS4fp181cL",
        "outputId": "b3f7fc40-1d74-45bc-b131-5d6fa489cb44"
      },
      "execution_count": 8,
      "outputs": [
        {
          "output_type": "stream",
          "name": "stdout",
          "text": [
            "My name is neer\n"
          ]
        }
      ]
    },
    {
      "cell_type": "code",
      "source": [
        "print(\"apple\", \"banana\", \"cherry\", sep=\", \", end=\".\\n\")"
      ],
      "metadata": {
        "colab": {
          "base_uri": "https://localhost:8080/"
        },
        "id": "EOWwCi178-vR",
        "outputId": "4a508dfd-5b59-4a34-e520-8eba3de028b3"
      },
      "execution_count": 9,
      "outputs": [
        {
          "output_type": "stream",
          "name": "stdout",
          "text": [
            "apple, banana, cherry.\n"
          ]
        }
      ]
    },
    {
      "cell_type": "code",
      "source": [
        "print(\"My\",\"name\",\"is\",\"neer\",sep=\"_\",end=\".\\n\")"
      ],
      "metadata": {
        "colab": {
          "base_uri": "https://localhost:8080/"
        },
        "id": "xFSfx59b9HaN",
        "outputId": "538214e6-eab4-49c6-9e6d-8298d6b09099"
      },
      "execution_count": 10,
      "outputs": [
        {
          "output_type": "stream",
          "name": "stdout",
          "text": [
            "My_name_is_neer.\n"
          ]
        }
      ]
    },
    {
      "cell_type": "code",
      "source": [
        "with open(\"output.txt\", \"w\") as f:\n",
        "    print(\"This text goes to the file.\", file=f)"
      ],
      "metadata": {
        "id": "T6JAxG_E9gBM"
      },
      "execution_count": 11,
      "outputs": []
    },
    {
      "cell_type": "code",
      "source": [
        "name = \"Bob\"\n",
        "age = 25\n",
        "print(f\"My name is {name} and I am {age} years old.\")"
      ],
      "metadata": {
        "colab": {
          "base_uri": "https://localhost:8080/"
        },
        "id": "NTdknTiK9oyt",
        "outputId": "f139029b-c490-4822-dce0-237a3986fe91"
      },
      "execution_count": 12,
      "outputs": [
        {
          "output_type": "stream",
          "name": "stdout",
          "text": [
            "My name is Bob and I am 25 years old.\n"
          ]
        }
      ]
    },
    {
      "cell_type": "code",
      "source": [
        "name =\"neer\"\n",
        "class_7 = \"7th\"\n",
        "age = \"9\"\n",
        "print(f\"My name is {name}. I am {age} old and I am studying in {class_7}\")"
      ],
      "metadata": {
        "colab": {
          "base_uri": "https://localhost:8080/"
        },
        "id": "BGzsQi9T99-K",
        "outputId": "f64a66c1-7ff7-43d9-ec54-39d13d5784fe"
      },
      "execution_count": 13,
      "outputs": [
        {
          "output_type": "stream",
          "name": "stdout",
          "text": [
            "My name is neer. I am 9 old and I am studying in 7th\n"
          ]
        }
      ]
    },
    {
      "cell_type": "code",
      "source": [
        "#this\n",
        "#is\n",
        "#single\n",
        "#line\n",
        "#comment\n",
        "print('This is single line comment')"
      ],
      "metadata": {
        "colab": {
          "base_uri": "https://localhost:8080/"
        },
        "id": "R5UAe1mo-dYr",
        "outputId": "49792512-8925-4f18-e3a3-f8fc6d2edb5d"
      },
      "execution_count": 14,
      "outputs": [
        {
          "output_type": "stream",
          "name": "stdout",
          "text": [
            "This is single line comment\n"
          ]
        }
      ]
    },
    {
      "cell_type": "code",
      "source": [
        "'''\n",
        "This\n",
        "is multi\n",
        "line\n",
        "comment\n",
        "'''\n",
        "print(\"This is multiline comment\")"
      ],
      "metadata": {
        "colab": {
          "base_uri": "https://localhost:8080/"
        },
        "id": "tkgIpiRP-utE",
        "outputId": "b68ec9f6-ab18-4ce5-dd20-624f614a3b5e"
      },
      "execution_count": 16,
      "outputs": [
        {
          "output_type": "stream",
          "name": "stdout",
          "text": [
            "This is multiline comment\n"
          ]
        }
      ]
    },
    {
      "cell_type": "code",
      "source": [
        "a = 10\n",
        "b = 5\n",
        "result = a + b\n",
        "print(result)# Output: 15\n",
        "print(a)"
      ],
      "metadata": {
        "colab": {
          "base_uri": "https://localhost:8080/"
        },
        "id": "IDtrbGv9_Mpr",
        "outputId": "70d247c7-eea6-4b1d-bc8a-f28f3e2f507f"
      },
      "execution_count": 20,
      "outputs": [
        {
          "output_type": "stream",
          "name": "stdout",
          "text": [
            "15\n",
            "10\n"
          ]
        }
      ]
    },
    {
      "cell_type": "code",
      "source": [
        "a = 10\n",
        "b = 5\n",
        "result = a - b\n",
        "print(result) #Output: 5"
      ],
      "metadata": {
        "colab": {
          "base_uri": "https://localhost:8080/"
        },
        "id": "_k0yCavi_VZz",
        "outputId": "6e32b3d2-7a10-4b3b-8040-d2069e7a5fb0"
      },
      "execution_count": 22,
      "outputs": [
        {
          "output_type": "stream",
          "name": "stdout",
          "text": [
            "5\n"
          ]
        }
      ]
    },
    {
      "cell_type": "code",
      "source": [
        "a = 10\n",
        "b = 5\n",
        "result = a*b\n",
        "print(result)\n",
        "#Output:50"
      ],
      "metadata": {
        "colab": {
          "base_uri": "https://localhost:8080/"
        },
        "id": "dwTaMk45_lZL",
        "outputId": "d2bda1a0-b88f-4bde-f4e2-c350bac210d1"
      },
      "execution_count": 28,
      "outputs": [
        {
          "output_type": "stream",
          "name": "stdout",
          "text": [
            "50\n"
          ]
        }
      ]
    },
    {
      "cell_type": "code",
      "source": [
        "a = 10\n",
        "b = 4\n",
        "result = a / b\n",
        "print(result) #Output: 2.5\n"
      ],
      "metadata": {
        "colab": {
          "base_uri": "https://localhost:8080/"
        },
        "id": "wQxYvUuZ_scF",
        "outputId": "92679815-86ba-417d-a008-6e2162ad5451"
      },
      "execution_count": 29,
      "outputs": [
        {
          "output_type": "stream",
          "name": "stdout",
          "text": [
            "2.5\n"
          ]
        }
      ]
    },
    {
      "cell_type": "code",
      "source": [
        "a = 10\n",
        "b = 4\n",
        "result = a % b\n",
        "print(result)# Output: 2 remainder"
      ],
      "metadata": {
        "colab": {
          "base_uri": "https://localhost:8080/"
        },
        "id": "Y_4V7FxH__oJ",
        "outputId": "d60d8c9f-85eb-4bfc-ac50-44a96ac2d08d"
      },
      "execution_count": 31,
      "outputs": [
        {
          "output_type": "stream",
          "name": "stdout",
          "text": [
            "2\n"
          ]
        }
      ]
    },
    {
      "cell_type": "code",
      "source": [
        "a = 11\n",
        "b = 4\n",
        "result = a % b\n",
        "print(result)# Output: 2 remainder"
      ],
      "metadata": {
        "colab": {
          "base_uri": "https://localhost:8080/"
        },
        "id": "3epWWj-cA0tA",
        "outputId": "2daf0e5f-16d6-4f9e-a57f-29281e10cf68"
      },
      "execution_count": 32,
      "outputs": [
        {
          "output_type": "stream",
          "name": "stdout",
          "text": [
            "3\n"
          ]
        }
      ]
    },
    {
      "cell_type": "code",
      "source": [
        "a = 2\n",
        "b = 3\n",
        "result = a**b\n",
        "print(result)# Output: 8"
      ],
      "metadata": {
        "colab": {
          "base_uri": "https://localhost:8080/"
        },
        "id": "ttvkRPE6A4dg",
        "outputId": "b55ea9ca-d7fa-4a46-bf88-bea6c2b1e138"
      },
      "execution_count": 38,
      "outputs": [
        {
          "output_type": "stream",
          "name": "stdout",
          "text": [
            "8\n"
          ]
        }
      ]
    },
    {
      "cell_type": "code",
      "source": [
        "a=10\n",
        "b=3\n",
        "c= a**b\n",
        "print(c)"
      ],
      "metadata": {
        "colab": {
          "base_uri": "https://localhost:8080/"
        },
        "id": "eOWcJ6m5BEBO",
        "outputId": "6c5eb52d-9f82-4586-98a8-fcc3bc695573"
      },
      "execution_count": 40,
      "outputs": [
        {
          "output_type": "stream",
          "name": "stdout",
          "text": [
            "1000\n"
          ]
        }
      ]
    },
    {
      "cell_type": "code",
      "source": [
        "a = 10\n",
        "b = 4\n",
        "result = a // b\n",
        "print(result)# Output: 2"
      ],
      "metadata": {
        "colab": {
          "base_uri": "https://localhost:8080/"
        },
        "id": "hpVlqFp2BODb",
        "outputId": "b6bfc0f3-bf78-403e-e365-d38eda9eb31d"
      },
      "execution_count": 41,
      "outputs": [
        {
          "output_type": "stream",
          "name": "stdout",
          "text": [
            "2\n"
          ]
        }
      ]
    },
    {
      "cell_type": "code",
      "source": [
        "a = 22\n",
        "b = 4\n",
        "result = a // b\n",
        "print(result)#"
      ],
      "metadata": {
        "colab": {
          "base_uri": "https://localhost:8080/"
        },
        "id": "_TPDLrI4Bog2",
        "outputId": "354abc15-7fe2-4960-f410-ac2857d09173"
      },
      "execution_count": 42,
      "outputs": [
        {
          "output_type": "stream",
          "name": "stdout",
          "text": [
            "5\n"
          ]
        }
      ]
    },
    {
      "cell_type": "code",
      "source": [
        "a = 10\n",
        "b = 5\n",
        "c = 2\n",
        "result = (a + b) * c - b / c\n",
        "print(result)# O"
      ],
      "metadata": {
        "colab": {
          "base_uri": "https://localhost:8080/"
        },
        "id": "9rRPlDTsBsLn",
        "outputId": "dc4785ff-f3e2-4689-d0c3-3271d2afb27c"
      },
      "execution_count": 43,
      "outputs": [
        {
          "output_type": "stream",
          "name": "stdout",
          "text": [
            "27.5\n"
          ]
        }
      ]
    },
    {
      "cell_type": "code",
      "source": [
        "number = 7\n",
        "if number % 2 == 0:\n",
        "  print(\"Even\")\n",
        "else:\n",
        "  print(\"Odd\")\n",
        "# Output: Odd"
      ],
      "metadata": {
        "colab": {
          "base_uri": "https://localhost:8080/"
        },
        "id": "VSo9uaCYB3wM",
        "outputId": "af7f5481-53b2-4490-d970-4f2a6a399763"
      },
      "execution_count": 44,
      "outputs": [
        {
          "output_type": "stream",
          "name": "stdout",
          "text": [
            "Odd\n"
          ]
        }
      ]
    },
    {
      "cell_type": "code",
      "source": [
        "# Finding how many full boxes can be made and the remaining items\n",
        "items = 23\n",
        "box_capacity = 5\n",
        "full_boxes = items // box_capacity\n",
        "remaining_items = items % box_capacity\n",
        "print(f\"Full boxes: {full_boxes}, Remaining items: {remaining_items}\")\n",
        "# Output: Full boxes: 4, Remaining items: 3"
      ],
      "metadata": {
        "colab": {
          "base_uri": "https://localhost:8080/"
        },
        "id": "NGzasDVNCJA1",
        "outputId": "34efdad1-ee4c-4752-cd7f-d6258469876e"
      },
      "execution_count": 45,
      "outputs": [
        {
          "output_type": "stream",
          "name": "stdout",
          "text": [
            "Full boxes: 4, Remaining items: 3\n"
          ]
        }
      ]
    },
    {
      "cell_type": "markdown",
      "source": [
        "#Naming Convention in Python"
      ],
      "metadata": {
        "id": "xWMgoHcZOIuv"
      }
    },
    {
      "cell_type": "markdown",
      "source": [
        "Rules for Variable Names\n",
        "Allowed Characters:\n",
        "Variable names can contain letters (a-z, A-Z), digits (0-9), and underscores (_).\n",
        "\n",
        "Start with a Letter or Underscore:\n",
        "A variable name must begin with a letter or an underscore. It cannot start with a digit.\n",
        "\n",
        "Case-Sensitive:\n",
        "Python variable names are case-sensitive. myVar and myvar are distinct variables.\n",
        "\n",
        "Avoid Reserved Keywords:\n",
        "Do not use Python's reserved keywords (e.g., if, else, for, while, def, class) as variable names.\n",
        "\n",
        "onventions (PEP 8):\n",
        "\n",
        "The Python Enhancement Proposal 8 (PEP 8) provides style guidelines for Python code, including naming conventions. Here are the most common conventions:\n",
        "\n",
        "Snake Case:\n",
        "Use snake case for variable and function names.\n",
        "Words are separated by underscores.\n",
        "Examples: my_variable, total_count, user_name.\n",
        "\n",
        "Descriptive Names:\n",
        "Choose descriptive and meaningful names that clearly indicate the variable's purpose.\n",
        "This enhances code readability.\n",
        "\n",
        "Short but Meaningful:\n",
        "While descriptive names are important, avoid excessively long names. Strive for a balance between clarity and conciseness.\n",
        "\n",
        "Constants:\n",
        "Use uppercase letters with underscores for constants.\n",
        "Examples: PI, MAX_VALUE.\n",
        "Avoid Single-Character Names (Except in Specific Cases):\n",
        "Avoid using single-character variable names (e.g., i, j, x) except in situations like loop counters.\n",
        "Why Conventions Matter:\n",
        "\n",
        "Readability: Consistent naming makes code easier to read and understand, especially when working on large projects or collaborating with others.\n",
        "Maintainability: Well-named variables make it simpler to modify and maintain code over time.\n",
        "\n",
        "Consistency: Following conventions ensures that your code aligns with the broader Python community's style, promoting uniformity."
      ],
      "metadata": {
        "id": "x_r35HLfGbYB"
      }
    },
    {
      "cell_type": "markdown",
      "source": [
        "## Primitive Data Types: The Basic Building Blocks"
      ],
      "metadata": {
        "id": "Qes2i3B_K7-T"
      }
    },
    {
      "cell_type": "markdown",
      "source": [
        "Imagine primitive data types as the individual, basic LEGO bricks. They are the simplest, most fundamental data types that a programming language provides. They hold single values.\n",
        "\n",
        "Characteristics:\n",
        "\n",
        "They are built-in, meaning the programming language itself provides them.\n",
        "They hold simple, single values.\n",
        "They are immutable, which means their values cannot be changed after they are created. If you seem to change a primitive value, you are actually creating a new one.\n",
        "Examples in Python:\n",
        "\n",
        "Integers (int): Whole numbers like 10, -5, 0. (Think of these as solid, single-block LEGOs.)\n",
        "Floating-point numbers (float): Numbers with decimal points like 3.14, -0.5. (Imagine these as slightly more complex, but still single, LEGO pieces.)\n",
        "Booleans (bool): Represent truth values, either True or False. (Like a single LEGO switch that's either on or off.)\n",
        "Strings (str): Sequences of characters like \"hello\", \"Python\". (While strings are made of characters, in python they are immutable, and for this reason are considered primitive. You can think of them as a single line of connected small lego pieces that cannot be altered"
      ],
      "metadata": {
        "id": "SxBhKd1xN1C4"
      }
    },
    {
      "cell_type": "markdown",
      "source": [
        "#Non-Primitive Data Types: The Complex Structures"
      ],
      "metadata": {
        "id": "c93TmknTN9jK"
      }
    },
    {
      "cell_type": "markdown",
      "source": [
        "#### Non-Primitive Data Types: The Complex Structures\n",
        "\n",
        "Now, imagine non-primitive data types as the complex structures you can build with those LEGO bricks, like a house or a car. They are built from primitive data types and can hold collections of values.\n",
        "\n",
        "Characteristics:\n",
        "\n",
        "They are not built-in; they are created by the programmer or provided by libraries.\n",
        "They can hold multiple values or complex data structures.\n",
        "They are often mutable, meaning their values can be changed after they are created.\n",
        "Examples in Python:\n",
        "\n",
        "Lists (list): Ordered collections of items, like [1, 2, \"apple\"]. (Think of these as a row of LEGO bricks connected together.)\n",
        "Tuples (tuple): Ordered, immutable collections, like (1, 2, \"apple\"). (Like a row of LEGO bricks that you can't change after building.)\n",
        "Dictionaries (dict): Collections of key-value pairs, like {\"name\": \"Alice\", \"age\": 30}. (Imagine these as a LEGO structure with labeled compartments.)\n",
        "Sets (set): Unordered collections of unique items, like {1, 2, 3}. (Like a pile of unique LEGO bricks.)\n",
        "Classes/Objects: User-defined types that can hold data and functions. (Imagine these as complex LEGO creations with moving parts.)\n",
        "Key Differences Summarized:\n",
        "\n",
        "Simplicity: Primitive types are simple, single values; non-primitive types are complex, collections of values.\n",
        "Mutability: Primitive types are generally immutable; non-primitive types are often mutable.\n",
        "Built-in vs. User-defined: Primitive types are built-in; non-primitive types are built by the programmer or provided by libraries.\n",
        "Memory allocation: Primitive datatypes take up a fixed amount of memory. Non-primitive datatypes can take up a variable amount of memory."
      ],
      "metadata": {
        "id": "muPDemSwNCW6"
      }
    },
    {
      "cell_type": "markdown",
      "source": [
        "#Data types in Python"
      ],
      "metadata": {
        "id": "2cuTwiKoNa01"
      }
    },
    {
      "cell_type": "markdown",
      "source": [],
      "metadata": {
        "id": "xtRbZq5INvQK"
      }
    },
    {
      "cell_type": "markdown",
      "source": [
        "1. Numeric Types:\n",
        "\n",
        "int (Integers):\n",
        "These represent whole numbers, both positive and negative.\n",
        "Example: x = 10, y = -5\n",
        "float (Floating-point numbers):\n",
        "These represent real numbers with decimal points.\n",
        "Example: x = 3.14, y = -0.001\n",
        "complex (Complex numbers):\n",
        "These represent complex numbers in the form a + bj, where a is the real part and b is the imaginary part.\n",
        "Example: x = 3 + 5j\n",
        "2. Sequence Types:\n",
        "\n",
        "str (Strings):\n",
        "These represent sequences of characters.\n",
        "They are immutable.\n",
        "Example: x = \"Hello\", y = 'Python'\n",
        "list (Lists):\n",
        "These are ordered, mutable sequences of items.\n",
        "They can contain elements of different data types.\n",
        "Example: x = [1, 2, \"apple\", 3.5]\n",
        "tuple (Tuples):\n",
        "These are ordered, immutable sequences of items.\n",
        "Example: x = (1, 2, \"apple\")\n",
        "range (Ranges):\n",
        "These represent sequences of numbers, often used in loops.\n",
        "Example: x = range(6)\n",
        "3. Mapping Type:\n",
        "\n",
        "dict (Dictionaries):\n",
        "These represent key-value pairs.\n",
        "They are mutable.\n",
        "Example: x = {\"name\": \"Alice\", \"age\": 30}\n",
        "4. Set Types:\n",
        "\n",
        "set (Sets):\n",
        "These are unordered collections of unique items.\n",
        "They are mutable.\n",
        "Example: x = {1, 2, 3}\n",
        "frozenset (Frozen Sets):\n",
        "These are immutable versions of sets.\n",
        "Example: x = frozenset({1,2,3})\n",
        "5. Boolean Type:\n",
        "\n",
        "bool (Booleans):\n",
        "These represent truth values, either True or False.\n",
        "Example: x = True, y = False\n",
        "6. None Type:\n",
        "\n",
        "NoneType (None):\n",
        "This represents the absence of a value.\n",
        "Example: x = None\n",
        "Key Concepts:\n",
        "\n",
        "Mutable vs. Immutable:\n",
        "Mutable data types can be changed after they are created (e.g., lists, dictionaries, sets).\n",
        "Immutable data types cannot be changed after they are created (e.g., strings, tuples).\n",
        "Dynamic Typing:\n",
        "Python's dynamic typing allows variables to change their data type during program execution.\n",
        "type() Function:\n",
        "You can use the type() function to determine the data type of a variable.\n",
        "Example: print(type(x))"
      ],
      "metadata": {
        "id": "PMKgiaCaOmjK"
      }
    },
    {
      "cell_type": "markdown",
      "source": [
        "#Data type conversion\n",
        "also known as type casting, allows you to change the data type of a variable. Here's a breakdown of the common types of data type conversions"
      ],
      "metadata": {
        "id": "1T541y1pOxmQ"
      }
    },
    {
      "cell_type": "markdown",
      "source": [
        "1. Implicit Type Conversion (Coercion):\n",
        "\n",
        "Python automatically performs implicit type conversion in certain situations, especially when dealing with numeric types.\n",
        "It generally converts from a \"smaller\" type to a \"larger\" type to avoid data loss."
      ],
      "metadata": {
        "id": "2dWAcjipO7Mg"
      }
    },
    {
      "cell_type": "code",
      "source": [
        "x = 10  # integer\n",
        "y = 3.14  # float\n",
        "z = x + y  # Python implicitly converts x to float\n",
        "print(z)  # Output: 13.14\n",
        "print(type(z))  # Output: <class 'float'>"
      ],
      "metadata": {
        "colab": {
          "base_uri": "https://localhost:8080/"
        },
        "id": "vvuFWh5KPE6l",
        "outputId": "ab894d94-4637-47e9-cd14-b0e58415f96f"
      },
      "execution_count": 69,
      "outputs": [
        {
          "output_type": "stream",
          "name": "stdout",
          "text": [
            "13.14\n",
            "<class 'float'>\n"
          ]
        }
      ]
    },
    {
      "cell_type": "markdown",
      "source": [
        "2. Explicit Type Conversion (Type Casting):\n",
        "\n",
        "You explicitly convert data types using built-in functions.\n",
        "This is necessary when Python cannot automatically perform the conversion or when you need to control the conversion process."
      ],
      "metadata": {
        "id": "NrSuzEnqPOXz"
      }
    },
    {
      "cell_type": "code",
      "source": [
        "#int() Converts a value to an integer."
      ],
      "metadata": {
        "id": "F__90fmHPNcN"
      },
      "execution_count": 70,
      "outputs": []
    },
    {
      "cell_type": "code",
      "source": [
        "x = \"123\"\n",
        "y = int(x)\n",
        "print(y)  # Output: 123\n",
        "print(type(y)) #output: <class 'int'>"
      ],
      "metadata": {
        "colab": {
          "base_uri": "https://localhost:8080/"
        },
        "id": "YpbMjKjlPJ2L",
        "outputId": "48682438-a123-4108-ffa7-6257db4b420d"
      },
      "execution_count": 71,
      "outputs": [
        {
          "output_type": "stream",
          "name": "stdout",
          "text": [
            "123\n",
            "<class 'int'>\n"
          ]
        }
      ]
    },
    {
      "cell_type": "code",
      "source": [
        "print(int(3.8)) #output: 3, the decimal is truncated."
      ],
      "metadata": {
        "colab": {
          "base_uri": "https://localhost:8080/"
        },
        "id": "H_OHPGP9PkyX",
        "outputId": "c78000b8-18c1-4f3e-e113-4b8dd5964e76"
      },
      "execution_count": 72,
      "outputs": [
        {
          "output_type": "stream",
          "name": "stdout",
          "text": [
            "3\n"
          ]
        }
      ]
    },
    {
      "cell_type": "code",
      "source": [
        "#float Converts a value to a floating-point number.\n",
        "x = \"3.14\"\n",
        "y = float(x)\n",
        "print(y)  # Output: 3.14\n",
        "print(type(y)) #output: <class 'float'>\n",
        "\n",
        "print(float(5)) #output 5.0"
      ],
      "metadata": {
        "colab": {
          "base_uri": "https://localhost:8080/"
        },
        "id": "d1nxbsWTPp6r",
        "outputId": "e91ab266-eb5b-46e8-d25f-3a6f88700385"
      },
      "execution_count": 73,
      "outputs": [
        {
          "output_type": "stream",
          "name": "stdout",
          "text": [
            "3.14\n",
            "<class 'float'>\n",
            "5.0\n"
          ]
        }
      ]
    },
    {
      "cell_type": "code",
      "source": [
        "# bool() Converts a value to a boolean\n",
        "print(bool(0))  # Output: False\n",
        "print(bool(1))  # Output: True\n",
        "print(bool(\"hello\")) #output: True\n",
        "print(bool(\"\")) #output: False\n",
        "print(bool([])) #output: False"
      ],
      "metadata": {
        "colab": {
          "base_uri": "https://localhost:8080/"
        },
        "id": "fLqlVvPCQB0i",
        "outputId": "0be13c84-4980-4113-9330-ab4be55db588"
      },
      "execution_count": 74,
      "outputs": [
        {
          "output_type": "stream",
          "name": "stdout",
          "text": [
            "False\n",
            "True\n",
            "True\n",
            "False\n",
            "False\n"
          ]
        }
      ]
    },
    {
      "cell_type": "code",
      "source": [
        "# list()Converts an iterable (e.g., tuple, string) to a list\n",
        "x = \"hello\"\n",
        "y = list(x)\n",
        "print(y)  # Output: ['h', 'e', 'l', 'l', 'o']\n",
        "name = \"neeraj prajapati\"\n",
        "name_alpa = list(name)\n",
        "print(name_alpa)"
      ],
      "metadata": {
        "colab": {
          "base_uri": "https://localhost:8080/"
        },
        "id": "l1QSHXBuQN9W",
        "outputId": "30c68d19-ae94-40a6-a020-0e25b489f3a1"
      },
      "execution_count": 75,
      "outputs": [
        {
          "output_type": "stream",
          "name": "stdout",
          "text": [
            "['h', 'e', 'l', 'l', 'o']\n",
            "['n', 'e', 'e', 'r', 'a', 'j', ' ', 'p', 'r', 'a', 'j', 'a', 'p', 'a', 't', 'i']\n"
          ]
        }
      ]
    },
    {
      "cell_type": "code",
      "source": [
        "#tuple\n",
        "x = [1, 2, 3]\n",
        "y = tuple(x)\n",
        "print(y)  # Output: (1, 2, 3)"
      ],
      "metadata": {
        "colab": {
          "base_uri": "https://localhost:8080/"
        },
        "id": "8lQBIymxQoRq",
        "outputId": "f9635ff5-3efe-4d6d-840d-f6836742d7b1"
      },
      "execution_count": 76,
      "outputs": [
        {
          "output_type": "stream",
          "name": "stdout",
          "text": [
            "(1, 2, 3)\n"
          ]
        }
      ]
    },
    {
      "cell_type": "code",
      "source": [
        "#set\n",
        "x = [1,2,2,3,4,4,5]\n",
        "y = set(x)\n",
        "print(y) #output: {1, 2, 3, 4, 5}"
      ],
      "metadata": {
        "colab": {
          "base_uri": "https://localhost:8080/"
        },
        "id": "8irNNw6vQ0P6",
        "outputId": "967f030c-ebda-4392-94b2-c5eddf0fb99b"
      },
      "execution_count": 77,
      "outputs": [
        {
          "output_type": "stream",
          "name": "stdout",
          "text": [
            "{1, 2, 3, 4, 5}\n"
          ]
        }
      ]
    },
    {
      "cell_type": "code",
      "source": [
        "#dict\n",
        "x = [(\"a\", 1), (\"b\", 2)]\n",
        "y = dict(x)\n",
        "print(y) #output: {'a': 1, 'b': 2}"
      ],
      "metadata": {
        "colab": {
          "base_uri": "https://localhost:8080/"
        },
        "id": "Gbd-pXKmQ3aw",
        "outputId": "745f6c92-3dff-43da-bc75-f359e6e0f9fd"
      },
      "execution_count": 78,
      "outputs": [
        {
          "output_type": "stream",
          "name": "stdout",
          "text": [
            "{'a': 1, 'b': 2}\n"
          ]
        }
      ]
    },
    {
      "cell_type": "code",
      "source": [
        "x= \"011111\"\n",
        "y=int(x,2)\n",
        "print(y)"
      ],
      "metadata": {
        "colab": {
          "base_uri": "https://localhost:8080/"
        },
        "id": "Eqk8wUSEQ-7b",
        "outputId": "a5b5d78f-18a8-40de-ee2c-27a9db965220"
      },
      "execution_count": 79,
      "outputs": [
        {
          "output_type": "stream",
          "name": "stdout",
          "text": [
            "31\n"
          ]
        }
      ]
    },
    {
      "cell_type": "code",
      "source": [
        "a= 5\n",
        "b =5.0\n",
        "c= a+b\n",
        "print(type(c))"
      ],
      "metadata": {
        "colab": {
          "base_uri": "https://localhost:8080/"
        },
        "id": "9G-YVQ8fR4cP",
        "outputId": "6e0cedb6-9cf3-4660-8ef6-fea4493b19f4"
      },
      "execution_count": 80,
      "outputs": [
        {
          "output_type": "stream",
          "name": "stdout",
          "text": [
            "<class 'float'>\n"
          ]
        }
      ]
    },
    {
      "cell_type": "code",
      "source": [
        "x=\"10\"\n",
        "y=\"20\"\n",
        "z=x+y\n",
        "print(int(z))"
      ],
      "metadata": {
        "colab": {
          "base_uri": "https://localhost:8080/"
        },
        "id": "mKc1Xy62SfeY",
        "outputId": "5a8cb008-05c2-49d5-d772-ac9041c98fe0"
      },
      "execution_count": 81,
      "outputs": [
        {
          "output_type": "stream",
          "name": "stdout",
          "text": [
            "1020\n"
          ]
        }
      ]
    },
    {
      "cell_type": "code",
      "source": [
        "x=10.5\n",
        "y=str(int(x))\n",
        "print(y)"
      ],
      "metadata": {
        "colab": {
          "base_uri": "https://localhost:8080/"
        },
        "id": "QVNgClLxSxUP",
        "outputId": "aef800d3-0f2a-495f-ae48-880e38d5bb0c"
      },
      "execution_count": 82,
      "outputs": [
        {
          "output_type": "stream",
          "name": "stdout",
          "text": [
            "10\n"
          ]
        }
      ]
    },
    {
      "cell_type": "markdown",
      "source": [
        "### Input Function > It takes default input string"
      ],
      "metadata": {
        "id": "vAOdY-9bj2qP"
      }
    },
    {
      "cell_type": "code",
      "source": [
        "var=input('Who are you ?')\n",
        "print(var)"
      ],
      "metadata": {
        "colab": {
          "base_uri": "https://localhost:8080/",
          "height": 304
        },
        "id": "UDdNQTnrTPvo",
        "outputId": "e09dc90a-4dc5-4058-9b0e-d1064e7503d0"
      },
      "execution_count": 83,
      "outputs": [
        {
          "output_type": "error",
          "ename": "KeyboardInterrupt",
          "evalue": "Interrupted by user",
          "traceback": [
            "\u001b[0;31m---------------------------------------------------------------------------\u001b[0m",
            "\u001b[0;31mKeyboardInterrupt\u001b[0m                         Traceback (most recent call last)",
            "\u001b[0;32m<ipython-input-83-c6ce7d71c481>\u001b[0m in \u001b[0;36m<cell line: 0>\u001b[0;34m()\u001b[0m\n\u001b[0;32m----> 1\u001b[0;31m \u001b[0mvar\u001b[0m\u001b[0;34m=\u001b[0m\u001b[0minput\u001b[0m\u001b[0;34m(\u001b[0m\u001b[0;34m'Who are you ?'\u001b[0m\u001b[0;34m)\u001b[0m\u001b[0;34m\u001b[0m\u001b[0;34m\u001b[0m\u001b[0m\n\u001b[0m\u001b[1;32m      2\u001b[0m \u001b[0mprint\u001b[0m\u001b[0;34m(\u001b[0m\u001b[0mvar\u001b[0m\u001b[0;34m)\u001b[0m\u001b[0;34m\u001b[0m\u001b[0;34m\u001b[0m\u001b[0m\n",
            "\u001b[0;32m/usr/local/lib/python3.11/dist-packages/ipykernel/kernelbase.py\u001b[0m in \u001b[0;36mraw_input\u001b[0;34m(self, prompt)\u001b[0m\n\u001b[1;32m   1175\u001b[0m                 \u001b[0;34m\"raw_input was called, but this frontend does not support input requests.\"\u001b[0m\u001b[0;34m\u001b[0m\u001b[0;34m\u001b[0m\u001b[0m\n\u001b[1;32m   1176\u001b[0m             )\n\u001b[0;32m-> 1177\u001b[0;31m         return self._input_request(\n\u001b[0m\u001b[1;32m   1178\u001b[0m             \u001b[0mstr\u001b[0m\u001b[0;34m(\u001b[0m\u001b[0mprompt\u001b[0m\u001b[0;34m)\u001b[0m\u001b[0;34m,\u001b[0m\u001b[0;34m\u001b[0m\u001b[0;34m\u001b[0m\u001b[0m\n\u001b[1;32m   1179\u001b[0m             \u001b[0mself\u001b[0m\u001b[0;34m.\u001b[0m\u001b[0m_parent_ident\u001b[0m\u001b[0;34m[\u001b[0m\u001b[0;34m\"shell\"\u001b[0m\u001b[0;34m]\u001b[0m\u001b[0;34m,\u001b[0m\u001b[0;34m\u001b[0m\u001b[0;34m\u001b[0m\u001b[0m\n",
            "\u001b[0;32m/usr/local/lib/python3.11/dist-packages/ipykernel/kernelbase.py\u001b[0m in \u001b[0;36m_input_request\u001b[0;34m(self, prompt, ident, parent, password)\u001b[0m\n\u001b[1;32m   1217\u001b[0m             \u001b[0;32mexcept\u001b[0m \u001b[0mKeyboardInterrupt\u001b[0m\u001b[0;34m:\u001b[0m\u001b[0;34m\u001b[0m\u001b[0;34m\u001b[0m\u001b[0m\n\u001b[1;32m   1218\u001b[0m                 \u001b[0;31m# re-raise KeyboardInterrupt, to truncate traceback\u001b[0m\u001b[0;34m\u001b[0m\u001b[0;34m\u001b[0m\u001b[0m\n\u001b[0;32m-> 1219\u001b[0;31m                 \u001b[0;32mraise\u001b[0m \u001b[0mKeyboardInterrupt\u001b[0m\u001b[0;34m(\u001b[0m\u001b[0;34m\"Interrupted by user\"\u001b[0m\u001b[0;34m)\u001b[0m \u001b[0;32mfrom\u001b[0m \u001b[0;32mNone\u001b[0m\u001b[0;34m\u001b[0m\u001b[0;34m\u001b[0m\u001b[0m\n\u001b[0m\u001b[1;32m   1220\u001b[0m             \u001b[0;32mexcept\u001b[0m \u001b[0mException\u001b[0m\u001b[0;34m:\u001b[0m\u001b[0;34m\u001b[0m\u001b[0;34m\u001b[0m\u001b[0m\n\u001b[1;32m   1221\u001b[0m                 \u001b[0mself\u001b[0m\u001b[0;34m.\u001b[0m\u001b[0mlog\u001b[0m\u001b[0;34m.\u001b[0m\u001b[0mwarning\u001b[0m\u001b[0;34m(\u001b[0m\u001b[0;34m\"Invalid Message:\"\u001b[0m\u001b[0;34m,\u001b[0m \u001b[0mexc_info\u001b[0m\u001b[0;34m=\u001b[0m\u001b[0;32mTrue\u001b[0m\u001b[0;34m)\u001b[0m\u001b[0;34m\u001b[0m\u001b[0;34m\u001b[0m\u001b[0m\n",
            "\u001b[0;31mKeyboardInterrupt\u001b[0m: Interrupted by user"
          ]
        }
      ]
    },
    {
      "cell_type": "code",
      "source": [
        "name = input(\"Type your name\")\n",
        "age = int(input(\"Enter you age\"))\n",
        "print(f\"Your name is {name} and you are {age} year old\")\n",
        "print(type(name),type(age))"
      ],
      "metadata": {
        "id": "csvWPVM6kZ4F"
      },
      "execution_count": null,
      "outputs": []
    },
    {
      "cell_type": "code",
      "source": [
        "name = input(\"Type your name\")\n",
        "age = int(input(\"Enter you age\"))\n",
        "print(f\"Your name is {name} and you are {age} year old\")\n",
        "\n"
      ],
      "metadata": {
        "id": "9uCamyRalHIW"
      },
      "execution_count": null,
      "outputs": []
    },
    {
      "cell_type": "code",
      "source": [
        "print(((4+5)**2)%10)"
      ],
      "metadata": {
        "id": "Lu9rAtsylMXL"
      },
      "execution_count": null,
      "outputs": []
    },
    {
      "cell_type": "code",
      "source": [
        "print(15*2//2)"
      ],
      "metadata": {
        "id": "u2kitOIfn2uj"
      },
      "execution_count": null,
      "outputs": []
    },
    {
      "cell_type": "code",
      "source": [
        "print((2+3*(2+4)/8-1)//100)"
      ],
      "metadata": {
        "id": "TgPIa-91oCiy"
      },
      "execution_count": null,
      "outputs": []
    },
    {
      "cell_type": "code",
      "source": [
        "a=5\n",
        "b=\"6 \"\n",
        "print((str(a)+b)//10)"
      ],
      "metadata": {
        "id": "KvYKPUyyoklj"
      },
      "execution_count": null,
      "outputs": []
    },
    {
      "cell_type": "markdown",
      "source": [
        "### Comparison  Operators\n",
        "In Python, comparison operators are used to compare the values of two operands. They return a Boolean value, which is either True or False. These operators are fundamental for making decisions in your code, especially within conditional statements like if, elif, and else\n"
      ],
      "metadata": {
        "id": "a5Cxv87Npb9h"
      }
    },
    {
      "cell_type": "markdown",
      "source": [
        "1. Equal to (==):\n",
        "\n",
        "This operator checks if two operands are equal.\n",
        "x == y returns True if x is equal to y, and False otherwise."
      ],
      "metadata": {
        "id": "iRuV5uOwrUOC"
      }
    },
    {
      "cell_type": "code",
      "source": [
        "x=5\n",
        "y=6\n",
        "z=x==y\n",
        "print(z)"
      ],
      "metadata": {
        "colab": {
          "base_uri": "https://localhost:8080/"
        },
        "id": "jpReaXk4p7yw",
        "outputId": "6abd18a6-c225-4d94-b270-8069cd433c75"
      },
      "execution_count": 84,
      "outputs": [
        {
          "output_type": "stream",
          "name": "stdout",
          "text": [
            "False\n"
          ]
        }
      ]
    },
    {
      "cell_type": "code",
      "source": [
        "x = 5\n",
        "y = 5\n",
        "print(x == y)  # Output: True\n",
        "print(x == 6) #output: False"
      ],
      "metadata": {
        "colab": {
          "base_uri": "https://localhost:8080/"
        },
        "id": "zOkEznq2rcGt",
        "outputId": "1d7c0bb4-94ce-44b9-87ee-b9a95617e2eb"
      },
      "execution_count": 85,
      "outputs": [
        {
          "output_type": "stream",
          "name": "stdout",
          "text": [
            "True\n",
            "False\n"
          ]
        }
      ]
    },
    {
      "cell_type": "markdown",
      "source": [
        "2. Not equal to (!=):\n",
        "\n",
        "This operator checks if two operands are not equal.\n",
        "x != y returns True if x is not equal to y, and False otherwise.\n",
        "Example:"
      ],
      "metadata": {
        "id": "n3qgtkpBrnnF"
      }
    },
    {
      "cell_type": "code",
      "source": [
        "x = 5\n",
        "y = 10\n",
        "print(x != y)  # Output: True\n",
        "print(x != 3)\n",
        "print(x != 5) #output: False"
      ],
      "metadata": {
        "colab": {
          "base_uri": "https://localhost:8080/"
        },
        "id": "7ejeNL3lrgNE",
        "outputId": "ec659042-7e1d-4943-dca5-cb6a2d478278"
      },
      "execution_count": 87,
      "outputs": [
        {
          "output_type": "stream",
          "name": "stdout",
          "text": [
            "True\n",
            "True\n",
            "False\n"
          ]
        }
      ]
    },
    {
      "cell_type": "markdown",
      "source": [
        "3. Greater than (>):\n",
        "\n",
        "This operator checks if the left operand is greater than the right operand.\n",
        "x > y returns True if x is greater than y, and False otherwise.\n",
        "Example:"
      ],
      "metadata": {
        "id": "SSgK2KQRsFQa"
      }
    },
    {
      "cell_type": "code",
      "source": [
        "x = 10\n",
        "y = 5\n",
        "print(x > y)  # Output: True\n",
        "print(x > 10) #output: False\n",
        "print(x==10) #output : True"
      ],
      "metadata": {
        "colab": {
          "base_uri": "https://localhost:8080/"
        },
        "id": "TdBf-QdgrsWo",
        "outputId": "62c13e72-b9f5-4814-ab74-daf5b37864a4"
      },
      "execution_count": 89,
      "outputs": [
        {
          "output_type": "stream",
          "name": "stdout",
          "text": [
            "True\n",
            "False\n",
            "True\n"
          ]
        }
      ]
    },
    {
      "cell_type": "markdown",
      "source": [
        "4. Less than (<):\n",
        "\n",
        "This operator checks if the left operand is less than the right operand.\n",
        "x < y returns True if x is less than y, and False otherwise."
      ],
      "metadata": {
        "id": "ew4C6-bItHBN"
      }
    },
    {
      "cell_type": "code",
      "source": [
        "x = 5\n",
        "y = 10\n",
        "print(x < y)  # Output: True\n",
        "print(x < 5) #output: False"
      ],
      "metadata": {
        "colab": {
          "base_uri": "https://localhost:8080/"
        },
        "id": "LgI-32hltEDb",
        "outputId": "99015503-74bb-41d5-9a2d-5557eea0cf8e"
      },
      "execution_count": 91,
      "outputs": [
        {
          "output_type": "stream",
          "name": "stdout",
          "text": [
            "True\n",
            "False\n"
          ]
        }
      ]
    },
    {
      "cell_type": "markdown",
      "source": [
        "5. Greater than or equal to (>=):\n",
        "\n",
        "This operator checks if the left operand is greater than or equal to the right operand.\n",
        "x >= y returns True if x is greater than or equal to y, and False otherwise."
      ],
      "metadata": {
        "id": "KMdo2g5MtRsu"
      }
    },
    {
      "cell_type": "code",
      "source": [
        "x = 10\n",
        "y = 10\n",
        "print(x >= y)  # Output: True\n",
        "print(x >= 11) #output: False"
      ],
      "metadata": {
        "colab": {
          "base_uri": "https://localhost:8080/"
        },
        "id": "ywpX6piDtM44",
        "outputId": "e6676cd4-c0e8-4493-fc72-ebdb0cd9860f"
      },
      "execution_count": 92,
      "outputs": [
        {
          "output_type": "stream",
          "name": "stdout",
          "text": [
            "True\n",
            "False\n"
          ]
        }
      ]
    },
    {
      "cell_type": "markdown",
      "source": [
        "6. Less than or equal to (<=):\n",
        "\n",
        "This operator checks if the left operand is less than or equal to the right operand.\n",
        "x <= y returns True if x is less than or equal to y, and False otherwise."
      ],
      "metadata": {
        "id": "hrsjzn4YtgQe"
      }
    },
    {
      "cell_type": "code",
      "source": [
        "x = 5\n",
        "y = 10\n",
        "print(x <= y)  # Output: True\n",
        "print(x <= 4) #output: False"
      ],
      "metadata": {
        "colab": {
          "base_uri": "https://localhost:8080/"
        },
        "id": "ib_1LtmjtW_X",
        "outputId": "f0cefe4f-4044-41b8-e0ef-20e83c9c7903"
      },
      "execution_count": 93,
      "outputs": [
        {
          "output_type": "stream",
          "name": "stdout",
          "text": [
            "True\n",
            "False\n"
          ]
        }
      ]
    },
    {
      "cell_type": "markdown",
      "source": [
        "Key Points:\n",
        "\n",
        "Comparison operators are essential for control flow in Python.\n",
        "They always return a Boolean value (True or False).\n",
        "These operators can be used with various data types, including numbers, strings, and more.\n",
        "When comparing strings, python uses lexicographical ordering."
      ],
      "metadata": {
        "id": "cgRyBz5Ztvhr"
      }
    },
    {
      "cell_type": "code",
      "source": [
        "Practice"
      ],
      "metadata": {
        "id": "r04Op2GtuPft"
      },
      "execution_count": null,
      "outputs": []
    },
    {
      "cell_type": "code",
      "source": [
        "x = 15\n",
        "result = (10 <= x <= 20)\n",
        "print(result)# Output: True"
      ],
      "metadata": {
        "colab": {
          "base_uri": "https://localhost:8080/"
        },
        "id": "qHbWHRxmuJCp",
        "outputId": "2a7a127d-c1ba-4f12-db56-bab083c5e028"
      },
      "execution_count": 95,
      "outputs": [
        {
          "output_type": "stream",
          "name": "stdout",
          "text": [
            "True\n"
          ]
        }
      ]
    },
    {
      "cell_type": "code",
      "source": [
        "age = 18\n",
        "if age >= 18:\n",
        "  print(\"You are eligible to vote.\")\n",
        "else:\n",
        "  print(\"You are not eligible to vote.\")\n",
        "# Output: You are eligible to vote."
      ],
      "metadata": {
        "colab": {
          "base_uri": "https://localhost:8080/"
        },
        "id": "sfwvs0ALvX3O",
        "outputId": "cd60c18f-24e0-4a6b-ba60-8eb8c4b86db8"
      },
      "execution_count": 97,
      "outputs": [
        {
          "output_type": "stream",
          "name": "stdout",
          "text": [
            "You are eligible to vote.\n"
          ]
        }
      ]
    },
    {
      "cell_type": "code",
      "source": [
        "password = \"P@ssw0rd123\"\n",
        "length = len(password)\n",
        "if length >= 8 and any(char.isdigit() for char in password) and any(char.isupper() for char in password):\n",
        "  print(\"Strong password\")\n",
        "else:\n",
        "  print(\"Weak password\")\n",
        "# Output: Strong password"
      ],
      "metadata": {
        "colab": {
          "base_uri": "https://localhost:8080/"
        },
        "id": "iDjTNRz3vXHy",
        "outputId": "11d57965-8bf3-4787-e5ad-d7d89b6fbf0f"
      },
      "execution_count": 98,
      "outputs": [
        {
          "output_type": "stream",
          "name": "stdout",
          "text": [
            "Strong password\n"
          ]
        }
      ]
    },
    {
      "cell_type": "code",
      "source": [
        "str1 = \"apple\"\n",
        "str2 = \"banana\"\n",
        "result = (str1 < str2)\n",
        "print(result)# Output: True"
      ],
      "metadata": {
        "colab": {
          "base_uri": "https://localhost:8080/"
        },
        "id": "UywKHFpivtvZ",
        "outputId": "ceeb146a-275a-42bc-fbff-ddb93947bd24"
      },
      "execution_count": 101,
      "outputs": [
        {
          "output_type": "stream",
          "name": "stdout",
          "text": [
            "True\n"
          ]
        }
      ]
    },
    {
      "cell_type": "code",
      "source": [
        "result = (5 == 5.0)\n",
        "print(result)# Output: True"
      ],
      "metadata": {
        "colab": {
          "base_uri": "https://localhost:8080/"
        },
        "id": "nSoNOc2vvxCU",
        "outputId": "18b7e30b-66f4-40f9-bb7b-96d7e1d123a0"
      },
      "execution_count": 102,
      "outputs": [
        {
          "output_type": "stream",
          "name": "stdout",
          "text": [
            "True\n"
          ]
        }
      ]
    },
    {
      "cell_type": "markdown",
      "source": [
        "### Logical Operators\n",
        "In Python, logical operators are used to combine or modify conditional statements. They work with Boolean values (True and False) and return a Boolean result. These operators are crucial for creating complex conditions in your code."
      ],
      "metadata": {
        "id": "7L2Y6dftt1Dc"
      }
    },
    {
      "cell_type": "markdown",
      "source": [
        "1. and Operator:\n",
        "\n",
        "The and operator returns True if both operands are True. Otherwise, it returns False.\n",
        "Think of it as:\n",
        "\"Both conditions must be true.\"\n",
        "Truth table:\n",
        "\n",
        "True and True -> True\n",
        "\n",
        "True and False -> False\n",
        "\n",
        "False and True -> False\n",
        "\n",
        "False and False -> False"
      ],
      "metadata": {
        "id": "gOFdX2LV3pEH"
      }
    },
    {
      "cell_type": "code",
      "source": [
        "x = 5\n",
        "y = 10\n",
        "if x > 0 and y < 15:\n",
        "    print(\"Both conditions are true.\")\n",
        "else:\n",
        "    print(\"At least one condition is false.\")"
      ],
      "metadata": {
        "colab": {
          "base_uri": "https://localhost:8080/"
        },
        "id": "Vn3YQqrWuOMJ",
        "outputId": "4695568b-1cc9-409a-c2ab-dab6110121db"
      },
      "execution_count": 103,
      "outputs": [
        {
          "output_type": "stream",
          "name": "stdout",
          "text": [
            "Both conditions are true.\n"
          ]
        }
      ]
    },
    {
      "cell_type": "markdown",
      "source": [
        "# 2. or Operator:\n",
        "\n",
        "The or operator returns True if at least one operand is True. It returns False only if both operands are False.\n",
        "Think of it as: \"At least one condition must be true.\"\n",
        "Truth table:\n",
        "\n",
        "True or True -> True\n",
        "\n",
        "True or False -> True\n",
        "\n",
        "False or True -> True\n",
        "\n",
        "False or False -> False"
      ],
      "metadata": {
        "id": "fyr5mPS64KVy"
      }
    },
    {
      "cell_type": "code",
      "source": [
        "x = -1\n",
        "y = 10\n",
        "if x > 0 or y < 5:\n",
        "    print(\"At least one condition is true.\")\n",
        "else:\n",
        "    print(\"Both conditions are false.\")"
      ],
      "metadata": {
        "colab": {
          "base_uri": "https://localhost:8080/"
        },
        "id": "XmTSxflrvT5J",
        "outputId": "697ff172-3124-4373-df19-198d46ff74cc"
      },
      "execution_count": 107,
      "outputs": [
        {
          "output_type": "stream",
          "name": "stdout",
          "text": [
            "Both conditions are false.\n"
          ]
        }
      ]
    },
    {
      "cell_type": "markdown",
      "source": [
        "# 3. not Operator:\n",
        "\n",
        "The not operator is a unary operator that negates the Boolean value of its operand.\n",
        "If the operand is True,1 not returns False, and if the operand is False, not returns2 True.\n",
        "Think of it as: \"The opposite of the condition.\"\n",
        "Truth table:\n",
        "\n",
        "not True -> False\n",
        "\n",
        "not False -> True\n"
      ],
      "metadata": {
        "id": "VgjLsIRG4smk"
      }
    },
    {
      "cell_type": "code",
      "source": [
        "x = 5\n",
        "if not x > 10:\n",
        "    print(\"x is not greater than 10.\")\n",
        "else:\n",
        "    print(\"x is greater than 10.\")"
      ],
      "metadata": {
        "colab": {
          "base_uri": "https://localhost:8080/"
        },
        "id": "LimMtnzB4rY1",
        "outputId": "e308b241-1112-4189-d3b5-7280c065e1f8"
      },
      "execution_count": 108,
      "outputs": [
        {
          "output_type": "stream",
          "name": "stdout",
          "text": [
            "x is not greater than 10.\n"
          ]
        }
      ]
    },
    {
      "cell_type": "code",
      "source": [
        "age = 25\n",
        "income = 50000\n",
        "if age > 18 and income > 30000:\n",
        "  print(\"Eligible for loan\")\n",
        "else:\n",
        "  print(\"Not eligible for loan\")\n",
        "# Output: Eligible for loan"
      ],
      "metadata": {
        "colab": {
          "base_uri": "https://localhost:8080/"
        },
        "id": "B9ZWKKyC3z5z",
        "outputId": "5fd0e399-30e4-434b-da22-a8268e258025"
      },
      "execution_count": 109,
      "outputs": [
        {
          "output_type": "stream",
          "name": "stdout",
          "text": [
            "Eligible for loan\n"
          ]
        }
      ]
    },
    {
      "cell_type": "code",
      "source": [
        "is_student = True\n",
        "is_employed = False\n",
        "if is_student or is_employed:\n",
        "  print(\"Eligible for discount\")\n",
        "else:\n",
        "  print(\"Not eligible for discount\")\n",
        "# Output: Eligible for discount"
      ],
      "metadata": {
        "colab": {
          "base_uri": "https://localhost:8080/"
        },
        "id": "bEZVTyhL7O2K",
        "outputId": "4cfe7d34-d324-49fb-a1e4-abc37714d38f"
      },
      "execution_count": 110,
      "outputs": [
        {
          "output_type": "stream",
          "name": "stdout",
          "text": [
            "Eligible for discount\n"
          ]
        }
      ]
    },
    {
      "cell_type": "code",
      "source": [
        "is_sunny = False\n",
        "if not is_sunny:\n",
        "  print(\"Take an umbrella\")\n",
        "else:\n",
        "  print(\"No need for an umbrella\")\n",
        "# Output: Take an umbrella"
      ],
      "metadata": {
        "colab": {
          "base_uri": "https://localhost:8080/"
        },
        "id": "unn9pzr47X47",
        "outputId": "9bb89388-829f-4bdc-b7b5-68a09ee8943d"
      },
      "execution_count": 112,
      "outputs": [
        {
          "output_type": "stream",
          "name": "stdout",
          "text": [
            "Take an umbrella\n"
          ]
        }
      ]
    },
    {
      "cell_type": "code",
      "source": [
        "age = 20\n",
        "has_license = True\n",
        "has_vehicle = False\n",
        "if age >= 18 and has_license and (has_vehicle or not has_vehicle):\n",
        "  print(\"Eligible for driving\")\n",
        "else:\n",
        "  print(\"Not eligible for driving\")\n",
        "# Output: Eligible for driving"
      ],
      "metadata": {
        "colab": {
          "base_uri": "https://localhost:8080/"
        },
        "id": "Jo0HyDYJ7eTp",
        "outputId": "cee72bbf-23da-4cba-c6c4-e3c6217f70f5"
      },
      "execution_count": 113,
      "outputs": [
        {
          "output_type": "stream",
          "name": "stdout",
          "text": [
            "Eligible for driving\n"
          ]
        }
      ]
    },
    {
      "cell_type": "code",
      "source": [
        "marks = 85\n",
        "attendance = 90\n",
        "if marks > 80 and attendance > 85 or (marks > 70 and attendance > 95):\n",
        "    print(\"Eligible for scholarship\")\n",
        "else:\n",
        "    print(\"Not eligible for scholarship\")\n",
        "# Output: Eligible for scholarship"
      ],
      "metadata": {
        "colab": {
          "base_uri": "https://localhost:8080/"
        },
        "id": "KbAmURgM7sJo",
        "outputId": "fb97a4e8-4eb1-4c49-af82-b270981f7494"
      },
      "execution_count": 114,
      "outputs": [
        {
          "output_type": "stream",
          "name": "stdout",
          "text": [
            "Eligible for scholarship\n"
          ]
        }
      ]
    },
    {
      "cell_type": "code",
      "source": [
        "username = \"user123\"\n",
        "password = \"pass123\"\n",
        "input_username = input(\"Enter username: \")\n",
        "input_password = input(\"Enter password: \")\n",
        "if input_username == username and input_password == password:\n",
        "  print(\"Login successful\")\n",
        "else:\n",
        "  print(\"Invalid credentials\")"
      ],
      "metadata": {
        "colab": {
          "base_uri": "https://localhost:8080/"
        },
        "id": "gIzxrZFe76gk",
        "outputId": "8fa854fe-44ab-4e04-8f86-a5ff8d71c782"
      },
      "execution_count": 116,
      "outputs": [
        {
          "output_type": "stream",
          "name": "stdout",
          "text": [
            "Enter username: user123\n",
            "Enter password: pass123\n",
            "Login successful\n"
          ]
        }
      ]
    },
    {
      "cell_type": "markdown",
      "source": [
        "### Assignment operators\n",
        "in Python are used to assign values to variables. They provide a concise way to perform arithmetic or bitwise operations and then assign the result to a variable. Here's a comprehensive overview:"
      ],
      "metadata": {
        "id": "HL5H2NhI9qoa"
      }
    },
    {
      "cell_type": "markdown",
      "source": [
        "1. Simple Assignment Operator (=):\n",
        "\n",
        "This is the most basic assignment operator. It assigns the value on the right-hand side to the variable on the left-hand side"
      ],
      "metadata": {
        "id": "lOuYbuU6I3Dk"
      }
    },
    {
      "cell_type": "code",
      "source": [
        "x = 10\n",
        "name = \"Alice\""
      ],
      "metadata": {
        "id": "6HEEUF418F5K"
      },
      "execution_count": 1,
      "outputs": []
    },
    {
      "cell_type": "code",
      "source": [
        "a = 5\n",
        "print(a)# Output: 5"
      ],
      "metadata": {
        "colab": {
          "base_uri": "https://localhost:8080/"
        },
        "id": "sI7izmDOI60U",
        "outputId": "3d25436a-727b-43fc-cc26-eca8ca7633e3"
      },
      "execution_count": 2,
      "outputs": [
        {
          "output_type": "stream",
          "name": "stdout",
          "text": [
            "5\n"
          ]
        }
      ]
    },
    {
      "cell_type": "markdown",
      "source": [
        "2. Compound Assignment Operators:\n",
        "\n",
        "These operators combine an arithmetic or bitwise operation with assignment.\n",
        "They provide a shorthand way to modify the value of a variable.\n",
        "\n",
        "+= (Addition assignment):\n",
        "\n",
        "Adds the right operand to the left operand and assigns the result to the left operand.\n",
        "\n",
        "x += y is equivalent to x = x + y."
      ],
      "metadata": {
        "id": "BOOdqeLWJIeD"
      }
    },
    {
      "cell_type": "code",
      "source": [
        "x = 5\n",
        "x += 3  # x becomes 8\n",
        "print(x)"
      ],
      "metadata": {
        "colab": {
          "base_uri": "https://localhost:8080/"
        },
        "id": "ZKnsmigUJAl0",
        "outputId": "c677c39c-ce59-4c64-e06a-0dbfbc1f57a9"
      },
      "execution_count": 4,
      "outputs": [
        {
          "output_type": "stream",
          "name": "stdout",
          "text": [
            "8\n"
          ]
        }
      ]
    },
    {
      "cell_type": "code",
      "source": [
        "a = 5\n",
        "a -= 2# Equivalent to a = a - 2\n",
        "print(a)# Output: 3"
      ],
      "metadata": {
        "colab": {
          "base_uri": "https://localhost:8080/"
        },
        "id": "uE0Zb8wtJb_9",
        "outputId": "2c91fda0-f0ce-4c74-c506-20925a0ba728"
      },
      "execution_count": 5,
      "outputs": [
        {
          "output_type": "stream",
          "name": "stdout",
          "text": [
            "3\n"
          ]
        }
      ]
    },
    {
      "cell_type": "markdown",
      "source": [
        "-= (Subtraction assignment):\n",
        "\n",
        "Subtracts the right operand from the left operand and assigns the result to the left operand.\n",
        "\n",
        "x -= y is equivalent to x = x - y."
      ],
      "metadata": {
        "id": "VUXXgH38Km17"
      }
    },
    {
      "cell_type": "code",
      "source": [
        "x = 10\n",
        "x -= 4 # x becomes 6\n",
        "print(x)"
      ],
      "metadata": {
        "colab": {
          "base_uri": "https://localhost:8080/"
        },
        "id": "xDRhmeYGJnCr",
        "outputId": "be6839cf-c82e-492c-fbc0-9e96144c908d"
      },
      "execution_count": 7,
      "outputs": [
        {
          "output_type": "stream",
          "name": "stdout",
          "text": [
            "6\n"
          ]
        }
      ]
    },
    {
      "cell_type": "code",
      "source": [
        "a = 5\n",
        "a -= 2# Equivalent to a = a - 2\n",
        "print(a)# Output: 3"
      ],
      "metadata": {
        "colab": {
          "base_uri": "https://localhost:8080/"
        },
        "id": "nw-kPsP2KyfO",
        "outputId": "f35d46f3-23ea-4d94-cf3a-d9cae1878266"
      },
      "execution_count": 9,
      "outputs": [
        {
          "output_type": "stream",
          "name": "stdout",
          "text": [
            "3\n"
          ]
        }
      ]
    },
    {
      "cell_type": "markdown",
      "source": [
        "*= (Multiplication assignment):\n",
        "\n",
        "Multiplies the left operand by the right operand and assigns the result to the left operand.\n",
        "\n",
        "x *= y is equivalent to x = x * y."
      ],
      "metadata": {
        "id": "GlaW74gYLFQU"
      }
    },
    {
      "cell_type": "code",
      "source": [
        "x = 3\n",
        "x *= 6  # x becomes 18\n",
        "print(x)"
      ],
      "metadata": {
        "colab": {
          "base_uri": "https://localhost:8080/"
        },
        "id": "ulaSrMGBKuvy",
        "outputId": "041b45d1-bc00-4890-a252-1d562d2f8e5f"
      },
      "execution_count": 10,
      "outputs": [
        {
          "output_type": "stream",
          "name": "stdout",
          "text": [
            "18\n"
          ]
        }
      ]
    },
    {
      "cell_type": "code",
      "source": [
        "a = 5\n",
        "a *= 4# Equivalent to a = a * 4\n",
        "print(a)# Output: 20"
      ],
      "metadata": {
        "colab": {
          "base_uri": "https://localhost:8080/"
        },
        "id": "9D2drkgzLLZH",
        "outputId": "41eb1d19-6229-4c70-a874-e0d7fb4ebb44"
      },
      "execution_count": 11,
      "outputs": [
        {
          "output_type": "stream",
          "name": "stdout",
          "text": [
            "20\n"
          ]
        }
      ]
    },
    {
      "cell_type": "markdown",
      "source": [
        "/= (Division assignment):\n",
        "\n",
        "Divides the left operand by the right operand and assigns the result to the left operand.\n",
        "\n",
        "x /= y is equivalent to x = x / y."
      ],
      "metadata": {
        "id": "zjQv-zJnLZiL"
      }
    },
    {
      "cell_type": "code",
      "source": [
        "x = 15\n",
        "x /= 3  # x becomes 5.0 (float)\n",
        "print(x)"
      ],
      "metadata": {
        "colab": {
          "base_uri": "https://localhost:8080/"
        },
        "id": "jCbgXy4lLTcs",
        "outputId": "25beaa74-dcfe-4a15-aab8-3b6064c2b63a"
      },
      "execution_count": 12,
      "outputs": [
        {
          "output_type": "stream",
          "name": "stdout",
          "text": [
            "5.0\n"
          ]
        }
      ]
    },
    {
      "cell_type": "code",
      "source": [
        "a = 20\n",
        "a /= 4# Equivalent to a = a / 4\n",
        "print(a)# Output: 5.0"
      ],
      "metadata": {
        "colab": {
          "base_uri": "https://localhost:8080/"
        },
        "id": "bln24achLdzA",
        "outputId": "7fa64ef3-cdd7-4b52-bce0-ff6cd97d7ba8"
      },
      "execution_count": 13,
      "outputs": [
        {
          "output_type": "stream",
          "name": "stdout",
          "text": [
            "5.0\n"
          ]
        }
      ]
    },
    {
      "cell_type": "markdown",
      "source": [
        "%= (Modulo assignment):\n",
        "\n",
        "Calculates the modulo (remainder) of the left operand divided by the right operand and assigns the result to the left operand.\n",
        "\n",
        "x %= y is equivalent to x = x % y."
      ],
      "metadata": {
        "id": "eQcC028kLqER"
      }
    },
    {
      "cell_type": "code",
      "source": [
        "x = 17\n",
        "x %= 5  # x becomes 2\n",
        "print(x)"
      ],
      "metadata": {
        "colab": {
          "base_uri": "https://localhost:8080/"
        },
        "id": "i2lqN36qLk3I",
        "outputId": "99d91532-c1ad-425a-fef0-0264e6f8ffcc"
      },
      "execution_count": 14,
      "outputs": [
        {
          "output_type": "stream",
          "name": "stdout",
          "text": [
            "2\n"
          ]
        }
      ]
    },
    {
      "cell_type": "code",
      "source": [
        " a = 10\n",
        "a %= 3# Equivalent to a = a % 3\n",
        "print(a)# Output: 1"
      ],
      "metadata": {
        "colab": {
          "base_uri": "https://localhost:8080/"
        },
        "id": "2D0YJGNoLu6g",
        "outputId": "89ee5cbc-d3c1-487b-f44d-5d5a4c25410a"
      },
      "execution_count": 15,
      "outputs": [
        {
          "output_type": "stream",
          "name": "stdout",
          "text": [
            "1\n"
          ]
        }
      ]
    },
    {
      "cell_type": "markdown",
      "source": [
        "**= (Exponentiation assignment):\n",
        "\n",
        "Raises the left operand to the power of the right operand and assigns the result to the left operand.\n",
        "\n",
        "x \\*\\*= y is equivalent to x = x \\*\\* y"
      ],
      "metadata": {
        "id": "Y4rB8447PgfW"
      }
    },
    {
      "cell_type": "code",
      "source": [
        "x = 2\n",
        "x **= 3  # x becomes 8\n",
        "\n",
        "print(x)"
      ],
      "metadata": {
        "colab": {
          "base_uri": "https://localhost:8080/"
        },
        "id": "_0XE7PCvOMwd",
        "outputId": "8d269374-84a4-4f71-93e4-f04f1efc7e10"
      },
      "execution_count": 18,
      "outputs": [
        {
          "output_type": "stream",
          "name": "stdout",
          "text": [
            "8\n"
          ]
        }
      ]
    },
    {
      "cell_type": "code",
      "source": [
        "a = 2\n",
        "a **= 3 # Equivalent to a = a ** 3\n",
        "print(a) # Output: 8"
      ],
      "metadata": {
        "colab": {
          "base_uri": "https://localhost:8080/"
        },
        "id": "VEBVmEHyPpgr",
        "outputId": "c6a87365-4b15-48c4-d034-539691962ce7"
      },
      "execution_count": 20,
      "outputs": [
        {
          "output_type": "stream",
          "name": "stdout",
          "text": [
            "8\n"
          ]
        }
      ]
    },
    {
      "cell_type": "markdown",
      "source": [
        "//= (Floor division assignment):\n",
        "\n",
        "Performs floor division (division that rounds down to the nearest whole number) and assigns the result to the left operand.\n",
        "\n",
        "x //= y is equivalent to x = x // y."
      ],
      "metadata": {
        "id": "wPqw0pFoP-Fn"
      }
    },
    {
      "cell_type": "code",
      "source": [
        "x = 17\n",
        "x //= 3  # x becomes 5\n",
        "print(x)"
      ],
      "metadata": {
        "colab": {
          "base_uri": "https://localhost:8080/"
        },
        "id": "BGs86U9jP3ZZ",
        "outputId": "ab90ec4e-4cbe-40b8-d0ba-fc576554fbc0"
      },
      "execution_count": 22,
      "outputs": [
        {
          "output_type": "stream",
          "name": "stdout",
          "text": [
            "5\n"
          ]
        }
      ]
    },
    {
      "cell_type": "code",
      "source": [
        "a = 10\n",
        "a //= 3 # Equivalent to a = a // 3\n",
        "print(a) # Output: 3"
      ],
      "metadata": {
        "colab": {
          "base_uri": "https://localhost:8080/"
        },
        "id": "Zaqd-9i9QCZB",
        "outputId": "93b45edb-6690-41a9-fc1b-48caf8acc439"
      },
      "execution_count": 24,
      "outputs": [
        {
          "output_type": "stream",
          "name": "stdout",
          "text": [
            "3\n"
          ]
        }
      ]
    },
    {
      "cell_type": "code",
      "source": [
        "x = 5\n",
        "y = 10\n",
        "x += 2 # x = x + 2\n",
        "y *= 3 # y = y * 3\n",
        "print(x)  # Output: 7\n",
        "print(y)  # Output: 30"
      ],
      "metadata": {
        "colab": {
          "base_uri": "https://localhost:8080/"
        },
        "id": "eGDD7YwRQIM6",
        "outputId": "b197c6a1-bcbc-4785-800d-fbf03ecde44d"
      },
      "execution_count": 25,
      "outputs": [
        {
          "output_type": "stream",
          "name": "stdout",
          "text": [
            "7\n",
            "30\n"
          ]
        }
      ]
    },
    {
      "cell_type": "code",
      "source": [
        "n = 5\n",
        "factorial = 1\n",
        "for i in range(1, n + 1):\n",
        "  factorial *= i  # factorial = factorial * i\n",
        "print(factorial) # Output: 120"
      ],
      "metadata": {
        "colab": {
          "base_uri": "https://localhost:8080/"
        },
        "id": "y5s7XwhsQXuR",
        "outputId": "49f52dc5-bd01-46f3-d4df-5d9d5e630ca7"
      },
      "execution_count": 28,
      "outputs": [
        {
          "output_type": "stream",
          "name": "stdout",
          "text": [
            "120\n"
          ]
        }
      ]
    },
    {
      "cell_type": "code",
      "source": [
        "balance = 1000\n",
        "# Depositing money\n",
        "deposit = 200\n",
        "balance += deposit # balance = balance + deposit\n",
        "print(f\"Balance after deposit: {balance}\") # Output: Balance after deposit: 1200\n",
        "# Withdrawing money\n",
        "withdraw = 150\n",
        "balance -= withdraw # balance = balance - withdraw\n",
        "print(f\"Balance after withdrawal: {balance}\") # Output: Balance after withdrawal: 1050\n",
        "# Applying annual interest rate\n",
        "interest_rate = 0.05\n",
        "balance *= (1 + interest_rate) # balance = balance * (1 + interest_rate)\n",
        "print(f\"Balance after interest: {balance}\") # Output: Balance after interest: 1102.5"
      ],
      "metadata": {
        "colab": {
          "base_uri": "https://localhost:8080/"
        },
        "id": "JCQ5WDbCQbEO",
        "outputId": "c4ee416e-6c5b-4949-d199-02782ab0a872"
      },
      "execution_count": 30,
      "outputs": [
        {
          "output_type": "stream",
          "name": "stdout",
          "text": [
            "Balance after deposit: 1200\n",
            "Balance after withdrawal: 1050\n",
            "Balance after interest: 1102.5\n"
          ]
        }
      ]
    },
    {
      "cell_type": "code",
      "source": [
        "a = b = c = 10\n",
        "print(a, b, c) # Output: 10 10 10"
      ],
      "metadata": {
        "colab": {
          "base_uri": "https://localhost:8080/"
        },
        "id": "7DzzJmTYQd1a",
        "outputId": "3530ff06-0d36-487b-b56e-b8ed5dcb2fc9"
      },
      "execution_count": 31,
      "outputs": [
        {
          "output_type": "stream",
          "name": "stdout",
          "text": [
            "10 10 10\n"
          ]
        }
      ]
    },
    {
      "cell_type": "code",
      "source": [],
      "metadata": {
        "id": "FPTLtdKnSeRn"
      },
      "execution_count": null,
      "outputs": []
    }
  ]
}