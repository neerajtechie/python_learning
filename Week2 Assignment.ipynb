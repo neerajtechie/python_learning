{
 "cells": [
  {
   "cell_type": "markdown",
   "id": "7dabf19f-5f2a-4b70-b067-2eac20cf693a",
   "metadata": {},
   "source": [
    "Q1 How do you comment code in Python? What are the different types of comments?"
   ]
  },
  {
   "cell_type": "markdown",
   "id": "f5b3aded-aa19-4c62-b55c-34d960bf3946",
   "metadata": {},
   "source": [
    "In Python, you can add comments to your code to provide explanations, documentations, or temporarily disable certain parts of the code. Comments are ignored by the Python interpreter and are not executed as part of the program. There are two types of comments in Python: single-line comments and multi-line comments."
   ]
  },
  {
   "cell_type": "markdown",
   "id": "56b22d84-f2ef-466d-9815-ccf3acebcdc6",
   "metadata": {},
   "source": [
    "Single-line comments: To add a comment that spans a single line, you can use the hash character (#) followed by the comment text. Any text after the hash symbol on the same line is considered a comment. Here's an example:"
   ]
  },
  {
   "cell_type": "code",
   "execution_count": 2,
   "id": "3eb73a9e-0263-406a-9021-a95de3853611",
   "metadata": {},
   "outputs": [
    {
     "name": "stdout",
     "output_type": "stream",
     "text": [
      "Hello, World!\n"
     ]
    }
   ],
   "source": [
    "# This is a single-line comment\n",
    "print(\"Hello, World!\")  # This is another comment\n",
    "#the lines starting with \"#\" are single-line comments."
   ]
  },
  {
   "cell_type": "markdown",
   "id": "faeb60ab-bd40-4f8a-a1bb-e8a5d79716e8",
   "metadata": {},
   "source": [
    "Multi-line comments: To add comments that span multiple lines, you can enclose the comment text within triple quotes (\"\"\") at the beginning and end. This is often referred to as a docstring, and it is commonly used to document functions, classes, or modules. Here's an example:"
   ]
  },
  {
   "cell_type": "code",
   "execution_count": 3,
   "id": "788f5a41-faff-4542-97df-a9cc79b12c19",
   "metadata": {},
   "outputs": [
    {
     "name": "stdout",
     "output_type": "stream",
     "text": [
      "Hello, World!\n"
     ]
    }
   ],
   "source": [
    "\"\"\"\n",
    "This is a multi-line comment or docstring.\n",
    "It can span multiple lines.\n",
    "\"\"\"\n",
    "\n",
    "print(\"Hello, World!\")\n"
   ]
  },
  {
   "cell_type": "markdown",
   "id": "aa55b956-8c5f-49cd-bd2e-74966bd1dff5",
   "metadata": {},
   "source": [
    "In the above example, the lines enclosed within triple quotes are considered a multi-line comment.\n",
    "\n",
    "It's important to note that multi-line comments are not technically comments but rather string literals. However, because they are not assigned to any variable, they act as comments and are ignored by the Python interpreter.\n",
    "\n",
    "Comments are useful for making your code more readable and for providing information to other developers or yourself when revisiting the code later."
   ]
  },
  {
   "cell_type": "markdown",
   "id": "0b5f702a-fddd-476a-a33c-fb39d2a52f6d",
   "metadata": {},
   "source": [
    "Q2. What are variables in Python? How do you declare and assign values to variables?\n",
    "Ans:In Python, variables are used to store data or values that can be accessed and manipulated throughout your program. They serve as containers for holding different types of information, such as numbers, strings, lists, or objects. Variables allow you to store data temporarily or permanently, and you can modify their values as needed.\n",
    "\n",
    "To declare and assign values to variables in Python, you simply need to choose a name for the variable and use the assignment operator (=) to assign a value to it."
   ]
  },
  {
   "cell_type": "code",
   "execution_count": 4,
   "id": "94b55ff2-f3f6-4fca-9dd3-3c7bd21a0bd5",
   "metadata": {},
   "outputs": [],
   "source": [
    "# Variable declaration and assignment\n",
    "name = \"John\"\n",
    "age = 25\n",
    "is_student = True"
   ]
  },
  {
   "cell_type": "markdown",
   "id": "27e0366c-82cf-43a1-9884-6d2a8150d96c",
   "metadata": {},
   "source": [
    "Q3. How do you convert one data type to another in Python?\n",
    "IN Python, you can convert one data type to another using built-in functions or by using type-specific constructors. Here are some commonly used methods for type conversion:\n",
    "\n",
    "Implicit Type Conversion:\n",
    "Python performs implicit type conversion (also known as automatic type conversion) when it encounters expressions involving different data types. For example, if you perform arithmetic operations between an integer and a float, Python automatically converts the integer to a float before performing the operation. This is known as implicit type casting."
   ]
  },
  {
   "cell_type": "code",
   "execution_count": 5,
   "id": "dadf2cfd-c152-41cc-b9bd-ef408ed2f23f",
   "metadata": {},
   "outputs": [
    {
     "name": "stdout",
     "output_type": "stream",
     "text": [
      "13.14\n"
     ]
    }
   ],
   "source": [
    "# Implicit type conversion\n",
    "num_int = 10\n",
    "num_float = 3.14\n",
    "\n",
    "result = num_int + num_float  # num_int is implicitly converted to float\n",
    "print(result)  # Output: 13.14"
   ]
  },
  {
   "cell_type": "markdown",
   "id": "9b6e0a50-b0d4-4fea-9ac6-df2d801e46a3",
   "metadata": {},
   "source": [
    "Explicit Type Conversion:\n",
    "If you want to convert a value from one data type to another explicitly, you can use the following functions or constructors:\n",
    "\n",
    "int(): Converts a value to an integer.\n",
    "float(): Converts a value to a float.\n",
    "str(): Converts a value to a string.\n",
    "list(): Converts a value to a list.\n",
    "tuple(): Converts a value to a tuple.\n",
    "set(): Converts a value to a set.\n",
    "dict(): Converts a value to a dictionary."
   ]
  },
  {
   "cell_type": "code",
   "execution_count": 6,
   "id": "eb89c812-3e77-45df-b681-65ee13e767a2",
   "metadata": {},
   "outputs": [
    {
     "name": "stdout",
     "output_type": "stream",
     "text": [
      "25\n",
      "25.0\n",
      "25.0\n"
     ]
    }
   ],
   "source": [
    "# Explicit type conversion\n",
    "num_str = \"25\"\n",
    "num_int = int(num_str)  # Convert string to integer\n",
    "num_float = float(num_int)  # Convert integer to float\n",
    "num_str_again = str(num_float)  # Convert float to string\n",
    "\n",
    "print(num_int)  # Output: 25 (integer)\n",
    "print(num_float)  # Output: 25.0 (float)\n",
    "print(num_str_again)  # Output: '25.0' (string)\n"
   ]
  },
  {
   "cell_type": "markdown",
   "id": "8309907b-0653-4d0c-ab13-6b0575b250d5",
   "metadata": {},
   "source": [
    "In the above example, int() is used to convert the string \"25\" to an integer, float() is used to convert the integer 25 to a float, and str() is used to convert the float 25.0 back to a string.\n",
    "\n",
    "It's important to note that not all types of conversions are possible or meaningful. For example, converting a non-numeric string to an integer will raise a ValueError if the string cannot be interpreted as an integer.\n",
    "\n",
    "When performing type conversion, ensure that the operation is valid and appropriate for the data you're working with to avoid errors or unexpected results."
   ]
  },
  {
   "cell_type": "markdown",
   "id": "b103a42c-11e1-4efc-9408-09031657099f",
   "metadata": {},
   "source": [
    "Q4. How do you write and execute a Python script from the command line?\n",
    "Ans : To write and execute a Python script from the command line, you can follow these steps:\n",
    "\n",
    "1.Open a text editor and create a new file. Enter your Python code in the file and save it with a .py extension. For example, let's say you create a file called script.py.\n",
    "\n",
    "11.Open a command-line interface (e.g., Command Prompt on Windows or Terminal on macOS/Linux).\n",
    "\n",
    "111.Navigate to the directory where you saved the Python script using the cd command. For example, if the script is saved on your desktop, you can use the following command on macOS/Linux:\n",
    "\n",
    "1.cd ~/Desktop\n",
    "2.cd C:\\Path\\To\\Directory\n",
    "\n",
    "1111.Once you're in the correct directory, you can execute the Python script using the python command followed by the script's filename. For example\n",
    "python script.py\n",
    "This command will run the Python interpreter and execute the script you wrote. The output (if any) will be displayed in the command-line interface.\n",
    "\n",
    "It's important to note that in order to run the python command, you need to have Python installed on your system and properly set up in your system's PATH environment variable. You can check if Python is installed by running python --version in the command line, which should display the installed Python version.\n",
    "\n",
    "By following these steps, you can write your Python code in a script file and execute it from the command line. This allows you to run Python programs outside of an integrated development environment (IDE) or code editor."
   ]
  },
  {
   "cell_type": "markdown",
   "id": "84b9e3b7-3fdc-4fec-90ff-8e7fd96e75f2",
   "metadata": {},
   "source": [
    "Q.5 Given a list my_list = [1, 2, 3, 4, 5], write the code to slice the list and obtain the sub-list [2, 3].\n",
    "\n",
    "To obtain the sub-list [2, 3] from the given list my_list = [1, 2, 3, 4, 5], you can use list slicing in Python. List slicing allows you to extract a portion of a list based on the indices. Here's the code to achieve the desired result:"
   ]
  },
  {
   "cell_type": "code",
   "execution_count": 8,
   "id": "1240f19c-dfad-4c7a-a879-8f639036f765",
   "metadata": {},
   "outputs": [
    {
     "name": "stdout",
     "output_type": "stream",
     "text": [
      "[2, 3]\n"
     ]
    }
   ],
   "source": [
    "my_list = [1, 2, 3, 4, 5]\n",
    "sub_list = my_list[1:3]\n",
    "print(sub_list)"
   ]
  },
  {
   "cell_type": "markdown",
   "id": "bcdc1e50-27eb-41ab-bf77-7651c3ad0497",
   "metadata": {},
   "source": [
    "Q.6 What is a complex number in mathematics, and how is it represented in Python?\n",
    "Ans : in mathematics, a complex number is a number that can be expressed in the form a + bi, where a and b are real numbers, and i represents the imaginary unit (√-1). The real part of the complex number is denoted by a, and the imaginary part is denoted by b. Complex numbers are widely used in various mathematical and scientific fields to represent quantities that involve both real and imaginary components.\n",
    "\n",
    "In Python, complex numbers are represented using the complex data type. The complex type is built-in, and you can create complex numbers by using the syntax a + bj, where a and b are real numbers, and j represents the imaginary unit. Note that in Python, the imaginary unit is denoted by j instead of i. Here are a few examples:"
   ]
  },
  {
   "cell_type": "code",
   "execution_count": 9,
   "id": "374d26ec-5c80-4a89-a5fb-ed641602a0b6",
   "metadata": {},
   "outputs": [
    {
     "name": "stdout",
     "output_type": "stream",
     "text": [
      "(3+2j)\n",
      "(-1.5+4j)\n",
      "(2-5j)\n"
     ]
    }
   ],
   "source": [
    "# Creating complex numbers\n",
    "z1 = 3 + 2j\n",
    "z2 = -1.5 + 4j\n",
    "z3 = complex(2, -5)\n",
    "\n",
    "print(z1)  # Output: (3+2j)\n",
    "print(z2)  # Output: (-1.5+4j)\n",
    "print(z3)  # Output: (2-5j)\n"
   ]
  },
  {
   "cell_type": "markdown",
   "id": "e5390db6-6494-4922-9fb2-b184c1eb1cd9",
   "metadata": {},
   "source": [
    "In the above code, z1, z2, and z3 are complex numbers created using the complex constructor or direct assignment. The imaginary part is specified using the j notation.\n",
    "\n",
    "Python provides various built-in functions and operators for performing operations on complex numbers. You can perform arithmetic operations like addition, subtraction, multiplication, and division on complex numbers using the usual operators (+, -, *, /). Additionally, there are functions available to extract the real and imaginary parts of a complex number, calculate the conjugate, find the magnitude or absolute value, and more.\n",
    "\n",
    "Here's an example that demonstrates some basic operations on complex numbers:"
   ]
  },
  {
   "cell_type": "code",
   "execution_count": 10,
   "id": "5f85394c-e0c8-46e0-80af-c0626265c739",
   "metadata": {},
   "outputs": [
    {
     "name": "stdout",
     "output_type": "stream",
     "text": [
      "(4-3j)\n",
      "(2+7j)\n",
      "(13-13j)\n",
      "(-0.2692307692307692+0.6538461538461539j)\n",
      "(3-2j)\n",
      "5.0990195135927845\n"
     ]
    }
   ],
   "source": [
    "# Basic operations on complex numbers\n",
    "z1 = 3 + 2j\n",
    "z2 = 1 - 5j\n",
    "\n",
    "addition = z1 + z2\n",
    "subtraction = z1 - z2\n",
    "multiplication = z1 * z2\n",
    "division = z1 / z2\n",
    "conjugate = z1.conjugate()\n",
    "magnitude = abs(z2)\n",
    "\n",
    "print(addition)  # Output: (4-3j)\n",
    "print(subtraction)  # Output: (2+7j)\n",
    "print(multiplication)  # Output: (13-13j)\n",
    "print(division)  # Output: (-0.4117647058823529+0.6470588235294118j)\n",
    "print(conjugate)  # Output: (3-2j)\n",
    "print(magnitude)  # Output: 5.0990195135927845\n"
   ]
  },
  {
   "cell_type": "markdown",
   "id": "6f0634ec-58e9-4e3c-b3fb-08af2b8f510e",
   "metadata": {},
   "source": [
    "In the above example, various operations like addition, subtraction, multiplication, division, conjugate, and magnitude are performed on the complex numbers z1 and z2, demonstrating the usage of complex numbers in Python.\n",
    "\n",
    "Complex numbers in Python provide a convenient way to work with quantities involving both real and imaginary components, making them useful for a range of applications in mathematics, physics, signal processing, and more."
   ]
  },
  {
   "cell_type": "markdown",
   "id": "a2dd9332-c8c9-408a-b999-5dd28d7354a5",
   "metadata": {},
   "source": [
    "Q7. What is the correct way to declare a variable named age and assign the value 25 to it"
   ]
  },
  {
   "cell_type": "code",
   "execution_count": 11,
   "id": "3a5371ed-888b-485f-99a8-b2c3e4c22c2d",
   "metadata": {},
   "outputs": [],
   "source": [
    "age = 25\n"
   ]
  },
  {
   "cell_type": "markdown",
   "id": "c8c048aa-59b8-44cb-8b14-af56dc3d64b7",
   "metadata": {},
   "source": [
    "Q8. Declare a variable named price and assign the value 9.99 to it. What data type does this variable \n",
    "belong to?"
   ]
  },
  {
   "cell_type": "code",
   "execution_count": 13,
   "id": "c985e1d8-88fb-4bba-a329-0fd9160df668",
   "metadata": {},
   "outputs": [
    {
     "data": {
      "text/plain": [
       "float"
      ]
     },
     "execution_count": 13,
     "metadata": {},
     "output_type": "execute_result"
    }
   ],
   "source": [
    "price = 9.99\n",
    "type(price)"
   ]
  },
  {
   "cell_type": "markdown",
   "id": "85d93576-bc6e-49ab-9ea2-367791bec25b",
   "metadata": {},
   "source": [
    "9. Create a variable named name and assign your full name to it as a string. How would you print the \n",
    "value of this variable?\n"
   ]
  },
  {
   "cell_type": "code",
   "execution_count": 15,
   "id": "8a070428-2d6f-47c6-9af0-7e2cbc0fe383",
   "metadata": {},
   "outputs": [
    {
     "name": "stdout",
     "output_type": "stream",
     "text": [
      "Neerj\n"
     ]
    }
   ],
   "source": [
    "name=\"Neerj\"\n",
    "print(name)"
   ]
  },
  {
   "cell_type": "markdown",
   "id": "58966bf9-da8d-4d9a-92d6-009f870b6615",
   "metadata": {},
   "source": [
    "Q10. Given the string \"Hello, World!\", extract the substring \"World\".\n"
   ]
  },
  {
   "cell_type": "code",
   "execution_count": 12,
   "id": "6693ce33-9110-4d39-9170-aadca84811fb",
   "metadata": {},
   "outputs": [
    {
     "name": "stdout",
     "output_type": "stream",
     "text": [
      "World\n"
     ]
    }
   ],
   "source": [
    "string = \"Hello, World!\"\n",
    "substring = string[7:12]\n",
    "print(substring)"
   ]
  },
  {
   "cell_type": "code",
   "execution_count": null,
   "id": "82574bbc-9718-4aec-bf8d-600b904cfb0d",
   "metadata": {},
   "outputs": [],
   "source": []
  }
 ],
 "metadata": {
  "kernelspec": {
   "display_name": "Python 3 (ipykernel)",
   "language": "python",
   "name": "python3"
  },
  "language_info": {
   "codemirror_mode": {
    "name": "ipython",
    "version": 3
   },
   "file_extension": ".py",
   "mimetype": "text/x-python",
   "name": "python",
   "nbconvert_exporter": "python",
   "pygments_lexer": "ipython3",
   "version": "3.10.8"
  }
 },
 "nbformat": 4,
 "nbformat_minor": 5
}
