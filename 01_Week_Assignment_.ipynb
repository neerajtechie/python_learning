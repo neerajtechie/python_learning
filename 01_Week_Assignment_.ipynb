{
  "nbformat": 4,
  "nbformat_minor": 0,
  "metadata": {
    "colab": {
      "provenance": []
    },
    "kernelspec": {
      "name": "python3",
      "display_name": "Python 3"
    },
    "language_info": {
      "name": "python"
    }
  },
  "cells": [
    {
      "cell_type": "markdown",
      "source": [
        "Q1. Create one variable containing following type of data:\n",
        "\n",
        "(i) string\n",
        "\n",
        "(ii) list\n",
        "\n",
        "(iii) float\n",
        "\n",
        "(iv) tuple"
      ],
      "metadata": {
        "id": "GZ5Z8fplNiBl"
      }
    },
    {
      "cell_type": "code",
      "execution_count": 1,
      "metadata": {
        "colab": {
          "base_uri": "https://localhost:8080/"
        },
        "id": "2-UU5kgsMk0s",
        "outputId": "e446154c-c0cf-4ebd-da28-9b5da900c499"
      },
      "outputs": [
        {
          "output_type": "stream",
          "name": "stdout",
          "text": [
            "<class 'str'>\n"
          ]
        }
      ],
      "source": [
        "a= \"Neeraj\"\n",
        "print(type(a))"
      ]
    },
    {
      "cell_type": "code",
      "source": [
        "list1=['neer','nisha','23','66',44,[5,6,7,7]]\n",
        "print(type(list1))"
      ],
      "metadata": {
        "colab": {
          "base_uri": "https://localhost:8080/"
        },
        "id": "lpugLTqFNuIy",
        "outputId": "a392e4c5-a7d0-43db-c6db-904c9c25828e"
      },
      "execution_count": 2,
      "outputs": [
        {
          "output_type": "stream",
          "name": "stdout",
          "text": [
            "<class 'list'>\n"
          ]
        }
      ]
    },
    {
      "cell_type": "code",
      "source": [
        "r=677.55\n",
        "print(type(r))"
      ],
      "metadata": {
        "colab": {
          "base_uri": "https://localhost:8080/"
        },
        "id": "NChU3z1aN9G-",
        "outputId": "f99dc026-9f4f-4838-d9b3-69bdbeb0d215"
      },
      "execution_count": 4,
      "outputs": [
        {
          "output_type": "stream",
          "name": "stdout",
          "text": [
            "<class 'float'>\n"
          ]
        }
      ]
    },
    {
      "cell_type": "code",
      "source": [
        "t = (2,3,3,4,\"neer\")\n",
        "print(type(t))"
      ],
      "metadata": {
        "colab": {
          "base_uri": "https://localhost:8080/"
        },
        "id": "OKCIc_YbOEju",
        "outputId": "77804066-919c-481a-9df7-6a79012d36f9"
      },
      "execution_count": 5,
      "outputs": [
        {
          "output_type": "stream",
          "name": "stdout",
          "text": [
            "<class 'tuple'>\n"
          ]
        }
      ]
    },
    {
      "cell_type": "markdown",
      "source": [
        "Q2. Given are some following variables containing data:\n",
        "\n",
        "(i) var1 = ‘ ‘\n",
        "\n",
        "(ii) var2 = ‘[ DS , ML , Python]’\n",
        "\n",
        "(iii) var3 = [ ‘DS’ , ’ML’ , ‘Python’ ]\n",
        "\n",
        "(iv) var4 = 1.\n",
        "\n",
        "What will be the data type of the above given variable."
      ],
      "metadata": {
        "id": "m6VouRulOQnI"
      }
    },
    {
      "cell_type": "code",
      "source": [
        "var1 = ' '\n",
        "var2 = '[ DS , ML , Python]'\n",
        "Var3 = [ 'DS' , 'ML' , 'Python' ]\n",
        "Var4 = 1.\n",
        "print(type(var1))\n",
        "print(type(var2))\n",
        "print(type(Var3))\n",
        "print(type(Var4))\n",
        "\n",
        "\n"
      ],
      "metadata": {
        "colab": {
          "base_uri": "https://localhost:8080/"
        },
        "id": "a1b34OydOPMU",
        "outputId": "15800a6f-1675-45e9-aa0e-2dc3ea26a7eb"
      },
      "execution_count": 6,
      "outputs": [
        {
          "output_type": "stream",
          "name": "stdout",
          "text": [
            "<class 'str'>\n",
            "<class 'str'>\n",
            "<class 'list'>\n",
            "<class 'float'>\n"
          ]
        }
      ]
    },
    {
      "cell_type": "markdown",
      "source": [
        "Q3. Explain the use of the following operators using an example:\n",
        "\n",
        "(i) /\n",
        "\n",
        "(ii) %\n",
        "\n",
        "(iii) //\n",
        "\n",
        "(iv) **\n"
      ],
      "metadata": {
        "id": "qjguljfHPDoo"
      }
    },
    {
      "cell_type": "code",
      "source": [
        "#1: Division Operator : It divides the number completely and the result of the operation will be float class type.\n",
        "a = 10\n",
        "b = 2\n",
        "c = 3\n",
        "d = a/b\n",
        "e = a/c\n",
        "print(d, type(d))\n",
        "print(e, type(e))"
      ],
      "metadata": {
        "colab": {
          "base_uri": "https://localhost:8080/"
        },
        "id": "LVgeM-POO27-",
        "outputId": "ff8959ba-a65e-47eb-e448-e437b898c3a1"
      },
      "execution_count": 10,
      "outputs": [
        {
          "output_type": "stream",
          "name": "stdout",
          "text": [
            "5.0 <class 'float'>\n",
            "3.3333333333333335 <class 'float'>\n"
          ]
        }
      ]
    },
    {
      "cell_type": "code",
      "source": [
        "#2 Modulus or Modulo - returns the remainder of a division\n",
        "a%b\n",
        "a%c\n",
        "print(a%b)\n",
        "print(a%c)"
      ],
      "metadata": {
        "colab": {
          "base_uri": "https://localhost:8080/"
        },
        "id": "gU7caDTCPCdM",
        "outputId": "3faa7bc8-f940-489e-ea80-9c6fed9e3e92"
      },
      "execution_count": 13,
      "outputs": [
        {
          "output_type": "stream",
          "name": "stdout",
          "text": [
            "0\n",
            "1\n"
          ]
        }
      ]
    },
    {
      "cell_type": "code",
      "source": [
        "#3  // It is also call integer division becouse it give result only in integer it exclude the remainder. Example is given below\n",
        "x = 36\n",
        "y = 6\n",
        "z = 5"
      ],
      "metadata": {
        "id": "Qdppfmo7ROSQ"
      },
      "execution_count": 15,
      "outputs": []
    },
    {
      "cell_type": "code",
      "source": [
        "x//y"
      ],
      "metadata": {
        "colab": {
          "base_uri": "https://localhost:8080/"
        },
        "id": "6grdViehSCR0",
        "outputId": "02cb1fea-e6e2-4270-c196-d7466adcee59"
      },
      "execution_count": 16,
      "outputs": [
        {
          "output_type": "execute_result",
          "data": {
            "text/plain": [
              "6"
            ]
          },
          "metadata": {},
          "execution_count": 16
        }
      ]
    },
    {
      "cell_type": "code",
      "source": [
        "x//z"
      ],
      "metadata": {
        "colab": {
          "base_uri": "https://localhost:8080/"
        },
        "id": "Er4a_-znSHQT",
        "outputId": "826511ee-52f9-4aeb-df99-18c97ab16c61"
      },
      "execution_count": 17,
      "outputs": [
        {
          "output_type": "execute_result",
          "data": {
            "text/plain": [
              "7"
            ]
          },
          "metadata": {},
          "execution_count": 17
        }
      ]
    },
    {
      "cell_type": "code",
      "source": [
        "#4 ** Exponentiation (2 ki power 2 = 4)\n",
        "2**2"
      ],
      "metadata": {
        "colab": {
          "base_uri": "https://localhost:8080/"
        },
        "id": "JhxiProPSIj1",
        "outputId": "36c3a9b0-3aa4-4d01-c0f6-6cc653aba459"
      },
      "execution_count": 18,
      "outputs": [
        {
          "output_type": "execute_result",
          "data": {
            "text/plain": [
              "4"
            ]
          },
          "metadata": {},
          "execution_count": 18
        }
      ]
    },
    {
      "cell_type": "code",
      "source": [
        "x = 10\n",
        "y = 2\n",
        "x**y"
      ],
      "metadata": {
        "colab": {
          "base_uri": "https://localhost:8080/"
        },
        "id": "wAQddU8lSgOp",
        "outputId": "ff9629ed-3a74-47df-d343-5c5736566b93"
      },
      "execution_count": 19,
      "outputs": [
        {
          "output_type": "execute_result",
          "data": {
            "text/plain": [
              "100"
            ]
          },
          "metadata": {},
          "execution_count": 19
        }
      ]
    },
    {
      "cell_type": "markdown",
      "source": [
        "Q4. Create a list of length 10 of your choice containing multiple types of data. Using for loop print the\n",
        "element and its data type.\n",
        "*italicized text*"
      ],
      "metadata": {
        "id": "yzWxZ06pSxrL"
      }
    },
    {
      "cell_type": "code",
      "source": [
        "lst = [23,34,\"Neer\",[76,44,\"raj\"],\"kumar\",87,88,(6,7,8),{6,7},66]\n",
        "for i in lst:\n",
        "  print(f\"Element: {i}, Data Type: {type(i)}\")\n"
      ],
      "metadata": {
        "colab": {
          "base_uri": "https://localhost:8080/"
        },
        "id": "51xzSRMWTJcg",
        "outputId": "02e87114-71fb-4bca-9753-bee3bc2ccddb"
      },
      "execution_count": 25,
      "outputs": [
        {
          "output_type": "stream",
          "name": "stdout",
          "text": [
            "Element: 23, Data Type: <class 'int'>\n",
            "Element: 34, Data Type: <class 'int'>\n",
            "Element: Neer, Data Type: <class 'str'>\n",
            "Element: [76, 44, 'raj'], Data Type: <class 'list'>\n",
            "Element: kumar, Data Type: <class 'str'>\n",
            "Element: 87, Data Type: <class 'int'>\n",
            "Element: 88, Data Type: <class 'int'>\n",
            "Element: (6, 7, 8), Data Type: <class 'tuple'>\n",
            "Element: {6, 7}, Data Type: <class 'set'>\n",
            "Element: 66, Data Type: <class 'int'>\n"
          ]
        }
      ]
    },
    {
      "cell_type": "markdown",
      "source": [
        "Q5. Using a while loop, verify if the number A is purely divisible by number B and if so then how many\n",
        "times it can be divisible.\n"
      ],
      "metadata": {
        "id": "vQIDf-9uSxYN"
      }
    },
    {
      "cell_type": "code",
      "source": [
        "def is_divisible(a, b):\n",
        "    if b == 0:\n",
        "        return \"B cannot be zero.\"\n",
        "    count = 0\n",
        "    while a % b == 0:\n",
        "        a = a / b\n",
        "        count += 1\n",
        "    if count > 0:\n",
        "        return f\"{a} is divisible by {b}, {count} times.\"\n",
        "    else:\n",
        "        return f\"{a} is not divisible by {b}.\"\n",
        "\n",
        "# Example usage:\n",
        "A = 256\n",
        "B = 2\n",
        "result = is_divisible(A, B)\n",
        "print(result)\n"
      ],
      "metadata": {
        "colab": {
          "base_uri": "https://localhost:8080/"
        },
        "id": "D6scGXSnUYmr",
        "outputId": "6b6719fb-9255-4de1-b1be-59f0c951e89e"
      },
      "execution_count": 26,
      "outputs": [
        {
          "output_type": "stream",
          "name": "stdout",
          "text": [
            "1.0 is divisible by 2, 8 times.\n"
          ]
        }
      ]
    },
    {
      "cell_type": "markdown",
      "source": [
        "Q6. Create a list containing 25 int type data. Using for loop and if-else condition print if the element is\n",
        "divisible by 3 or not.\n"
      ],
      "metadata": {
        "id": "W2rAMRPeSxNz"
      }
    },
    {
      "cell_type": "code",
      "source": [
        "lst = [3,55,6,8,8,8,8,99,44,55,66,77,22,33,3,4,45,5,78,56,43,23,43,56,76,78,96,69,91,34,34,76,87,56,498,998,56,76]\n",
        "for z in lst:\n",
        "  if z%3 == 0 :\n",
        "   print(f\"{z} is divisible by 3\" )\n",
        "  else :\n",
        "   print(f\"{z} is not divisible by 3\")\n"
      ],
      "metadata": {
        "colab": {
          "base_uri": "https://localhost:8080/"
        },
        "id": "Pxt0PwL9WegE",
        "outputId": "d0dbef11-8032-4aea-f29d-f197efcfc992"
      },
      "execution_count": 27,
      "outputs": [
        {
          "output_type": "stream",
          "name": "stdout",
          "text": [
            "3 is divisible by 3\n",
            "55 is not divisible by 3\n",
            "6 is divisible by 3\n",
            "8 is not divisible by 3\n",
            "8 is not divisible by 3\n",
            "8 is not divisible by 3\n",
            "8 is not divisible by 3\n",
            "99 is divisible by 3\n",
            "44 is not divisible by 3\n",
            "55 is not divisible by 3\n",
            "66 is divisible by 3\n",
            "77 is not divisible by 3\n",
            "22 is not divisible by 3\n",
            "33 is divisible by 3\n",
            "3 is divisible by 3\n",
            "4 is not divisible by 3\n",
            "45 is divisible by 3\n",
            "5 is not divisible by 3\n",
            "78 is divisible by 3\n",
            "56 is not divisible by 3\n",
            "43 is not divisible by 3\n",
            "23 is not divisible by 3\n",
            "43 is not divisible by 3\n",
            "56 is not divisible by 3\n",
            "76 is not divisible by 3\n",
            "78 is divisible by 3\n",
            "96 is divisible by 3\n",
            "69 is divisible by 3\n",
            "91 is not divisible by 3\n",
            "34 is not divisible by 3\n",
            "34 is not divisible by 3\n",
            "76 is not divisible by 3\n",
            "87 is divisible by 3\n",
            "56 is not divisible by 3\n",
            "498 is divisible by 3\n",
            "998 is not divisible by 3\n",
            "56 is not divisible by 3\n",
            "76 is not divisible by 3\n"
          ]
        }
      ]
    },
    {
      "cell_type": "markdown",
      "source": [
        "Q7. What do you understand about mutable and immutable data types? Give examples for both showing\n",
        "this property."
      ],
      "metadata": {
        "id": "S2u1FxdXSwsc"
      }
    },
    {
      "cell_type": "markdown",
      "source": [
        "Immutable Data Types\n",
        "\n",
        "Immutable data types are those whose values cannot be changed after they are created. If you try to modify an immutable object, Python will create a new object with the modified value, leaving the original object unchanged.\n",
        "\n",
        "Examples of immutable data types in Python:\n",
        "\n",
        "int\n",
        "\n",
        "float\n",
        "\n",
        "complex\n",
        "\n",
        "str\n",
        "\n",
        "tuple\n",
        "\n",
        "frozenset"
      ],
      "metadata": {
        "id": "3C6BzUQgZ0K3"
      }
    },
    {
      "cell_type": "markdown",
      "source": [
        "Mutable Data Types\n",
        "Mutable data types are those whose values can be changed after they are created. When you modify a mutable object, you are changing the same object in memory, not creating a new one.\n",
        "\n",
        "Examples of mutable data types in Python:\n",
        "\n",
        "list\n",
        "\n",
        "dict\n",
        "\n",
        "set"
      ],
      "metadata": {
        "id": "1hLzlfxRaBtN"
      }
    },
    {
      "cell_type": "code",
      "source": [
        "# Integer is immutable\n",
        "x = 10\n",
        "print(f\"Original x: {x}, id(x): {id(x)}\")  # Print original x and its memory address\n",
        "\n",
        "x = x + 5  # Assign a new value to x (creates a new object)\n",
        "print(f\"Modified x: {x}, id(x): {id(x)}\")  # Print modified x and its new memory address\n",
        "\n",
        "# String is immutable\n",
        "s = \"hello\"\n",
        "print(f\"Original s: {s}, id(s): {id(s)}\")\n",
        "\n",
        "s = s + \" world\" # Creates new String\n",
        "print(f\"Modified s: {s}, id(s): {id(s)}\")\n",
        "\n",
        "# Tuple is immutable\n",
        "t = (1, 2, 3)\n",
        "print(f\"Original t: {t}, id(t): {id(t)}\")\n",
        "\n",
        "t = t + (4,5) # Creates new tuple\n",
        "print(f\"Modified t: {t}, id(t): {id(t)}\")\n"
      ],
      "metadata": {
        "colab": {
          "base_uri": "https://localhost:8080/"
        },
        "id": "c9_Lao_-Z1rM",
        "outputId": "eaedc310-4994-4e8a-d882-602b58cd58a1"
      },
      "execution_count": 28,
      "outputs": [
        {
          "output_type": "stream",
          "name": "stdout",
          "text": [
            "Original x: 10, id(x): 10751144\n",
            "Modified x: 15, id(x): 10751304\n",
            "Original s: hello, id(s): 135826771211056\n",
            "Modified s: hello world, id(s): 135825395872304\n",
            "Original t: (1, 2, 3), id(t): 135825396852096\n",
            "Modified t: (1, 2, 3, 4, 5), id(t): 135825399673888\n"
          ]
        }
      ]
    },
    {
      "cell_type": "code",
      "source": [
        "# List is mutable\n",
        "my_list = [1, 2, 3]\n",
        "print(f\"Original list: {my_list}, id(my_list): {id(my_list)}\")\n",
        "\n",
        "my_list.append(4)  # Modifies the original list\n",
        "print(f\"Modified list: {my_list}, id(my_list): {id(my_list)}\")\n",
        "\n",
        "# Dictionary is mutable\n",
        "my_dict = {\"name\": \"Alice\", \"age\": 30}\n",
        "print(f\"Original dict: {my_dict}, id(my_dict): {id(my_dict)}\")\n",
        "my_dict[\"age\"] = 31  # Modifies the original dictionary\n",
        "print(f\"Modified dict: {my_dict}, id(my_dict): {id(my_dict)}\")\n",
        "\n",
        "# Set is mutable\n",
        "my_set = {1, 2, 3}\n",
        "print(f\"Original set: {my_set}, id(my_set): {id(my_set)}\")\n",
        "my_set.add(4)\n",
        "print(f\"Modified set: {my_set}, id(my_set): {id(my_set)}\")"
      ],
      "metadata": {
        "colab": {
          "base_uri": "https://localhost:8080/"
        },
        "id": "aqDBOtCcaA28",
        "outputId": "d88120aa-93ee-4ee7-87fa-89064e475749"
      },
      "execution_count": 29,
      "outputs": [
        {
          "output_type": "stream",
          "name": "stdout",
          "text": [
            "Original list: [1, 2, 3], id(my_list): 135825395865024\n",
            "Modified list: [1, 2, 3, 4], id(my_list): 135825395865024\n",
            "Original dict: {'name': 'Alice', 'age': 30}, id(my_dict): 135825396976960\n",
            "Modified dict: {'name': 'Alice', 'age': 31}, id(my_dict): 135825396976960\n",
            "Original set: {1, 2, 3}, id(my_set): 135825398053152\n",
            "Modified set: {1, 2, 3, 4}, id(my_set): 135825398053152\n"
          ]
        }
      ]
    },
    {
      "cell_type": "code",
      "source": [],
      "metadata": {
        "id": "bjfBBeigacI5"
      },
      "execution_count": null,
      "outputs": []
    }
  ]
}