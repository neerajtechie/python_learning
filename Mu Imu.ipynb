{
 "cells": [
  {
   "cell_type": "code",
   "execution_count": 8,
   "id": "18b67698-94bb-46f1-8c8f-5cbe98cb4aaf",
   "metadata": {},
   "outputs": [],
   "source": [
    "a=\"Neerajprajpati\""
   ]
  },
  {
   "cell_type": "code",
   "execution_count": 14,
   "id": "3bb8ceae-26da-40a2-81bd-d7f7c2534e86",
   "metadata": {},
   "outputs": [
    {
     "data": {
      "text/plain": [
       "'N'"
      ]
     },
     "execution_count": 14,
     "metadata": {},
     "output_type": "execute_result"
    }
   ],
   "source": [
    "a[0]"
   ]
  },
  {
   "cell_type": "code",
   "execution_count": 13,
   "id": "277484de-3d1f-4a42-8ccc-0ef2cd274453",
   "metadata": {},
   "outputs": [
    {
     "data": {
      "text/plain": [
       "'i'"
      ]
     },
     "execution_count": 13,
     "metadata": {},
     "output_type": "execute_result"
    }
   ],
   "source": [
    "a[-1]"
   ]
  },
  {
   "cell_type": "code",
   "execution_count": 12,
   "id": "59b0fc85-2654-4811-8329-700af8b14393",
   "metadata": {},
   "outputs": [
    {
     "data": {
      "text/plain": [
       "'a'"
      ]
     },
     "execution_count": 12,
     "metadata": {},
     "output_type": "execute_result"
    }
   ],
   "source": [
    "a[8]"
   ]
  },
  {
   "cell_type": "code",
   "execution_count": 7,
   "id": "f77e4153-c7cb-476c-ae65-c5bfc68a1991",
   "metadata": {},
   "outputs": [
    {
     "data": {
      "text/plain": [
       "'j'"
      ]
     },
     "execution_count": 7,
     "metadata": {},
     "output_type": "execute_result"
    }
   ],
   "source": [
    "a[-5]"
   ]
  },
  {
   "cell_type": "code",
   "execution_count": 15,
   "id": "4f77a329-6da0-48b9-8100-2638d4bca263",
   "metadata": {},
   "outputs": [
    {
     "data": {
      "text/plain": [
       "'j'"
      ]
     },
     "execution_count": 15,
     "metadata": {},
     "output_type": "execute_result"
    }
   ],
   "source": [
    "a[9]"
   ]
  },
  {
   "cell_type": "code",
   "execution_count": 16,
   "id": "7cf06787-e152-417a-9561-98ed6de81259",
   "metadata": {},
   "outputs": [],
   "source": [
    "l=[1,2,3,4,5,6,\"Neeraj\",\"Bandna\",\"kamini\", True, 5+7j]"
   ]
  },
  {
   "cell_type": "code",
   "execution_count": 17,
   "id": "e4ac34b7-ab0c-43c4-9114-cddcca8b92ff",
   "metadata": {},
   "outputs": [
    {
     "data": {
      "text/plain": [
       "list"
      ]
     },
     "execution_count": 17,
     "metadata": {},
     "output_type": "execute_result"
    }
   ],
   "source": [
    "type(l)"
   ]
  },
  {
   "cell_type": "code",
   "execution_count": 18,
   "id": "41cbe4e5-0c5b-4590-af22-9c322781dee4",
   "metadata": {},
   "outputs": [
    {
     "data": {
      "text/plain": [
       "'kamini'"
      ]
     },
     "execution_count": 18,
     "metadata": {},
     "output_type": "execute_result"
    }
   ],
   "source": [
    "l[-3]"
   ]
  },
  {
   "cell_type": "code",
   "execution_count": 20,
   "id": "516d37e2-1f49-47fb-b02f-975f87fdc2fe",
   "metadata": {},
   "outputs": [
    {
     "data": {
      "text/plain": [
       "'kamini'"
      ]
     },
     "execution_count": 20,
     "metadata": {},
     "output_type": "execute_result"
    }
   ],
   "source": [
    "l[8]"
   ]
  },
  {
   "cell_type": "code",
   "execution_count": 21,
   "id": "3ff5cd40-a4c3-4d8f-9205-fc8a5ba55648",
   "metadata": {},
   "outputs": [
    {
     "data": {
      "text/plain": [
       "'Neeraj'"
      ]
     },
     "execution_count": 21,
     "metadata": {},
     "output_type": "execute_result"
    }
   ],
   "source": [
    "l[6]"
   ]
  },
  {
   "cell_type": "code",
   "execution_count": 23,
   "id": "1478e3cc-746a-45b6-ad41-5b61a25b0ef5",
   "metadata": {},
   "outputs": [
    {
     "data": {
      "text/plain": [
       "6"
      ]
     },
     "execution_count": 23,
     "metadata": {},
     "output_type": "execute_result"
    }
   ],
   "source": [
    "l[5]"
   ]
  },
  {
   "cell_type": "code",
   "execution_count": 24,
   "id": "9a3be0c7-3ff0-4e50-adf1-6daf85746f19",
   "metadata": {},
   "outputs": [
    {
     "data": {
      "text/plain": [
       "'Neerajprajpati'"
      ]
     },
     "execution_count": 24,
     "metadata": {},
     "output_type": "execute_result"
    }
   ],
   "source": [
    "a"
   ]
  },
  {
   "cell_type": "code",
   "execution_count": 25,
   "id": "7abb4d6a-4e79-4ec0-878a-543994531193",
   "metadata": {},
   "outputs": [
    {
     "data": {
      "text/plain": [
       "[1, 2, 3, 4, 5, 6, 'Neeraj', 'Bandna', 'kamini', True, (5+7j)]"
      ]
     },
     "execution_count": 25,
     "metadata": {},
     "output_type": "execute_result"
    }
   ],
   "source": [
    "l"
   ]
  },
  {
   "cell_type": "code",
   "execution_count": 26,
   "id": "f0950096-8ba6-4acf-92ea-fb41706f112a",
   "metadata": {},
   "outputs": [
    {
     "data": {
      "text/plain": [
       "'Neeraj'"
      ]
     },
     "execution_count": 26,
     "metadata": {},
     "output_type": "execute_result"
    }
   ],
   "source": [
    "l[6]"
   ]
  },
  {
   "cell_type": "code",
   "execution_count": 27,
   "id": "b84a882d-53da-420c-b857-e5a3c83420b0",
   "metadata": {},
   "outputs": [],
   "source": [
    "l[6]=100"
   ]
  },
  {
   "cell_type": "code",
   "execution_count": 28,
   "id": "df5c62ae-d082-4ccc-8df8-888f8cf51952",
   "metadata": {},
   "outputs": [
    {
     "data": {
      "text/plain": [
       "[1, 2, 3, 4, 5, 6, 100, 'Bandna', 'kamini', True, (5+7j)]"
      ]
     },
     "execution_count": 28,
     "metadata": {},
     "output_type": "execute_result"
    }
   ],
   "source": [
    "l"
   ]
  },
  {
   "cell_type": "code",
   "execution_count": 29,
   "id": "3bddb337-dbea-401f-89d8-52032e2fae64",
   "metadata": {},
   "outputs": [],
   "source": [
    "l[7]=0"
   ]
  },
  {
   "cell_type": "code",
   "execution_count": 30,
   "id": "f87aca61-b638-469c-a811-945a5dc34432",
   "metadata": {},
   "outputs": [
    {
     "data": {
      "text/plain": [
       "[1, 2, 3, 4, 5, 6, 100, 0, 'kamini', True, (5+7j)]"
      ]
     },
     "execution_count": 30,
     "metadata": {},
     "output_type": "execute_result"
    }
   ],
   "source": [
    "l"
   ]
  },
  {
   "cell_type": "code",
   "execution_count": 32,
   "id": "001f7012-d94d-48bf-a60a-5040ccfc96a9",
   "metadata": {},
   "outputs": [
    {
     "data": {
      "text/plain": [
       "'Neerajprajpati'"
      ]
     },
     "execution_count": 32,
     "metadata": {},
     "output_type": "execute_result"
    }
   ],
   "source": [
    "a"
   ]
  },
  {
   "cell_type": "code",
   "execution_count": 33,
   "id": "7db8b12c-ea34-4b97-b70f-f682f264f414",
   "metadata": {},
   "outputs": [
    {
     "ename": "TypeError",
     "evalue": "'str' object does not support item assignment",
     "output_type": "error",
     "traceback": [
      "\u001b[0;31m---------------------------------------------------------------------------\u001b[0m",
      "\u001b[0;31mTypeError\u001b[0m                                 Traceback (most recent call last)",
      "Cell \u001b[0;32mIn[33], line 1\u001b[0m\n\u001b[0;32m----> 1\u001b[0m \u001b[43ma\u001b[49m\u001b[43m[\u001b[49m\u001b[38;5;241;43m2\u001b[39;49m\u001b[43m]\u001b[49m\u001b[38;5;241m=\u001b[39m\u001b[38;5;124m'\u001b[39m\u001b[38;5;124mk\u001b[39m\u001b[38;5;124m'\u001b[39m\n",
      "\u001b[0;31mTypeError\u001b[0m: 'str' object does not support item assignment"
     ]
    }
   ],
   "source": [
    "a[2]='k'"
   ]
  },
  {
   "cell_type": "code",
   "execution_count": null,
   "id": "598cd10a-1a16-4b7e-849f-9a63893baaba",
   "metadata": {},
   "outputs": [],
   "source": []
  }
 ],
 "metadata": {
  "kernelspec": {
   "display_name": "Python 3 (ipykernel)",
   "language": "python",
   "name": "python3"
  },
  "language_info": {
   "codemirror_mode": {
    "name": "ipython",
    "version": 3
   },
   "file_extension": ".py",
   "mimetype": "text/x-python",
   "name": "python",
   "nbconvert_exporter": "python",
   "pygments_lexer": "ipython3",
   "version": "3.10.8"
  }
 },
 "nbformat": 4,
 "nbformat_minor": 5
}
