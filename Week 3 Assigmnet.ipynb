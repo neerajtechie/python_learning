{
 "cells": [
  {
   "cell_type": "markdown",
   "id": "cdafe62d-e86f-4713-81fa-0fd34a1af442",
   "metadata": {},
   "source": [
    "Q1. Which keyword is used to create a function? Create a function to return a list of odd numbers in the \n",
    "range of 1 to 25."
   ]
  },
  {
   "cell_type": "markdown",
   "id": "853d91fb-9643-4088-943b-5519b684a527",
   "metadata": {},
   "source": [
    "In most programming languages, including Python, the keyword used to create a function is \"def\". Here's how you can create a function in Python to return a list of odd numbers in the range of 1 to 25:"
   ]
  },
  {
   "cell_type": "code",
   "execution_count": 1,
   "id": "b4442743-2933-4f05-a0f6-029ab903939e",
   "metadata": {},
   "outputs": [
    {
     "name": "stdout",
     "output_type": "stream",
     "text": [
      "[1, 3, 5, 7, 9, 11, 13, 15, 17, 19, 21, 23, 25]\n"
     ]
    }
   ],
   "source": [
    "def get_odd_numbers():\n",
    "    odd_numbers = []\n",
    "    for num in range(1, 26):\n",
    "        if num % 2 != 0:\n",
    "            odd_numbers.append(num)\n",
    "    return odd_numbers\n",
    "odd_numbers_list = get_odd_numbers()\n",
    "print(odd_numbers_list)"
   ]
  },
  {
   "cell_type": "markdown",
   "id": "5f74158e-c4d3-49e7-8d34-de70e9091620",
   "metadata": {},
   "source": [
    "Q2. Why *args and **kwargs is used in some functions? Create a function each for *args and **kwargs to \n",
    "demonstrate their use."
   ]
  },
  {
   "cell_type": "markdown",
   "id": "c5661a09-e52a-4f20-bc73-0701c9272269",
   "metadata": {},
   "source": [
    "*args and **kwargs are used in Python functions when you want to allow the function to accept a variable number of arguments. Here's what they do:\n",
    "\n",
    "*args: It allows a function to accept an arbitrary number of positional arguments. The *args parameter is used to collect these positional arguments into a tuple within the function.\n",
    "\n",
    "**kwargs: It allows a function to accept an arbitrary number of keyword arguments. The **kwargs parameter is used to collect these keyword arguments into a dictionary within the function."
   ]
  },
  {
   "cell_type": "code",
   "execution_count": 2,
   "id": "2fde19d1-bab3-435c-b7cb-8bc4805cd3c3",
   "metadata": {},
   "outputs": [
    {
     "name": "stdout",
     "output_type": "stream",
     "text": [
      "Hello World!\n"
     ]
    }
   ],
   "source": [
    "def concatenate_strings(*args):\n",
    "    result = \"\"\n",
    "    for arg in args:\n",
    "        result += arg\n",
    "    return result\n",
    "\n",
    "# Using the function\n",
    "print(concatenate_strings(\"Hello\", \" \", \"World\", \"!\"))\n"
   ]
  },
  {
   "cell_type": "markdown",
   "id": "9bfe6aea-475e-4701-b188-ee870b37a18e",
   "metadata": {},
   "source": [
    "Function using **kwargs:\n",
    "n this function, we use **kwargs to accept any number of keyword arguments. The function print_key_value_pairs takes all the keyword arguments passed to it and prints their key-value pairs. When you call the function with multiple keyword arguments, it displays each key-value pair:\n",
    "Keep in mind that you are not restricted to using just *args or **kwargs alone. You can use them together in the same function if you need to handle both positional and keyword arguments dynamically."
   ]
  },
  {
   "cell_type": "code",
   "execution_count": 3,
   "id": "d2385654-a823-4fcd-9d99-6adaf3e81183",
   "metadata": {},
   "outputs": [
    {
     "name": "stdout",
     "output_type": "stream",
     "text": [
      "name: Alice\n",
      "age: 30\n",
      "city: New York\n",
      "occupation: Engineer\n"
     ]
    }
   ],
   "source": [
    "def print_key_value_pairs(**kwargs):\n",
    "    for key, value in kwargs.items():\n",
    "        print(f\"{key}: {value}\")\n",
    "\n",
    "# Using the function\n",
    "print_key_value_pairs(name=\"Alice\", age=30, city=\"New York\", occupation=\"Engineer\")\n"
   ]
  },
  {
   "cell_type": "markdown",
   "id": "a4b9a732-f8da-4e2d-a407-1039e4f9a96a",
   "metadata": {},
   "source": [
    "Q3.  What is an iterator in python? Name the method used to initialise the iterator object and the method \n",
    "used for iteration. Use these methods to print the first five elements of the given list [2, 4, 6, 8, 10, 12, 14, 16, \n",
    "18, 20]."
   ]
  },
  {
   "cell_type": "markdown",
   "id": "c0bdbdd7-d88b-4ae8-bc53-598547eb6561",
   "metadata": {},
   "source": [
    "In Python, an iterator is an object that implements two methods: __iter__() and __next__(). These methods enable an iterator to traverse through a sequence of elements one at a time, allowing iteration over the elements of a container (like lists, tuples, dictionaries, etc.) or any custom-defined iterable.\n",
    "\n",
    "__iter__(): This method initializes the iterator object and returns itself. It is responsible for setting up the necessary state for iteration.\n",
    "\n",
    "__next__(): This method is called to retrieve the next element from the iterator. It returns the next element in the sequence. If there are no more elements to return, it raises the StopIteration exception to signal the end of iteration.\n",
    "\n",
    "To print the first five elements of the given list [2, 4, 6, 8, 10, 12, 14, 16, 18, 20], we can use the iter() method to initialize the iterator object and the next() method for iteration."
   ]
  },
  {
   "cell_type": "code",
   "execution_count": 4,
   "id": "0d04ac1b-35bb-4a60-8a1f-be7332e6a4ca",
   "metadata": {},
   "outputs": [
    {
     "name": "stdout",
     "output_type": "stream",
     "text": [
      "2\n",
      "4\n",
      "6\n",
      "8\n",
      "10\n"
     ]
    }
   ],
   "source": [
    "# Given list\n",
    "my_list = [2, 4, 6, 8, 10, 12, 14, 16, 18, 20]\n",
    "\n",
    "# Initialize the iterator object\n",
    "my_iterator = iter(my_list)\n",
    "\n",
    "# Print the first five elements using the next() method\n",
    "for _ in range(5):\n",
    "    element = next(my_iterator)\n",
    "    print(element)\n"
   ]
  },
  {
   "cell_type": "markdown",
   "id": "8921108d-a76a-4130-a44c-d9e8fa7efd6d",
   "metadata": {},
   "source": [
    "Q4.  What is a generator function in python? Why yield keyword is used? Give an example of a generator \n",
    "function."
   ]
  },
  {
   "cell_type": "markdown",
   "id": "534c7210-61f5-4b7a-8c74-6e808c96b2ea",
   "metadata": {},
   "source": [
    "In Python, a generator function is a special type of function that returns an iterator (generator) when called. Instead of using the return keyword to send a value, a generator function uses the yield keyword to produce a sequence of values, one at a time, in a memory-efficient and lazy manner. This means that the generator produces the next value only when it is requested, saving memory and processing resources compared to generating the entire sequence upfront.\n",
    "\n",
    "Key characteristics of a generator function:\n",
    "\n",
    "Uses the yield keyword to produce values, allowing the function to be paused and resumed during iteration.\n",
    "Generates values lazily, only producing the next value when requested.\n",
    "Remembers its state between iterations, so it picks up where it left off when the next value is requested.\n",
    "The yield keyword is used in generator functions to yield a value to the caller and temporarily suspend the function's execution. When the generator function is called, it returns a generator object that can be iterated over. Each time the yield statement is encountered during iteration, the function's state is saved, and the yielded value is returned to the caller. When the generator is iterated again (usually through a loop), the function continues execution from where it was paused until it encounters the next yield statement."
   ]
  },
  {
   "cell_type": "code",
   "execution_count": 5,
   "id": "6cf68115-40b9-4ff9-9f58-7399154c6a18",
   "metadata": {},
   "outputs": [
    {
     "name": "stdout",
     "output_type": "stream",
     "text": [
      "0\n",
      "1\n",
      "4\n",
      "9\n",
      "16\n"
     ]
    }
   ],
   "source": [
    "def square_numbers(n):\n",
    "    for i in range(n):\n",
    "        yield i ** 2\n",
    "\n",
    "# Using the generator function\n",
    "my_generator = square_numbers(5)\n",
    "\n",
    "# Iterating over the generator and printing the square numbers\n",
    "for num in my_generator:\n",
    "    print(num)\n"
   ]
  },
  {
   "cell_type": "markdown",
   "id": "03600e4a-d3ff-4bf4-a0ab-be3dacc07655",
   "metadata": {},
   "source": [
    "Q5. Create a generator function for prime numbers less than 1000. Use the next() method to print the \n",
    "first 20 prime numbers"
   ]
  },
  {
   "cell_type": "code",
   "execution_count": 6,
   "id": "c0919c74-d9d7-45a4-aea4-c272162b7cc0",
   "metadata": {},
   "outputs": [
    {
     "name": "stdout",
     "output_type": "stream",
     "text": [
      "2\n",
      "3\n",
      "5\n",
      "7\n",
      "11\n",
      "13\n",
      "17\n",
      "19\n",
      "23\n",
      "29\n",
      "31\n",
      "37\n",
      "41\n",
      "43\n",
      "47\n",
      "53\n",
      "59\n",
      "61\n",
      "67\n",
      "71\n"
     ]
    }
   ],
   "source": [
    "def is_prime(number):\n",
    "    if number < 2:\n",
    "        return False\n",
    "    for i in range(2, int(number**0.5) + 1):\n",
    "        if number % i == 0:\n",
    "            return False\n",
    "    return True\n",
    "\n",
    "def prime_numbers():\n",
    "    number = 2\n",
    "    while True:\n",
    "        if is_prime(number):\n",
    "            yield number\n",
    "        number += 1\n",
    "\n",
    "# Using the generator to print the first 20 prime numbers\n",
    "prime_gen = prime_numbers()\n",
    "for _ in range(20):\n",
    "    print(next(prime_gen))\n"
   ]
  }
 ],
 "metadata": {
  "kernelspec": {
   "display_name": "Python 3 (ipykernel)",
   "language": "python",
   "name": "python3"
  },
  "language_info": {
   "codemirror_mode": {
    "name": "ipython",
    "version": 3
   },
   "file_extension": ".py",
   "mimetype": "text/x-python",
   "name": "python",
   "nbconvert_exporter": "python",
   "pygments_lexer": "ipython3",
   "version": "3.10.8"
  }
 },
 "nbformat": 4,
 "nbformat_minor": 5
}
