{
 "cells": [
  {
   "cell_type": "markdown",
   "id": "316f9287-2cda-4a75-a6f5-16276f52707c",
   "metadata": {},
   "source": [
    "Condition : If_else, while, Loop, range"
   ]
  },
  {
   "cell_type": "code",
   "execution_count": 40,
   "id": "86b6903b-da91-41dd-be46-030e285d58df",
   "metadata": {},
   "outputs": [],
   "source": [
    "a = 10"
   ]
  },
  {
   "cell_type": "code",
   "execution_count": 41,
   "id": "891df5ab-7990-4928-baa9-61643bfc2d95",
   "metadata": {},
   "outputs": [],
   "source": [
    "if a > 10 :\n",
    "     pass"
   ]
  },
  {
   "cell_type": "code",
   "execution_count": 42,
   "id": "caca62d6-5df0-4e68-9c0b-1a66dcb9edd6",
   "metadata": {},
   "outputs": [
    {
     "data": {
      "text/plain": [
       "False"
      ]
     },
     "execution_count": 42,
     "metadata": {},
     "output_type": "execute_result"
    }
   ],
   "source": [
    "a > 10"
   ]
  },
  {
   "cell_type": "code",
   "execution_count": 43,
   "id": "248f494e-531e-43c7-bfcc-1d4eab4aa515",
   "metadata": {},
   "outputs": [
    {
     "name": "stdout",
     "output_type": "stream",
     "text": [
      "Rahul\n"
     ]
    }
   ],
   "source": [
    "if a == 10 :\n",
    "    print(\"Rahul\") ;"
   ]
  },
  {
   "cell_type": "code",
   "execution_count": 44,
   "id": "b04c5335-853f-4033-bb58-a3badd8a4e94",
   "metadata": {},
   "outputs": [
    {
     "name": "stdout",
     "output_type": "stream",
     "text": [
      "Kumar\n"
     ]
    }
   ],
   "source": [
    "if a > 10 :\n",
    "    print(\"Rahul\")\n",
    "else :\n",
    "    print(\"Kumar\") ;"
   ]
  },
  {
   "cell_type": "code",
   "execution_count": 45,
   "id": "30f63fbe-1b1b-4412-9ffd-e8170a6b6ca9",
   "metadata": {},
   "outputs": [],
   "source": [
    "a = 70\n",
    "if a < 60 :\n",
    "    print(\" this will execute when a is less than\");"
   ]
  },
  {
   "cell_type": "code",
   "execution_count": 46,
   "id": "511c593f-4855-421c-8eca-16994c5c424f",
   "metadata": {},
   "outputs": [
    {
     "name": "stdout",
     "output_type": "stream",
     "text": [
      "this will execute when a is greater than 60\n"
     ]
    }
   ],
   "source": [
    "a = 70\n",
    "if a < 60 :\n",
    "    print(\" this will execute when a is less than 60\")\n",
    "else :\n",
    "    print( \"this will execute when a is greater than 60\");"
   ]
  },
  {
   "cell_type": "code",
   "execution_count": 47,
   "id": "f18ff517-f349-48d5-ac18-bf76fdcb4c52",
   "metadata": {},
   "outputs": [
    {
     "name": "stdout",
     "output_type": "stream",
     "text": [
      "this is trying to check a condition for a where a could be 10 or lesser\n"
     ]
    }
   ],
   "source": [
    "a = 10\n",
    "if a > 10 :\n",
    "    print(\" this will execute once a greater than 10\")\n",
    "elif a <= 10 :\n",
    "    print(\"this is trying to check a condition for a where a could be 10 or lesser\")\n",
    "else :\n",
    "    print( \"this will execute once if will not be able to perform\");"
   ]
  },
  {
   "cell_type": "code",
   "execution_count": null,
   "id": "70a0c0a6-3d89-44c7-98ec-b5fe999ee15c",
   "metadata": {},
   "outputs": [],
   "source": [
    "a = int(input(\"Enter the value for a\"))\n",
    "if a > 10 :\n",
    "    print(\" this will execute once a greater than 10\")\n",
    "elif a <= 10 :\n",
    "    print(\"this is trying to check a condition for a where a could be 10 or lesser\")\n",
    "else :\n",
    "    print( \"this will execute once if will not be able to perform\");"
   ]
  },
  {
   "cell_type": "code",
   "execution_count": null,
   "id": "7d6061ba-7917-4f78-9743-b534905cc544",
   "metadata": {},
   "outputs": [],
   "source": [
    "a = int(input(\"Enter the value for a\"))\n",
    "if a > 10 :\n",
    "    print(\" this will execute once a greater than 10\")\n",
    "elif a <= 10 :\n",
    "    print(\"this is trying to check a condition for a where a could be 10 or lesser\")\n",
    "else :\n",
    "    print( \"this will execute once if will not be able to perform\");\n",
    "    "
   ]
  },
  {
   "cell_type": "markdown",
   "id": "6903534b-3a0d-4d4f-994f-47b09fdbf938",
   "metadata": {},
   "source": [
    "Loop"
   ]
  },
  {
   "cell_type": "code",
   "execution_count": null,
   "id": "3647cfb9-dd5e-4a2f-8233-f46073f74191",
   "metadata": {},
   "outputs": [],
   "source": [
    "n = 10\n",
    "i = 1\n",
    "\n",
    "while i < n :\n",
    "    print(i)\n",
    "    i = i+1"
   ]
  },
  {
   "cell_type": "code",
   "execution_count": null,
   "id": "09e04694-1023-4882-87c1-11610cf14588",
   "metadata": {},
   "outputs": [],
   "source": [
    "i = int(input(\"Write the no\"))\n",
    "while i < 45 :\n",
    "    print(i)\n",
    "    i = i+1\n",
    "else :\n",
    "    print(\"Completed Successfully\")"
   ]
  },
  {
   "cell_type": "code",
   "execution_count": null,
   "id": "ca70ea9d-4ecc-4916-8ce1-8a8412285fab",
   "metadata": {},
   "outputs": [],
   "source": [
    "i = int(input(\"Write the no\"))\n",
    "while i < 45 :\n",
    "    print(i)\n",
    "    i = i+1\n",
    "    if i == 42 :\n",
    "        break\n",
    "else :\n",
    "    print(\"Completed Successfully\")"
   ]
  },
  {
   "cell_type": "code",
   "execution_count": null,
   "id": "6c3764bb-06da-412b-b585-6a5839076e42",
   "metadata": {},
   "outputs": [],
   "source": [
    "i = int(input(\"Write the no\"))\n",
    "while i < 45 :\n",
    "    print(i)\n",
    "    i = i+1\n",
    "    if i == 42 :\n",
    "        continue\n",
    "else :\n",
    "    print(\"Completed Successfully\")"
   ]
  },
  {
   "cell_type": "code",
   "execution_count": null,
   "id": "48cb9034-5100-45ce-894e-05c0ef2ae101",
   "metadata": {},
   "outputs": [],
   "source": [
    "n = 10\n",
    "i = 1\n",
    "while i < n :\n",
    "    \n",
    "    i = i+1\n",
    "    if i == 3 :\n",
    "        continue\n",
    "    print(i)\n",
    "else :\n",
    "    print(\"Completed Successfully\")"
   ]
  },
  {
   "cell_type": "code",
   "execution_count": null,
   "id": "f4a07074-df27-472d-b268-20e58a6acaf5",
   "metadata": {},
   "outputs": [],
   "source": [
    "s = \"neeraj\""
   ]
  },
  {
   "cell_type": "code",
   "execution_count": null,
   "id": "f8c61a4a-33f1-49e5-969d-e07033242081",
   "metadata": {},
   "outputs": [],
   "source": [
    "for i in s:\n",
    "    print(i)"
   ]
  },
  {
   "cell_type": "code",
   "execution_count": null,
   "id": "38e6b5cd-9bc1-424a-be45-7ef263ad987f",
   "metadata": {},
   "outputs": [],
   "source": []
  },
  {
   "cell_type": "code",
   "execution_count": null,
   "id": "9484c9ee-04a0-480e-9361-0493277c94c6",
   "metadata": {},
   "outputs": [],
   "source": [
    "list_1 = [1,2,3,4,5,6,\"neeraj\"]"
   ]
  },
  {
   "cell_type": "code",
   "execution_count": null,
   "id": "4c08caf6-ec6f-4637-948a-1ba225161014",
   "metadata": {},
   "outputs": [],
   "source": [
    "for i in list_1:\n",
    "    print(i)\n",
    "else :\n",
    "    print(\"mission passed\")"
   ]
  },
  {
   "cell_type": "code",
   "execution_count": null,
   "id": "0f8edd97-df73-4775-8170-a219315f318d",
   "metadata": {},
   "outputs": [],
   "source": [
    "for i in list_1:\n",
    "    print(i)\n",
    "    if i == \"neeraj\":\n",
    "        break\n",
    "else :\n",
    "    print(\"mission passed\")"
   ]
  },
  {
   "cell_type": "code",
   "execution_count": null,
   "id": "765616c5-760f-4011-8219-ea8470ab4530",
   "metadata": {},
   "outputs": [],
   "source": [
    "for i in list_1:\n",
    "    print(i)\n",
    "    if i == \"neeraj\":\n",
    "        continue\n",
    "else :\n",
    "    print(\"mission passed\")"
   ]
  },
  {
   "cell_type": "code",
   "execution_count": null,
   "id": "0b7cbb57-b2f1-43e2-abc8-c8b2940b558d",
   "metadata": {},
   "outputs": [],
   "source": [
    "range(10)"
   ]
  },
  {
   "cell_type": "code",
   "execution_count": null,
   "id": "398e1859-bc4a-4684-a178-ef8e7ff59406",
   "metadata": {},
   "outputs": [],
   "source": [
    "list(range(10))"
   ]
  },
  {
   "cell_type": "code",
   "execution_count": null,
   "id": "f6e12744-4e2b-4f78-b64d-fde75b9e2709",
   "metadata": {},
   "outputs": [],
   "source": []
  },
  {
   "cell_type": "code",
   "execution_count": null,
   "id": "4d16c193-716c-45b1-a174-6844e3f92f89",
   "metadata": {},
   "outputs": [],
   "source": []
  }
 ],
 "metadata": {
  "kernelspec": {
   "display_name": "Python 3 (ipykernel)",
   "language": "python",
   "name": "python3"
  },
  "language_info": {
   "codemirror_mode": {
    "name": "ipython",
    "version": 3
   },
   "file_extension": ".py",
   "mimetype": "text/x-python",
   "name": "python",
   "nbconvert_exporter": "python",
   "pygments_lexer": "ipython3",
   "version": "3.10.8"
  }
 },
 "nbformat": 4,
 "nbformat_minor": 5
}
