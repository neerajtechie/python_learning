{
  "nbformat": 4,
  "nbformat_minor": 0,
  "metadata": {
    "colab": {
      "provenance": []
    },
    "kernelspec": {
      "name": "python3",
      "display_name": "Python 3"
    },
    "language_info": {
      "name": "python"
    }
  },
  "cells": [
    {
      "cell_type": "markdown",
      "source": [
        "Q1. Explain Class and Object with respect to Object-Oriented Programming. Give a suitable example.\n"
      ],
      "metadata": {
        "id": "UQl-BH-EkdXN"
      }
    },
    {
      "cell_type": "markdown",
      "source": [
        "Class: The Blueprint\n",
        "\n",
        "A class is like a blueprint or a template for creating objects. It defines the structure and behavior that objects of that class will have. 1  It's a logical entity – it doesn't exist in the computer's memory in a direct, tangible way until you create an object from it.\n",
        "\n",
        "Think of a blueprint for a car. The blueprint specifies things like:\n",
        "\n",
        "Attributes (Data): What a car has (e.g., number of wheels, color, engine type, model). In programming, these are often represented as variables.\n",
        "Methods (Behavior): What a car can do (e.g., start, stop, accelerate, brake). In programming, these are represented as functions within the class.\n",
        "\n",
        "Object: The Real Thing\n",
        "\n",
        "An object is a specific instance of a class. It's a concrete entity that exists in the computer's memory. When you create an object from a class, you're essentially bringing the blueprint to life.\n",
        "\n",
        "Using our car analogy, an object would be an actual car built from the blueprint. You can have many different cars (objects) that were all made using the same blueprint (class). Each car will have the attributes defined in the blueprint, but their specific values can be different (e.g., one car might be red, another blue). They will also be able to perform the actions (methods) defined in the blueprint."
      ],
      "metadata": {
        "id": "MRc3iyMQn-DP"
      }
    },
    {
      "cell_type": "code",
      "source": [
        "# Define the Dog class (the blueprint)\n",
        "class Dog:\n",
        "    # Attributes (characteristics of a dog)\n",
        "    def __init__(self, name, breed, age):\n",
        "        self.name = name\n",
        "        self.breed = breed\n",
        "        self.age = age\n",
        "\n",
        "    # Methods (actions a dog can perform)\n",
        "    def bark(self):\n",
        "        print(\"Woof!\")\n",
        "\n",
        "    def wag_tail(self):\n",
        "        print(\"*Tail wags excitedly*\")\n",
        "\n",
        "    def describe(self):\n",
        "        print(f\"This is {self.name}, a {self.age}-year-old {self.breed}.\")\n",
        "\n",
        "# Create objects (instances) of the Dog class\n",
        "my_dog = Dog(\"Buddy\", \"Golden Retriever\", 3)\n",
        "your_dog = Dog(\"Lucy\", \"Poodle\", 5)\n",
        "another_dog = Dog(\"Max\", \"German Shepherd\", 1)\n",
        "\n",
        "# Access the attributes of the objects\n",
        "print(my_dog.name)       # Output: Buddy\n",
        "print(your_dog.breed)      # Output: Poodle\n",
        "print(another_dog.age)    # Output: 1\n",
        "\n",
        "# Call the methods of the objects\n",
        "my_dog.bark()           # Output: Woof!\n",
        "your_dog.wag_tail()      # Output: *Tail wags excitedly*\n",
        "another_dog.describe()  # Output: This is Max, a 1-year-old German Shepherd."
      ],
      "metadata": {
        "colab": {
          "base_uri": "https://localhost:8080/"
        },
        "id": "1xsi7-eYoeig",
        "outputId": "38e9a36a-d198-4e46-f31e-91e64bd12b16"
      },
      "execution_count": 13,
      "outputs": [
        {
          "output_type": "stream",
          "name": "stdout",
          "text": [
            "Buddy\n",
            "Poodle\n",
            "1\n",
            "Woof!\n",
            "*Tail wags excitedly*\n",
            "This is Max, a 1-year-old German Shepherd.\n"
          ]
        }
      ]
    },
    {
      "cell_type": "markdown",
      "source": [
        "Q2. Name the four pillars of OOPs.\n",
        "\n",
        "Encapsulation\n",
        "\n",
        "Abstraction\n",
        "\n",
        "Inheritance\n",
        "\n",
        "Polymorphism"
      ],
      "metadata": {
        "id": "f5zKox1PkhlJ"
      }
    },
    {
      "cell_type": "markdown",
      "source": [
        "Q3. Explain why the __init__() function is used. Give a suitable example.\n"
      ],
      "metadata": {
        "id": "mQZatE3zkmm5"
      }
    },
    {
      "cell_type": "markdown",
      "source": [
        "The __init__() function in Python is a special method, often referred to as the constructor. Its primary purpose is to initialize the attributes (data) of an object when that object is created from a class.\n",
        "\n",
        "Think of it like this: when you get the blueprint for a car (class Car), and you decide to build an actual car (object my_car), you need to set some initial properties for that specific car, like its color, model, and initial mileage. The __init__() function is where you define how these initial properties are set up for each new car you build.\n",
        "\n",
        "Key Reasons Why __init__() is Used:\n",
        "\n",
        "Automatic Initialization: It's automatically called when you create a new instance (object) of a class. You don't have to explicitly call it.\n",
        "Setting Initial State: It allows you to define the initial values for the object's attributes. This ensures that every object of the class starts with a well-defined state.\n",
        "Passing Arguments During Object Creation: You can define parameters in the __init__() method, which allows you to provide specific values for the attributes when you create an object. This makes your objects more flexible and tailored."
      ],
      "metadata": {
        "id": "y-Dy5JDEqU9T"
      }
    },
    {
      "cell_type": "code",
      "source": [
        "class Dog:\n",
        "    # The __init__() method (constructor)\n",
        "    def __init__(self, name, breed, age):\n",
        "        # Initialize the attributes of the Dog object\n",
        "        self.name = name\n",
        "        self.breed = breed\n",
        "        self.age = age\n",
        "\n",
        "    def bark(self):\n",
        "        print(\"Woof!\")\n",
        "\n",
        "    def describe(self):\n",
        "        print(f\"This is {self.name}, a {self.age}-year-old {self.breed}.\")\n",
        "\n",
        "# Creating Dog objects and passing initial values\n",
        "my_dog = Dog(\"Buddy\", \"Golden Retriever\", 3)\n",
        "your_dog = Dog(\"Lucy\", \"Poodle\", 5)\n",
        "\n",
        "# Accessing the initialized attributes\n",
        "print(my_dog.name)  # Output: Buddy\n",
        "print(your_dog.age)   # Output: 5\n",
        "\n",
        "# Calling a method that uses the initialized attributes\n",
        "my_dog.describe()   # Output: This is Buddy, a 3-year-old Golden Retriever."
      ],
      "metadata": {
        "colab": {
          "base_uri": "https://localhost:8080/"
        },
        "id": "_UOu3_mBqWIT",
        "outputId": "6db4dd38-e9ae-4474-f886-4739d8e76cb0"
      },
      "execution_count": 14,
      "outputs": [
        {
          "output_type": "stream",
          "name": "stdout",
          "text": [
            "Buddy\n",
            "5\n",
            "This is Buddy, a 3-year-old Golden Retriever.\n"
          ]
        }
      ]
    },
    {
      "cell_type": "markdown",
      "source": [
        "Q4. Why self is used in OOPs?\n",
        "Distinguishing Instances: When you create multiple objects from the same class, each object has its own set of attributes (data). 1  The self parameter allows methods to access and modify the attributes of the specific object that the method is being called on. Without self, the method wouldn't know which object's attributes it's supposed to be working with.\n",
        "\n",
        "Accessing Attributes: Inside a method, you use self.attribute_name to access the attributes (variables) that belong to the object. For example, if a Dog object has a name attribute, a method within the Dog class would access it using self.name.\n",
        "\n",
        "Calling Other Methods: An object's methods can also call other methods within the same class using self.method_name(). This allows for organized and reusable code within the class.\n",
        "\n",
        "Implicit First Argument: When you define a method in a class, Python automatically passes the instance of the object as the first argument. By convention, we name this first parameter self. When you call the method on an object, you don't explicitly provide a value for self; Python handles it behind the scenes.\n",
        "\n",
        "Analogy:\n",
        "\n",
        "Imagine a group of people, and each person has a name. If you want to ask a specific person their name, you need a way to refer to that individual. In OOP, self is like pointing to \"this particular object\" so its methods can access its own unique data."
      ],
      "metadata": {
        "id": "Lfps4VUWkqnA"
      }
    },
    {
      "cell_type": "code",
      "source": [
        "class Dog:\n",
        "    def __init__(self, name, breed):\n",
        "        self.name = name  # 'self' is used to assign the passed 'name' to the object's 'name' attribute\n",
        "        self.breed = breed # 'self' is used to assign the passed 'breed' to the object's 'breed' attribute\n",
        "\n",
        "    def identify(self):\n",
        "        print(f\"My name is {self.name} and I am a {self.breed}.\") # 'self' is used to access the object's attributes\n",
        "\n",
        "# Create Dog objects\n",
        "buddy = Dog(\"Buddy\", \"Golden Retriever\")\n",
        "lucy = Dog(\"Lucy\", \"Poodle\")\n",
        "\n",
        "# Call the identify method on each object\n",
        "buddy.identify() # Output: My name is Buddy and I am a Golden Retriever.\n",
        "lucy.identify()  # Output: My name is Lucy and I am a Poodle."
      ],
      "metadata": {
        "colab": {
          "base_uri": "https://localhost:8080/"
        },
        "id": "727_70TUqa7S",
        "outputId": "614f52ed-5d73-48ce-b6b8-d359d211b4dd"
      },
      "execution_count": 15,
      "outputs": [
        {
          "output_type": "stream",
          "name": "stdout",
          "text": [
            "My name is Buddy and I am a Golden Retriever.\n",
            "My name is Lucy and I am a Poodle.\n"
          ]
        }
      ]
    },
    {
      "cell_type": "markdown",
      "source": [
        "Q5. What is inheritance? Give an example for each type of inheritance.\n",
        "inheritance, one of the core pillars of OOP! Inheritance is a mechanism where a new class (called the derived class or child class) can inherit properties and behaviors (attributes and methods) from an existing class (called the base class or parent class).\n",
        "\n",
        "Think of it like biological inheritance – a child inherits traits from their parents. In programming, inheritance allows you to create a hierarchy of classes, promoting code reusability and establishing an \"is-a\" relationship between classes. For example, a Dog is a Mammal."
      ],
      "metadata": {
        "id": "rSsEL1c-ksZd"
      }
    },
    {
      "cell_type": "code",
      "source": [
        "class Animal:\n",
        "    def __init__(self, name):\n",
        "        self.name = name\n",
        "\n",
        "    def eat(self):\n",
        "        print(f\"{self.name} is eating.\")\n",
        "\n",
        "class Dog(Animal):  # Dog inherits from Animal\n",
        "    def bark(self):\n",
        "        print(\"Woof!\")\n",
        "\n",
        "my_dog = Dog(\"Buddy\")\n",
        "my_dog.eat()   # Inherited from Animal\n",
        "my_dog.bark()  # Defined in Dog\n",
        "print(my_dog.name) # Inherited from Animal"
      ],
      "metadata": {
        "colab": {
          "base_uri": "https://localhost:8080/"
        },
        "id": "uRcYdWeNq-h0",
        "outputId": "79d1ddb4-2c5d-4b37-90ed-2e8e31ef434e"
      },
      "execution_count": 16,
      "outputs": [
        {
          "output_type": "stream",
          "name": "stdout",
          "text": [
            "Buddy is eating.\n",
            "Woof!\n",
            "Buddy\n"
          ]
        }
      ]
    },
    {
      "cell_type": "code",
      "source": [
        "class Swimmer:\n",
        "    def swim(self):\n",
        "        print(\"Can swim.\")\n",
        "\n",
        "class Runner:\n",
        "    def run(self):\n",
        "        print(\"Can run.\")\n",
        "\n",
        "class Athlete(Swimmer, Runner):  # Athlete inherits from both Swimmer and Runner\n",
        "    def compete(self):\n",
        "        print(\"Is competing.\")\n",
        "\n",
        "athlete = Athlete()\n",
        "athlete.swim()    # Inherited from Swimmer\n",
        "athlete.run()     # Inherited from Runner\n",
        "athlete.compete() # Defined in Athlete"
      ],
      "metadata": {
        "colab": {
          "base_uri": "https://localhost:8080/"
        },
        "id": "MXPEETj0q07w",
        "outputId": "50215906-8fd9-42a2-8176-a809170e946f"
      },
      "execution_count": 17,
      "outputs": [
        {
          "output_type": "stream",
          "name": "stdout",
          "text": [
            "Can swim.\n",
            "Can run.\n",
            "Is competing.\n"
          ]
        }
      ]
    },
    {
      "cell_type": "code",
      "source": [
        "class Grandparent:\n",
        "    def has_house(self):\n",
        "        print(\"Has a house.\")\n",
        "\n",
        "class Parent(Grandparent):  # Parent inherits from Grandparent\n",
        "    def has_car(self):\n",
        "        print(\"Has a car.\")\n",
        "\n",
        "class Child(Parent):      # Child inherits from Parent (and indirectly from Grandparent)\n",
        "    def has_toy(self):\n",
        "        print(\"Has a toy.\")\n",
        "\n",
        "child = Child()\n",
        "child.has_house() # Inherited from Grandparent\n",
        "child.has_car()   # Inherited from Parent\n",
        "child.has_toy()   # Defined in Child"
      ],
      "metadata": {
        "colab": {
          "base_uri": "https://localhost:8080/"
        },
        "id": "2HHv1kvrrE5w",
        "outputId": "77a19e43-63c1-4fef-a857-05986b7e36c6"
      },
      "execution_count": 18,
      "outputs": [
        {
          "output_type": "stream",
          "name": "stdout",
          "text": [
            "Has a house.\n",
            "Has a car.\n",
            "Has a toy.\n"
          ]
        }
      ]
    },
    {
      "cell_type": "code",
      "source": [
        "class Vehicle:\n",
        "    def move(self):\n",
        "        print(\"Can move.\")\n",
        "\n",
        "class Car(Vehicle):      # Car inherits from Vehicle\n",
        "    def has_wheels(self):\n",
        "        print(\"Has four wheels.\")\n",
        "\n",
        "class Bicycle(Vehicle):  # Bicycle also inherits from Vehicle\n",
        "    def has_pedals(self):\n",
        "        print(\"Has pedals.\")\n",
        "\n",
        "car = Car()\n",
        "bicycle = Bicycle()\n",
        "\n",
        "car.move()        # Inherited from Vehicle\n",
        "car.has_wheels()  # Defined in Car\n",
        "\n",
        "bicycle.move()    # Inherited from Vehicle\n",
        "bicycle.has_pedals() # Defined in Bicycle"
      ],
      "metadata": {
        "colab": {
          "base_uri": "https://localhost:8080/"
        },
        "id": "7cFPFr4mrEva",
        "outputId": "150ee930-763b-4b67-e27a-ac5529b20eb0"
      },
      "execution_count": 19,
      "outputs": [
        {
          "output_type": "stream",
          "name": "stdout",
          "text": [
            "Can move.\n",
            "Has four wheels.\n",
            "Can move.\n",
            "Has pedals.\n"
          ]
        }
      ]
    },
    {
      "cell_type": "code",
      "source": [
        "class ElectricDevice:\n",
        "    def power_on(self):\n",
        "        print(\"Powered on.\")\n",
        "\n",
        "class EntertainmentDevice:\n",
        "    def play_sound(self):\n",
        "        print(\"Playing sound.\")\n",
        "\n",
        "class SmartTV(ElectricDevice, EntertainmentDevice): # Multiple inheritance\n",
        "    def has_apps(self):\n",
        "        print(\"Has smart apps.\")\n",
        "\n",
        "class OldTV(ElectricDevice): # Single inheritance\n",
        "    pass\n",
        "\n",
        "smart_tv = SmartTV()\n",
        "smart_tv.power_on()    # From ElectricDevice\n",
        "smart_tv.play_sound()  # From EntertainmentDevice\n",
        "smart_tv.has_apps()    # Defined in SmartTV\n",
        "\n",
        "old_tv = OldTV()\n",
        "old_tv.power_on()      # From ElectricDevice"
      ],
      "metadata": {
        "colab": {
          "base_uri": "https://localhost:8080/"
        },
        "id": "SVTPOxkIrI5l",
        "outputId": "da655c5c-0811-4f56-f724-04cf66db940a"
      },
      "execution_count": 20,
      "outputs": [
        {
          "output_type": "stream",
          "name": "stdout",
          "text": [
            "Powered on.\n",
            "Playing sound.\n",
            "Has smart apps.\n",
            "Powered on.\n"
          ]
        }
      ]
    },
    {
      "cell_type": "markdown",
      "source": [
        "Q1, Create a vehicle class with an init method having instance variables as name_of_vehicle, max_speed\n",
        "and average_of_vehicle.\n"
      ],
      "metadata": {
        "id": "3BpGE-fEke-M"
      }
    },
    {
      "cell_type": "code",
      "source": [
        "class Vehicle:\n",
        "    def __init__(self, name_of_vehicle, max_speed, average_of_vehicle):\n",
        "        self.name_of_vehicle = name_of_vehicle\n",
        "        self.max_speed = max_speed\n",
        "        self.average_of_vehicle = average_of_vehicle"
      ],
      "metadata": {
        "id": "Aq7DLE5qrVaU"
      },
      "execution_count": 21,
      "outputs": []
    },
    {
      "cell_type": "markdown",
      "source": [
        "Q2. Create a child class car from the vehicle class created in Que 1, which will inherit the vehicle class.\n",
        "Create a method named seating_capacity which takes capacity as an argument and returns the name of\n",
        "the vehicle and its seating capacity.\n"
      ],
      "metadata": {
        "id": "2Z1PC8o_nlh6"
      }
    },
    {
      "cell_type": "code",
      "source": [
        "class Car(Vehicle):\n",
        "    def seating_capacity(self, capacity):\n",
        "        return f\"The seating capacity of {self.name_of_vehicle} is {capacity}.\"\n",
        "\n",
        "# Example usage:\n",
        "my_car = Car(\"Sedan\", 180, 15)\n",
        "print(my_car.seating_capacity(5))"
      ],
      "metadata": {
        "colab": {
          "base_uri": "https://localhost:8080/"
        },
        "id": "xm4iUBbkrcZn",
        "outputId": "1cb2548f-5723-4bdf-ac51-35d7f21b05d1"
      },
      "execution_count": 22,
      "outputs": [
        {
          "output_type": "stream",
          "name": "stdout",
          "text": [
            "The seating capacity of Sedan is 5.\n"
          ]
        }
      ]
    },
    {
      "cell_type": "markdown",
      "source": [
        "Q3. What is multiple inheritance? Write a python code to demonstrate multiple inheritance.\n",
        "\n",
        "Multiple Inheritance is a feature in object-oriented programming where a class can inherit attributes and methods from more than one parent class. This allows a derived class to combine the characteristics of multiple independent classes."
      ],
      "metadata": {
        "id": "fPsz5EnPnoAd"
      }
    },
    {
      "cell_type": "code",
      "source": [
        "class Engine:\n",
        "    def start(self):\n",
        "        print(\"Engine started.\")\n",
        "\n",
        "    def stop(self):\n",
        "        print(\"Engine stopped.\")\n",
        "\n",
        "class ElectricMotor:\n",
        "    def charge(self):\n",
        "        print(\"Motor charging.\")\n",
        "\n",
        "    def discharge(self):\n",
        "        print(\"Motor discharging.\")\n",
        "\n",
        "class HybridCar(Engine, ElectricMotor):\n",
        "    def drive(self):\n",
        "        print(\"Hybrid car is moving.\")\n",
        "\n",
        "# Example usage:\n",
        "my_hybrid = HybridCar()\n",
        "my_hybrid.start()     # Inherited from Engine\n",
        "my_hybrid.charge()    # Inherited from ElectricMotor\n",
        "my_hybrid.drive()     # Defined in HybridCar\n",
        "my_hybrid.stop()      # Inherited from Engine\n",
        "my_hybrid.discharge() # Inherited from ElectricMotor"
      ],
      "metadata": {
        "colab": {
          "base_uri": "https://localhost:8080/"
        },
        "id": "h5gf8QHDrlET",
        "outputId": "95949919-5d10-41d0-c42f-96cfe7e49698"
      },
      "execution_count": 23,
      "outputs": [
        {
          "output_type": "stream",
          "name": "stdout",
          "text": [
            "Engine started.\n",
            "Motor charging.\n",
            "Hybrid car is moving.\n",
            "Engine stopped.\n",
            "Motor discharging.\n"
          ]
        }
      ]
    },
    {
      "cell_type": "markdown",
      "source": [
        "Q4. What are getter and setter in python? Create a class and create a getter and a setter method in this\n",
        "class.\n"
      ],
      "metadata": {
        "id": "oVDJEnY6nqFE"
      }
    },
    {
      "cell_type": "code",
      "source": [
        "class Temperature:\n",
        "    def __init__(self, celsius=0):\n",
        "        self._celsius = celsius  # Using a single underscore to indicate it's intended for internal use\n",
        "\n",
        "    # Getter method\n",
        "    def get_celsius(self):\n",
        "        return self._celsius\n",
        "\n",
        "    # Setter method\n",
        "    def set_celsius(self, value):\n",
        "        if value < -273.15:\n",
        "            raise ValueError(\"Temperature cannot be below absolute zero.\")\n",
        "        self._celsius = value\n",
        "\n",
        "    # Property for easier access (Pythonic way)\n",
        "    celsius = property(get_celsius, set_celsius)\n",
        "\n",
        "    def get_fahrenheit(self):\n",
        "        return (self._celsius * 9/5) + 32\n",
        "\n",
        "# Example usage:\n",
        "temp = Temperature(25)\n",
        "print(f\"Celsius: {temp.get_celsius()}\")\n",
        "print(f\"Fahrenheit: {temp.get_fahrenheit()}\")\n",
        "\n",
        "temp.set_celsius(30)\n",
        "print(f\"New Celsius: {temp.celsius}\") # Using the property\n",
        "\n",
        "try:\n",
        "    temp.set_celsius(-300)\n",
        "except ValueError as e:\n",
        "    print(e)"
      ],
      "metadata": {
        "colab": {
          "base_uri": "https://localhost:8080/"
        },
        "id": "VButYv5GrpTW",
        "outputId": "c89777ca-a3de-4e4b-be22-9e0eaf64d325"
      },
      "execution_count": 24,
      "outputs": [
        {
          "output_type": "stream",
          "name": "stdout",
          "text": [
            "Celsius: 25\n",
            "Fahrenheit: 77.0\n",
            "New Celsius: 30\n",
            "Temperature cannot be below absolute zero.\n"
          ]
        }
      ]
    },
    {
      "cell_type": "markdown",
      "source": [
        "n Python, getters and setters are methods used to access and modify the attributes of a class, respectively. They provide a way to control how the attributes of an object are accessed and changed, allowing for data validation or other logic to be applied. While Python doesn't enforce the use of getters and setters as strictly as some other languages, they are often used for encapsulation and to manage attribute access."
      ],
      "metadata": {
        "id": "_xPvU9fFrtb9"
      }
    },
    {
      "cell_type": "markdown",
      "source": [
        "Q5.What is method overriding in python? Write a python code to demonstrate method overriding."
      ],
      "metadata": {
        "id": "PjIbI_o8ntDd"
      }
    },
    {
      "cell_type": "markdown",
      "source": [
        "Method Overriding is a feature in object-oriented programming where a subclass provides a specific implementation for a method that is already defined in its superclass (parent class). When you call this overridden method on an object of the subclass, the subclass's implementation is executed instead of the superclass's implementation. This allows a subclass to customize or extend the behavior inherited from its parent"
      ],
      "metadata": {
        "id": "P2S5GscQr3mf"
      }
    },
    {
      "cell_type": "code",
      "source": [
        "class Animal:\n",
        "    def speak(self):\n",
        "        print(\"Generic animal sound.\")\n",
        "\n",
        "class Dog(Animal):\n",
        "    def speak(self):  # Method overriding\n",
        "        print(\"Woof!\")\n",
        "\n",
        "class Cat(Animal):\n",
        "    def speak(self):  # Method overriding\n",
        "        print(\"Meow!\")\n",
        "\n",
        "# Example usage:\n",
        "animal = Animal()\n",
        "dog = Dog()\n",
        "cat = Cat()\n",
        "\n",
        "animal.speak()  # Output: Generic animal sound.\n",
        "dog.speak()     # Output: Woof! (Overridden in Dog)\n",
        "cat.speak()     # Output: Meow! (Overridden in Cat)\n",
        "\n",
        "# You can also call the parent class's method using super()\n",
        "class Bird(Animal):\n",
        "    def speak(self):\n",
        "        super().speak()  # Call the speak method of the Animal class\n",
        "        print(\"Chirp!\")\n",
        "\n",
        "bird = Bird()\n",
        "bird.speak()    # Output: Generic animal sound.\n",
        "                #         Chirp!"
      ],
      "metadata": {
        "colab": {
          "base_uri": "https://localhost:8080/"
        },
        "id": "axEdJqoCrx8l",
        "outputId": "2a372416-4b95-4768-c1ee-413cde29deb0"
      },
      "execution_count": 25,
      "outputs": [
        {
          "output_type": "stream",
          "name": "stdout",
          "text": [
            "Generic animal sound.\n",
            "Woof!\n",
            "Meow!\n",
            "Generic animal sound.\n",
            "Chirp!\n"
          ]
        }
      ]
    },
    {
      "cell_type": "code",
      "source": [],
      "metadata": {
        "id": "YKSfioOhr6D1"
      },
      "execution_count": null,
      "outputs": []
    }
  ]
}