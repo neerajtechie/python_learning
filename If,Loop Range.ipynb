{
 "cells": [
  {
   "cell_type": "code",
   "execution_count": 1,
   "id": "47fc50aa-1113-4454-96b3-e3556a7fd8b4",
   "metadata": {},
   "outputs": [],
   "source": [
    "a=20\n",
    "if a>20 :\n",
    "    print(\"It will execute when 'a' value is > 20\")"
   ]
  },
  {
   "cell_type": "code",
   "execution_count": 2,
   "id": "c801ab49-2f25-48f6-ba07-8725d7e62126",
   "metadata": {},
   "outputs": [
    {
     "data": {
      "text/plain": [
       "False"
      ]
     },
     "execution_count": 2,
     "metadata": {},
     "output_type": "execute_result"
    }
   ],
   "source": [
    "a>20"
   ]
  },
  {
   "cell_type": "code",
   "execution_count": 3,
   "id": "2821c524-f069-4df0-b306-135c0e358fae",
   "metadata": {},
   "outputs": [
    {
     "name": "stdout",
     "output_type": "stream",
     "text": [
      "It will execute when not able to perform\n"
     ]
    }
   ],
   "source": [
    "a=20\n",
    "if a>20:\n",
    "    print(\"It will execute when 'a' value is > 20\")\n",
    "else:\n",
    "    print(\"It will execute when not able to perform\")"
   ]
  },
  {
   "cell_type": "code",
   "execution_count": 2,
   "id": "8c9a6229-7844-4900-b73d-a6eca8700c92",
   "metadata": {},
   "outputs": [
    {
     "name": "stdout",
     "output_type": "stream",
     "text": [
      "it is tring to check a condition for a where a could be 10 or lesser\n"
     ]
    }
   ],
   "source": [
    "a=20\n",
    "if a>20:\n",
    "    print(\"it will exrcute when value > than 20\")\n",
    "elif a<=20:\n",
    "    print(\"it is tring to check a condition for a where a could be 10 or lesser\")\n",
    "else:\n",
    "    print(\"It will run oce if will not able to perform\")       "
   ]
  },
  {
   "cell_type": "code",
   "execution_count": 5,
   "id": "b4f32863-d85c-4972-bc57-39c7258b6cfa",
   "metadata": {},
   "outputs": [
    {
     "name": "stdin",
     "output_type": "stream",
     "text": [
      "enter a value for a  15\n"
     ]
    },
    {
     "name": "stdout",
     "output_type": "stream",
     "text": [
      "this is trying to check a condition for a where a could be 10 or lesser\n"
     ]
    }
   ],
   "source": [
    "a = int(input(\"enter a value for a \"))\n",
    "if a > 20 :\n",
    "    print(\"this will execute once a greater than 10 \")\n",
    "elif a <= 20 :\n",
    "    print(\"this is trying to check a condition for a where a could be 10 or lesser\")\n",
    "else :\n",
    "    print(\"this will execute once if will not be able to perform \")"
   ]
  },
  {
   "cell_type": "code",
   "execution_count": 6,
   "id": "9a582765-42dd-472f-a35c-4c1b8707fae7",
   "metadata": {},
   "outputs": [
    {
     "name": "stdout",
     "output_type": "stream",
     "text": [
      "1\n",
      "2\n",
      "3\n",
      "4\n",
      "5\n",
      "6\n",
      "7\n",
      "8\n",
      "9\n",
      "this will be executed once while will complete it succesfully\n"
     ]
    }
   ],
   "source": [
    "n = 10\n",
    "i  = 1\n",
    "while i < n :\n",
    "    print(i)\n",
    "    i = i+1\n",
    "else :\n",
    "    print(\"this will be executed once while will complete it succesfully\")"
   ]
  },
  {
   "cell_type": "code",
   "execution_count": 7,
   "id": "bcf43582-40cb-4ab8-8cc5-216babe5eb16",
   "metadata": {},
   "outputs": [
    {
     "name": "stdout",
     "output_type": "stream",
     "text": [
      "1\n",
      "2\n"
     ]
    }
   ],
   "source": [
    "n = 10\n",
    "i  = 1\n",
    "\n",
    "while i < n :\n",
    "    print(i)\n",
    "    i = i+1\n",
    "    if i == 3 :\n",
    "        break\n",
    "else :\n",
    "    print(\"this will be executed once while will complete it succesfully\")"
   ]
  },
  {
   "cell_type": "code",
   "execution_count": 8,
   "id": "eba927a5-365e-44b3-b3ac-7ae1ff16487c",
   "metadata": {},
   "outputs": [
    {
     "name": "stdout",
     "output_type": "stream",
     "text": [
      "2\n",
      "4\n",
      "5\n",
      "6\n",
      "7\n",
      "8\n",
      "9\n",
      "10\n",
      "this will be executed once while will complete it succesfully\n"
     ]
    }
   ],
   "source": [
    "n = 10\n",
    "i  = 1\n",
    "\n",
    "while i < n :\n",
    "    \n",
    "    i = i+1\n",
    "    if i == 3 :\n",
    "        continue\n",
    "    print(i)\n",
    "else :\n",
    "    print(\"this will be executed once while will complete it succesfully\")"
   ]
  },
  {
   "cell_type": "code",
   "execution_count": 9,
   "id": "4067db7d-6e68-4e70-827e-daf8f5eca01a",
   "metadata": {},
   "outputs": [],
   "source": [
    "a='neeraj'"
   ]
  },
  {
   "cell_type": "code",
   "execution_count": 11,
   "id": "faf35884-e7cc-4bef-9bde-3efee2879a08",
   "metadata": {},
   "outputs": [
    {
     "name": "stdout",
     "output_type": "stream",
     "text": [
      "n\n",
      "e\n",
      "e\n",
      "r\n",
      "a\n",
      "j\n"
     ]
    }
   ],
   "source": [
    "for i in a :\n",
    "    print(i)"
   ]
  },
  {
   "cell_type": "code",
   "execution_count": 12,
   "id": "9848e2c2-2d4b-4949-8e43-94f60ce07d3e",
   "metadata": {},
   "outputs": [],
   "source": [
    "l = [34,56,34.56, \"pwskills\" , True , 5+6j]"
   ]
  },
  {
   "cell_type": "code",
   "execution_count": 13,
   "id": "8a3331d1-3fd5-4a80-9d74-57aff1ea06a6",
   "metadata": {},
   "outputs": [
    {
     "name": "stdout",
     "output_type": "stream",
     "text": [
      "34\n",
      "56\n",
      "34.56\n",
      "pwskills\n"
     ]
    }
   ],
   "source": [
    "for j in l :\n",
    "    print(j)\n",
    "    if j == 'pwskills':\n",
    "        break\n",
    "else :\n",
    "    print(\"this will be executed once for loop will compelte itself succesfully \")"
   ]
  },
  {
   "cell_type": "code",
   "execution_count": 14,
   "id": "aa6fcfd0-8d3e-4824-9d43-f17272e767ce",
   "metadata": {},
   "outputs": [
    {
     "data": {
      "text/plain": [
       "[0, 1, 2, 3, 4, 5, 6, 7, 8, 9, 10, 11, 12, 13, 14, 15, 16, 17, 18, 19]"
      ]
     },
     "execution_count": 14,
     "metadata": {},
     "output_type": "execute_result"
    }
   ],
   "source": [
    "list(range(20))"
   ]
  },
  {
   "cell_type": "code",
   "execution_count": null,
   "id": "d470f29c-397d-48fc-a90a-f5b0351ae6de",
   "metadata": {},
   "outputs": [],
   "source": []
  }
 ],
 "metadata": {
  "kernelspec": {
   "display_name": "Python 3 (ipykernel)",
   "language": "python",
   "name": "python3"
  },
  "language_info": {
   "codemirror_mode": {
    "name": "ipython",
    "version": 3
   },
   "file_extension": ".py",
   "mimetype": "text/x-python",
   "name": "python",
   "nbconvert_exporter": "python",
   "pygments_lexer": "ipython3",
   "version": "3.10.8"
  }
 },
 "nbformat": 4,
 "nbformat_minor": 5
}
