{
 "cells": [
  {
   "cell_type": "markdown",
   "id": "09abe9b7-80ec-4689-bdd3-8417412fe961",
   "metadata": {},
   "source": [
    "Q1. Explain Class and Object with respect to Object-Oriented Programming. Give a suitable example."
   ]
  },
  {
   "cell_type": "markdown",
   "id": "8939fde0-ddb9-4ceb-a8c9-45447d15a591",
   "metadata": {},
   "source": [
    "In Object-Oriented Programming (OOP), a class is a blueprint or a template for creating objects, and an object is a particular instance of that class. In simpler terms, a class defines the structure and behavior of objects, while objects are the actual instances created based on that class."
   ]
  },
  {
   "cell_type": "code",
   "execution_count": 1,
   "id": "cef141a8-b210-463d-b2c0-d6fa86ea0735",
   "metadata": {},
   "outputs": [],
   "source": [
    "# Define a Car class\n",
    "class Car:\n",
    "    # Class attributes\n",
    "    brand = \"Unknown\"\n",
    "    model = \"Unknown\"\n",
    "    fuel_type = \"Unknown\"\n",
    "\n",
    "    # Class methods\n",
    "    def start_engine(self):\n",
    "        return \"Engine started.\"\n",
    "\n",
    "    def stop_engine(self):\n",
    "        return \"Engine stopped.\"\n",
    "\n",
    "    def get_full_description(self):\n",
    "        return f\"{self.brand} {self.model} ({self.fuel_type})\"\n"
   ]
  },
  {
   "cell_type": "code",
   "execution_count": 3,
   "id": "78075466-d971-4f33-a869-5dea6244c2ab",
   "metadata": {},
   "outputs": [
    {
     "name": "stdout",
     "output_type": "stream",
     "text": [
      "Engine started.\n",
      "Engine started.\n",
      "Toyota Camry (Petrol)\n",
      "Tesla Model S (Electric)\n"
     ]
    }
   ],
   "source": [
    "# Create car objects\n",
    "car1 = Car()\n",
    "car2 = Car()\n",
    "\n",
    "# Set attributes for car1\n",
    "car1.brand = \"Toyota\"\n",
    "car1.model = \"Camry\"\n",
    "car1.fuel_type = \"Petrol\"\n",
    "\n",
    "# Set attributes for car2\n",
    "car2.brand = \"Tesla\"\n",
    "car2.model = \"Model S\"\n",
    "car2.fuel_type = \"Electric\"\n",
    "\n",
    "# Accessing class methods\n",
    "print(car1.start_engine())  # Output: \"Engine started.\"\n",
    "print(car2.start_engine())  # Output: \"Engine started.\"\n",
    "\n",
    "print(car1.get_full_description())  # Output: \"Toyota Camry (Petrol)\"\n",
    "print(car2.get_full_description())  # Output: \"Tesla Model S (Electric)\"\n"
   ]
  },
  {
   "cell_type": "markdown",
   "id": "8a02241b-1248-4379-b55b-cf021428338d",
   "metadata": {},
   "source": [
    "In summary, a class is a blueprint that defines the properties and behaviors of objects, while objects are instances of that class with specific attribute values. Objects allow us to create and work with multiple instances of the same structure, each maintaining its state and behaviors independently."
   ]
  },
  {
   "cell_type": "markdown",
   "id": "eaed93e1-e1d7-4dc4-89eb-969b39a758a3",
   "metadata": {},
   "source": [
    "Q2. Name the four pillars of OOPs."
   ]
  },
  {
   "cell_type": "markdown",
   "id": "3b28ecda-4127-4e6d-89a2-d43f5db8899b",
   "metadata": {},
   "source": [
    "The four pillars of Object-Oriented Programming (OOP) are:\n",
    "\n",
    "1. Encapsulation: Encapsulation is the concept of bundling data (attributes) and methods (functions) that operate on that data within a single unit called a class. The class acts as a protective container, allowing access to the data and methods only through well-defined interfaces. This helps to hide the internal implementation details and provides a way to control the access to the data, ensuring data integrity and security.\n",
    "\n",
    "2. Abstraction: Abstraction allows the representation of essential features of an object while hiding unnecessary details. It focuses on what an object does rather than how it does it. By defining abstract classes and methods, OOP allows developers to create a generalized blueprint for objects, and the specific implementation is left to the subclasses. Abstraction simplifies complex systems, making them easier to understand and maintain.\n",
    "\n",
    "3. Inheritance: Inheritance is the process by which one class (the subclass or derived class) acquires the properties and behaviors of another class (the superclass or base class). The subclass can extend or modify the functionality of the superclass. Inheritance promotes code reuse and allows hierarchical organization of classes, where common attributes and methods are defined in the superclass, and specific attributes and methods are defined in subclasses.\n",
    "\n",
    "4. Polymorphism: Polymorphism allows objects of different classes to be treated as objects of a common superclass. It enables a single interface to represent different types of objects, providing a unified way to interact with them. Polymorphism can be achieved through method overriding (run-time polymorphism) and method overloading (compile-time polymorphism). This flexibility simplifies code and allows for more generic and flexible programming."
   ]
  },
  {
   "cell_type": "markdown",
   "id": "b810dc44-3bbe-4b2c-b83e-36fca3961a3a",
   "metadata": {},
   "source": [
    "Q3. Explain why the __init__() function is used. Give a suitable example.\n",
    "The __init__() function is a special method in Python classes that is automatically called when an object is created from the class. It is commonly known as the constructor, as its primary purpose is to initialize the object's attributes and perform any setup that is required before the object is ready to be used.\n",
    "\n",
    "When you create an instance of a class, Python automatically calls the __init__() method for that instance. It allows you to set initial values for the object's attributes, ensuring that the object starts in a valid state."
   ]
  },
  {
   "cell_type": "code",
   "execution_count": 4,
   "id": "7daa16e9-0479-497b-aae9-662280afc608",
   "metadata": {},
   "outputs": [
    {
     "name": "stdout",
     "output_type": "stream",
     "text": [
      "Alice\n",
      "25\n",
      "Hello, my name is Alice, and I am 30 years old.\n",
      "Hello, my name is Bob, and I am 25 years old.\n"
     ]
    }
   ],
   "source": [
    "class Person:\n",
    "    def __init__(self, name, age):\n",
    "        self.name = name\n",
    "        self.age = age\n",
    "\n",
    "    def greet(self):\n",
    "        return f\"Hello, my name is {self.name}, and I am {self.age} years old.\"\n",
    "\n",
    "\n",
    "# Creating objects and using the __init__() method\n",
    "person1 = Person(\"Alice\", 30)\n",
    "person2 = Person(\"Bob\", 25)\n",
    "\n",
    "# Accessing object attributes\n",
    "print(person1.name)  # Output: \"Alice\"\n",
    "print(person2.age)   # Output: 25\n",
    "\n",
    "# Calling a method of the object\n",
    "print(person1.greet())  # Output: \"Hello, my name is Alice, and I am 30 years old.\"\n",
    "print(person2.greet())  # Output: \"Hello, my name is Bob, and I am 25 years old.\"\n"
   ]
  },
  {
   "cell_type": "markdown",
   "id": "e6c98224-4137-433c-979b-435aa0df66fb",
   "metadata": {},
   "source": [
    "Q4. Why self is used in OOPs?\n",
    "In Object-Oriented Programming (OOP), self is used as the first parameter in class methods to refer to the instance of the class itself. It acts as a reference to the current object that the method is being called on. The use of self is essential to access and modify the attributes and methods specific to each instance of the class.\n",
    "\n",
    "When you create an instance of a class, that instance is referred to as self within the class methods. By convention, self is the name used, but it is not a strict requirement; you can use any other name, but it is highly recommended to stick with the convention for clarity and readability."
   ]
  },
  {
   "cell_type": "code",
   "execution_count": 5,
   "id": "bed3477a-ffc6-4e7c-814d-527d0f571284",
   "metadata": {},
   "outputs": [
    {
     "name": "stdout",
     "output_type": "stream",
     "text": [
      "Hello, my name is Alice, and I am 30 years old.\n",
      "Hello, my name is Bob, and I am 25 years old.\n"
     ]
    }
   ],
   "source": [
    "class Person:\n",
    "    def __init__(self, name, age):\n",
    "        self.name = name\n",
    "        self.age = age\n",
    "\n",
    "    def greet(self):\n",
    "        return f\"Hello, my name is {self.name}, and I am {self.age} years old.\"\n",
    "\n",
    "\n",
    "# Creating objects and using the class methods\n",
    "person1 = Person(\"Alice\", 30)\n",
    "person2 = Person(\"Bob\", 25)\n",
    "\n",
    "# Accessing object attributes using 'self'\n",
    "print(person1.greet())  # Output: \"Hello, my name is Alice, and I am 30 years old.\"\n",
    "print(person2.greet())  # Output: \"Hello, my name is Bob, and I am 25 years old.\"\n"
   ]
  },
  {
   "cell_type": "markdown",
   "id": "945a66df-4170-44c9-ac25-66ce1068b196",
   "metadata": {},
   "source": [
    "The use of self ensures that the correct instance's attributes are accessed, even if there are multiple instances of the class with different attribute values. Without self, the methods wouldn't know which instance's attributes to access and modify, leading to incorrect results or errors.\n",
    "\n",
    "In summary, self is used in OOP to provide a reference to the current instance of the class, allowing you to work with individual object attributes and methods within the class methods. It is a fundamental aspect of how Python implements object-oriented behavior and ensures proper encapsulation and distinction between different instances of the same class."
   ]
  },
  {
   "cell_type": "markdown",
   "id": "4a507886-0979-4cbe-94e3-9913cadb2db7",
   "metadata": {},
   "source": [
    "Q5. What is inheritance? Give an example for each type of inheritance"
   ]
  },
  {
   "cell_type": "markdown",
   "id": "ea704df9-796e-4c28-aa20-c3f17537d4e3",
   "metadata": {},
   "source": [
    "Inheritance is a fundamental concept in Object-Oriented Programming (OOP) that allows a class (subclass or derived class) to inherit attributes and methods from another class (superclass or base class). It promotes code reuse and hierarchical organization of classes, as the subclass can extend or modify the functionality of the superclass without having to rewrite the common code.\n",
    "\n",
    "There are four types of inheritance:\n",
    "\n",
    "Single Inheritance: In single inheritance, a class inherits from only one superclass. It forms a linear chain of classes."
   ]
  },
  {
   "cell_type": "code",
   "execution_count": 6,
   "id": "1a9330e3-45c0-4ac9-81c4-05d2f9d41fc3",
   "metadata": {},
   "outputs": [
    {
     "name": "stdout",
     "output_type": "stream",
     "text": [
      "Woof!\n"
     ]
    }
   ],
   "source": [
    "class Animal:\n",
    "    def speak(self):\n",
    "        return \"Unknown sound\"\n",
    "\n",
    "class Dog(Animal):\n",
    "    def speak(self):\n",
    "        return \"Woof!\"\n",
    "\n",
    "dog = Dog()\n",
    "print(dog.speak())  # Output: \"Woof!\"\n"
   ]
  },
  {
   "cell_type": "code",
   "execution_count": 7,
   "id": "7f1354fd-7506-4877-b702-f7905598e89b",
   "metadata": {},
   "outputs": [
    {
     "name": "stdout",
     "output_type": "stream",
     "text": [
      "Chirp!\n"
     ]
    }
   ],
   "source": [
    "'''Multiple Inheritance: Multiple inheritance allows a class to inherit from multiple superclasses. \n",
    "This means a class can have more than one immediate superclass.'''\n",
    "class Bird:\n",
    "    def speak(self):\n",
    "        return \"Chirp!\"\n",
    "\n",
    "class Mammal:\n",
    "    def speak(self):\n",
    "        return \"Roar!\"\n",
    "\n",
    "class Bat(Bird, Mammal):\n",
    "    pass\n",
    "\n",
    "bat = Bat()\n",
    "print(bat.speak())  # Output: \"Chirp!\"\n"
   ]
  },
  {
   "cell_type": "code",
   "execution_count": null,
   "id": "0aa22562-e350-4812-abb1-aafc31a7b194",
   "metadata": {},
   "outputs": [],
   "source": [
    "\"\"\"Multilevel Inheritance: Multilevel inheritance occurs when a class inherits from another class, \n",
    "and that superclass itself inherits from another class. It forms a chain of inheritance.\"\"\"\n",
    "class Animal:\n",
    "    def speak(self):\n",
    "        return \"Unknown sound\"\n",
    "\n",
    "class Dog(Animal):\n",
    "    def speak(self):\n",
    "        return \"Woof!\"\n",
    "\n",
    "class Bulldog(Dog):\n",
    "    pass\n",
    "\n",
    "bulldog = Bulldog()\n",
    "print(bulldog.speak())  # Output: \"Woof!\"\n"
   ]
  },
  {
   "cell_type": "code",
   "execution_count": 8,
   "id": "6d600d0b-372d-4c74-8961-0b131b3bed07",
   "metadata": {},
   "outputs": [
    {
     "name": "stdout",
     "output_type": "stream",
     "text": [
      "Meow!\n",
      "Roar!\n"
     ]
    }
   ],
   "source": [
    "'''Hierarchical Inheritance: Hierarchical inheritance occurs when multiple classes inherit from the same superclass.'''\n",
    "class Animal:\n",
    "    def speak(self):\n",
    "        return \"Unknown sound\"\n",
    "\n",
    "class Cat(Animal):\n",
    "    def speak(self):\n",
    "        return \"Meow!\"\n",
    "\n",
    "class Lion(Animal):\n",
    "    def speak(self):\n",
    "        return \"Roar!\"\n",
    "\n",
    "cat = Cat()\n",
    "lion = Lion()\n",
    "\n",
    "print(cat.speak())   # Output: \"Meow!\"\n",
    "print(lion.speak())  # Output: \"Roar!\"\n"
   ]
  },
  {
   "cell_type": "markdown",
   "id": "d9d7a9e2-0ebd-41e4-9d10-3e2f1dcfe32b",
   "metadata": {},
   "source": [
    "Q1, Create a vehicle class with an init method having instance variables as name_of_vehicle, max_speed\n",
    "and average_of_vehicle."
   ]
  },
  {
   "cell_type": "code",
   "execution_count": 10,
   "id": "505d886f-f58f-4c2f-b4e0-bcad774ca2fe",
   "metadata": {},
   "outputs": [],
   "source": [
    "class Vehicle:\n",
    "    def __init__(self, name_of_vehicle, max_speed, average_of_vehicle):\n",
    "        self.name_of_vehicle = name_of_vehicle\n",
    "        self.max_speed = max_speed\n",
    "        self.average_of_vehicle = average_of_vehicle\n",
    "\n",
    "# Creating an instance of the Vehicle class\n",
    "car = Vehicle(\"Car\", 200, 30)\n"
   ]
  },
  {
   "cell_type": "code",
   "execution_count": 11,
   "id": "7c60107f-13d9-4dd8-814c-d05c894a7172",
   "metadata": {},
   "outputs": [
    {
     "name": "stdout",
     "output_type": "stream",
     "text": [
      "Car\n",
      "200\n",
      "30\n"
     ]
    }
   ],
   "source": [
    "print(car.name_of_vehicle)     # Output: \"Car\"\n",
    "print(car.max_speed)           # Output: 200\n",
    "print(car.average_of_vehicle)  # Output: 30\n"
   ]
  },
  {
   "cell_type": "markdown",
   "id": "90bfb479-6105-4373-82af-f2e5f89d4d90",
   "metadata": {},
   "source": [
    "Q2. Create a child class car from the vehicle class created in Que 1, which will inherit the vehicle class.\n",
    "Create a method named seating_capacity which takes capacity as an argument and returns the name of\n",
    "the vehicle and its seating capacity."
   ]
  },
  {
   "cell_type": "code",
   "execution_count": 12,
   "id": "528bf807-2ef0-405f-a70b-a8c0868d7894",
   "metadata": {},
   "outputs": [
    {
     "name": "stdout",
     "output_type": "stream",
     "text": [
      "Toyota\n",
      "200\n",
      "Toyota has a seating capacity of 5.\n",
      "Honda has a seating capacity of 4.\n"
     ]
    }
   ],
   "source": [
    "class Vehicle:\n",
    "    def __init__(self, name_of_vehicle, max_speed, average_of_vehicle):\n",
    "        self.name_of_vehicle = name_of_vehicle\n",
    "        self.max_speed = max_speed\n",
    "        self.average_of_vehicle = average_of_vehicle\n",
    "\n",
    "class Car(Vehicle):\n",
    "    def seating_capacity(self, capacity):\n",
    "        return f\"{self.name_of_vehicle} has a seating capacity of {capacity}.\"\n",
    "\n",
    "# Creating an instance of the Car class\n",
    "car1 = Car(\"Toyota\", 180, 5)\n",
    "car2 = Car(\"Honda\", 200, 4)\n",
    "\n",
    "# Accessing attributes from the Vehicle class\n",
    "print(car1.name_of_vehicle)  # Output: \"Toyota\"\n",
    "print(car2.max_speed)        # Output: 200\n",
    "\n",
    "# Calling the method from the Car class\n",
    "print(car1.seating_capacity(5))  # Output: \"Toyota has a seating capacity of 5.\"\n",
    "print(car2.seating_capacity(4))  # Output: \"Honda has a seating capacity of 4.\"\n"
   ]
  },
  {
   "cell_type": "markdown",
   "id": "2f02bdc1-008f-47ed-bb1f-a3fc8929c0d0",
   "metadata": {},
   "source": [
    "Q3. What is multiple inheritance? Write a python code to demonstrate multiple inheritance."
   ]
  },
  {
   "cell_type": "code",
   "execution_count": 13,
   "id": "08a18bd5-c189-4e48-90a2-258751bafe2c",
   "metadata": {},
   "outputs": [
    {
     "name": "stdout",
     "output_type": "stream",
     "text": [
      "African Grey\n",
      "Squawk!\n"
     ]
    }
   ],
   "source": [
    "'''Multiple inheritance is a feature of Object-Oriented Programming (OOP) where a class can inherit attributes and methods from more than one superclass. In Python, \n",
    "a class can inherit from multiple parent classes, and it forms a hierarchy of classes.'''\n",
    "# Parent class: Animal\n",
    "class Animal:\n",
    "    def __init__(self, species):\n",
    "        self.species = species\n",
    "\n",
    "    def speak(self):\n",
    "        return \"Unknown sound\"\n",
    "\n",
    "# Parent class: Bird\n",
    "class Bird:\n",
    "    def speak(self):\n",
    "        return \"Chirp!\"\n",
    "\n",
    "# Child class: Parrot inherits from both Animal and Bird\n",
    "class Parrot(Animal, Bird):\n",
    "    def speak(self):\n",
    "        return \"Squawk!\"\n",
    "\n",
    "# Creating an instance of the Parrot class\n",
    "parrot = Parrot(\"African Grey\")\n",
    "\n",
    "# Accessing the attributes from both parent classes\n",
    "print(parrot.species)  # Output: \"African Grey\"\n",
    "\n",
    "# Calling the speak() method from the Parrot class (overrides Bird and Animal)\n",
    "print(parrot.speak())  # Output: \"Squawk!\"\n"
   ]
  },
  {
   "cell_type": "markdown",
   "id": "a278ea7e-9e32-4a47-98fd-3a6c589a9691",
   "metadata": {},
   "source": [
    "Q4. What are getter and setter in python? Create a class and create a getter and a setter method in this\n",
    "class.\n",
    "'''Getter: A getter is a method used to access the value of a private attribute. It ensures that the attribute's value can be read without directly accessing it from outside the class.\n",
    "\n",
    "Setter: A setter is a method used to modify the value of a private attribute. It allows you to validate the new value and perform additional operations before setting the attribute.''''"
   ]
  },
  {
   "cell_type": "code",
   "execution_count": 14,
   "id": "eb8318a3-2c0d-4ab9-b4c4-fd6bfd3a3ab0",
   "metadata": {},
   "outputs": [
    {
     "name": "stdout",
     "output_type": "stream",
     "text": [
      "Alice\n",
      "Bob\n",
      "25\n",
      "Age cannot be negative.\n"
     ]
    }
   ],
   "source": [
    "class Person:\n",
    "    def __init__(self, name, age):\n",
    "        self._name = name   # Private attribute (indicated by a single underscore)\n",
    "        self._age = age     # Private attribute (indicated by a single underscore)\n",
    "\n",
    "    # Getter method for name\n",
    "    def get_name(self):\n",
    "        return self._name\n",
    "\n",
    "    # Setter method for name\n",
    "    def set_name(self, name):\n",
    "        self._name = name\n",
    "\n",
    "    # Getter method for age\n",
    "    def get_age(self):\n",
    "        return self._age\n",
    "\n",
    "    # Setter method for age\n",
    "    def set_age(self, age):\n",
    "        if age >= 0:\n",
    "            self._age = age\n",
    "        else:\n",
    "            print(\"Age cannot be negative.\")\n",
    "\n",
    "# Creating an instance of the Person class\n",
    "person = Person(\"Alice\", 30)\n",
    "\n",
    "# Using the getter to access the name attribute\n",
    "print(person.get_name())  # Output: \"Alice\"\n",
    "\n",
    "# Using the setter to modify the name attribute\n",
    "person.set_name(\"Bob\")\n",
    "print(person.get_name())  # Output: \"Bob\"\n",
    "\n",
    "# Using the setter with validation for age attribute\n",
    "person.set_age(25)\n",
    "print(person.get_age())   # Output: 25\n",
    "\n",
    "person.set_age(-5)        # This will print \"Age cannot be negative.\"\n"
   ]
  },
  {
   "cell_type": "markdown",
   "id": "0e6d87f3-ef9a-4ec3-9e40-4c987758409b",
   "metadata": {},
   "source": [
    "Q5.What is method overriding in python? Write a python code to demonstrate method overriding."
   ]
  },
  {
   "cell_type": "code",
   "execution_count": null,
   "id": "4e199092-1c83-48bd-863a-2933903d11aa",
   "metadata": {},
   "outputs": [],
   "source": []
  }
 ],
 "metadata": {
  "kernelspec": {
   "display_name": "Python 3 (ipykernel)",
   "language": "python",
   "name": "python3"
  },
  "language_info": {
   "codemirror_mode": {
    "name": "ipython",
    "version": 3
   },
   "file_extension": ".py",
   "mimetype": "text/x-python",
   "name": "python",
   "nbconvert_exporter": "python",
   "pygments_lexer": "ipython3",
   "version": "3.10.8"
  }
 },
 "nbformat": 4,
 "nbformat_minor": 5
}
