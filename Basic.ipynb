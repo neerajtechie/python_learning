{
 "cells": [
  {
   "cell_type": "code",
   "execution_count": 1,
   "id": "378439c3-5b83-46a8-a20b-50fbdb0e62d8",
   "metadata": {},
   "outputs": [
    {
     "name": "stdout",
     "output_type": "stream",
     "text": [
      "Hi Duniya\n"
     ]
    }
   ],
   "source": [
    "print(\"Hi Duniya\")"
   ]
  },
  {
   "cell_type": "code",
   "execution_count": 2,
   "id": "65e2b590-02a4-4fe9-8aca-2df1d6ad2741",
   "metadata": {},
   "outputs": [],
   "source": [
    "a=600"
   ]
  },
  {
   "cell_type": "code",
   "execution_count": 3,
   "id": "2e4f5697-ba7e-4fb8-aa0d-53be967c463d",
   "metadata": {},
   "outputs": [
    {
     "data": {
      "text/plain": [
       "600"
      ]
     },
     "execution_count": 3,
     "metadata": {},
     "output_type": "execute_result"
    }
   ],
   "source": [
    "a"
   ]
  },
  {
   "cell_type": "code",
   "execution_count": 4,
   "id": "b3ca220a-503d-47e6-87a9-0cf572da1a81",
   "metadata": {},
   "outputs": [
    {
     "data": {
      "text/plain": [
       "int"
      ]
     },
     "execution_count": 4,
     "metadata": {},
     "output_type": "execute_result"
    }
   ],
   "source": [
    "type(a)"
   ]
  },
  {
   "cell_type": "code",
   "execution_count": 5,
   "id": "1448eb76-b8c7-41c5-9909-82b18ca0e2fa",
   "metadata": {},
   "outputs": [],
   "source": [
    "b=4.55"
   ]
  },
  {
   "cell_type": "code",
   "execution_count": 7,
   "id": "1b0d200a-971e-4264-a988-02c4ffd84ce8",
   "metadata": {},
   "outputs": [
    {
     "data": {
      "text/plain": [
       "4.55"
      ]
     },
     "execution_count": 7,
     "metadata": {},
     "output_type": "execute_result"
    }
   ],
   "source": [
    "b"
   ]
  },
  {
   "cell_type": "code",
   "execution_count": 6,
   "id": "bff7ab7c-b9eb-4a5f-a143-2394b5cb9e4e",
   "metadata": {},
   "outputs": [
    {
     "data": {
      "text/plain": [
       "float"
      ]
     },
     "execution_count": 6,
     "metadata": {},
     "output_type": "execute_result"
    }
   ],
   "source": [
    "type(b)"
   ]
  },
  {
   "cell_type": "code",
   "execution_count": 8,
   "id": "292d375c-6e4a-408b-b53e-3d86935c05d4",
   "metadata": {},
   "outputs": [],
   "source": [
    "C=\"Vikrant\""
   ]
  },
  {
   "cell_type": "code",
   "execution_count": 9,
   "id": "050c9dcf-d4fa-4526-8b70-f0e61a386878",
   "metadata": {},
   "outputs": [],
   "source": [
    "C2='Alpan'"
   ]
  },
  {
   "cell_type": "code",
   "execution_count": 11,
   "id": "3edbf5c0-1bb2-42da-976e-0ac2cd695e57",
   "metadata": {},
   "outputs": [
    {
     "data": {
      "text/plain": [
       "str"
      ]
     },
     "execution_count": 11,
     "metadata": {},
     "output_type": "execute_result"
    }
   ],
   "source": [
    "type(C)"
   ]
  },
  {
   "cell_type": "code",
   "execution_count": 13,
   "id": "ed642151-b6e2-4d84-b5f4-3ab515377c6b",
   "metadata": {},
   "outputs": [
    {
     "data": {
      "text/plain": [
       "str"
      ]
     },
     "execution_count": 13,
     "metadata": {},
     "output_type": "execute_result"
    }
   ],
   "source": [
    "type(C2)"
   ]
  },
  {
   "cell_type": "code",
   "execution_count": 15,
   "id": "a97f68a0-bfda-4a9b-9bc7-68ebdc509ea2",
   "metadata": {},
   "outputs": [],
   "source": [
    "d= True"
   ]
  },
  {
   "cell_type": "code",
   "execution_count": 16,
   "id": "40511848-81e0-41ac-b79d-e8dc31ceb591",
   "metadata": {},
   "outputs": [
    {
     "data": {
      "text/plain": [
       "bool"
      ]
     },
     "execution_count": 16,
     "metadata": {},
     "output_type": "execute_result"
    }
   ],
   "source": [
    "type(d)"
   ]
  },
  {
   "cell_type": "code",
   "execution_count": 17,
   "id": "9664b2bc-f7ab-4fb6-becb-05867aac75fa",
   "metadata": {},
   "outputs": [],
   "source": [
    "d2=False"
   ]
  },
  {
   "cell_type": "code",
   "execution_count": 18,
   "id": "b2d36d49-4531-4c1b-b8c5-b60f86d84b91",
   "metadata": {},
   "outputs": [
    {
     "data": {
      "text/plain": [
       "False"
      ]
     },
     "execution_count": 18,
     "metadata": {},
     "output_type": "execute_result"
    }
   ],
   "source": [
    "d2"
   ]
  },
  {
   "cell_type": "code",
   "execution_count": 19,
   "id": "09b30c04-8a9b-4fdc-b093-48c2cebc8103",
   "metadata": {},
   "outputs": [
    {
     "data": {
      "text/plain": [
       "bool"
      ]
     },
     "execution_count": 19,
     "metadata": {},
     "output_type": "execute_result"
    }
   ],
   "source": [
    "type(d2)"
   ]
  },
  {
   "cell_type": "code",
   "execution_count": 20,
   "id": "45e1af88-7fe7-40ae-b2fa-d353809338e0",
   "metadata": {},
   "outputs": [
    {
     "data": {
      "text/plain": [
       "1"
      ]
     },
     "execution_count": 20,
     "metadata": {},
     "output_type": "execute_result"
    }
   ],
   "source": [
    "True-False"
   ]
  },
  {
   "cell_type": "code",
   "execution_count": 21,
   "id": "e7568b95-c2a9-42ac-96ed-68bececbcad3",
   "metadata": {},
   "outputs": [
    {
     "ename": "ZeroDivisionError",
     "evalue": "division by zero",
     "output_type": "error",
     "traceback": [
      "\u001b[0;31m---------------------------------------------------------------------------\u001b[0m",
      "\u001b[0;31mZeroDivisionError\u001b[0m                         Traceback (most recent call last)",
      "Cell \u001b[0;32mIn[21], line 1\u001b[0m\n\u001b[0;32m----> 1\u001b[0m \u001b[38;5;28;43;01mTrue\u001b[39;49;00m\u001b[38;5;241;43m/\u001b[39;49m\u001b[38;5;28;43;01mFalse\u001b[39;49;00m\n",
      "\u001b[0;31mZeroDivisionError\u001b[0m: division by zero"
     ]
    }
   ],
   "source": [
    "True/False"
   ]
  },
  {
   "cell_type": "code",
   "execution_count": 22,
   "id": "149e4863-daf6-4286-bb24-742b4ee2407f",
   "metadata": {},
   "outputs": [],
   "source": [
    "e=5+7j"
   ]
  },
  {
   "cell_type": "code",
   "execution_count": 23,
   "id": "c150163f-9424-4dcc-8c93-35348ab0b147",
   "metadata": {},
   "outputs": [
    {
     "data": {
      "text/plain": [
       "complex"
      ]
     },
     "execution_count": 23,
     "metadata": {},
     "output_type": "execute_result"
    }
   ],
   "source": [
    "type(e)"
   ]
  },
  {
   "cell_type": "code",
   "execution_count": 24,
   "id": "23000d32-c688-4aac-8429-8bac934e1d07",
   "metadata": {},
   "outputs": [
    {
     "data": {
      "text/plain": [
       "(5+7j)"
      ]
     },
     "execution_count": 24,
     "metadata": {},
     "output_type": "execute_result"
    }
   ],
   "source": [
    "e"
   ]
  },
  {
   "cell_type": "code",
   "execution_count": 25,
   "id": "a59ea583-aab7-4270-b7e5-318a97275e55",
   "metadata": {},
   "outputs": [
    {
     "data": {
      "text/plain": [
       "5.0"
      ]
     },
     "execution_count": 25,
     "metadata": {},
     "output_type": "execute_result"
    }
   ],
   "source": [
    "e.real"
   ]
  },
  {
   "cell_type": "code",
   "execution_count": 26,
   "id": "15014b49-db40-4c27-ae4c-9361fe190325",
   "metadata": {},
   "outputs": [
    {
     "data": {
      "text/plain": [
       "' e.real and e.imag This is extracting a imag part of my complex number'"
      ]
     },
     "execution_count": 26,
     "metadata": {},
     "output_type": "execute_result"
    }
   ],
   "source": [
    "\"\"\" e.real and e.imag This is extracting a imag part of my complex number\"\"\""
   ]
  },
  {
   "cell_type": "code",
   "execution_count": 27,
   "id": "1a57ddef-2fa3-452d-8c9e-67432b40d53b",
   "metadata": {},
   "outputs": [
    {
     "data": {
      "text/plain": [
       "7.0"
      ]
     },
     "execution_count": 27,
     "metadata": {},
     "output_type": "execute_result"
    }
   ],
   "source": [
    "e.imag"
   ]
  },
  {
   "cell_type": "code",
   "execution_count": 28,
   "id": "e83ebc93-c3d5-4b01-b904-54153afd2d91",
   "metadata": {},
   "outputs": [],
   "source": [
    "a=10"
   ]
  },
  {
   "cell_type": "code",
   "execution_count": 29,
   "id": "beeb943a-f285-43b0-9e50-8b3d8e40b05f",
   "metadata": {},
   "outputs": [
    {
     "ename": "SyntaxError",
     "evalue": "invalid decimal literal (1925862542.py, line 1)",
     "output_type": "error",
     "traceback": [
      "\u001b[0;36m  Cell \u001b[0;32mIn[29], line 1\u001b[0;36m\u001b[0m\n\u001b[0;31m    1a=12\u001b[0m\n\u001b[0m    ^\u001b[0m\n\u001b[0;31mSyntaxError\u001b[0m\u001b[0;31m:\u001b[0m invalid decimal literal\n"
     ]
    }
   ],
   "source": [
    "1a=12"
   ]
  },
  {
   "cell_type": "code",
   "execution_count": 30,
   "id": "2f638420-6e1b-4124-b019-63b13f23669e",
   "metadata": {},
   "outputs": [],
   "source": [
    "_a=10"
   ]
  },
  {
   "cell_type": "code",
   "execution_count": 31,
   "id": "99e62e19-0b1c-4466-90ff-890acf554fb2",
   "metadata": {},
   "outputs": [],
   "source": [
    "a34_=0"
   ]
  },
  {
   "cell_type": "code",
   "execution_count": 32,
   "id": "bed35a9f-d065-4045-b57e-47c015b7ed85",
   "metadata": {},
   "outputs": [
    {
     "data": {
      "text/plain": [
       "0"
      ]
     },
     "execution_count": 32,
     "metadata": {},
     "output_type": "execute_result"
    }
   ],
   "source": [
    "a34_"
   ]
  },
  {
   "cell_type": "code",
   "execution_count": 33,
   "id": "9c7af03b-e25e-4d75-8f8f-f4abba89c137",
   "metadata": {},
   "outputs": [
    {
     "ename": "SyntaxError",
     "evalue": "cannot assign to literal here. Maybe you meant '==' instead of '='? (2617060450.py, line 1)",
     "output_type": "error",
     "traceback": [
      "\u001b[0;36m  Cell \u001b[0;32mIn[33], line 1\u001b[0;36m\u001b[0m\n\u001b[0;31m    11=10\u001b[0m\n\u001b[0m    ^\u001b[0m\n\u001b[0;31mSyntaxError\u001b[0m\u001b[0;31m:\u001b[0m cannot assign to literal here. Maybe you meant '==' instead of '='?\n"
     ]
    }
   ],
   "source": [
    "11=10"
   ]
  },
  {
   "cell_type": "code",
   "execution_count": 34,
   "id": "751a801f-d4e4-452b-80f7-3e7255e08d1d",
   "metadata": {},
   "outputs": [
    {
     "ename": "SyntaxError",
     "evalue": "invalid syntax. Maybe you meant '==' or ':=' instead of '='? (1778386299.py, line 1)",
     "output_type": "error",
     "traceback": [
      "\u001b[0;36m  Cell \u001b[0;32mIn[34], line 1\u001b[0;36m\u001b[0m\n\u001b[0;31m    @aaa=23\u001b[0m\n\u001b[0m     ^\u001b[0m\n\u001b[0;31mSyntaxError\u001b[0m\u001b[0;31m:\u001b[0m invalid syntax. Maybe you meant '==' or ':=' instead of '='?\n"
     ]
    }
   ],
   "source": [
    "@aaa=23"
   ]
  },
  {
   "cell_type": "code",
   "execution_count": 35,
   "id": "665b62b3-2819-4867-9d11-f4eb767af0f6",
   "metadata": {},
   "outputs": [],
   "source": [
    "#=345"
   ]
  },
  {
   "cell_type": "code",
   "execution_count": 36,
   "id": "96b3b95f-5be2-4e72-92ad-18d47da78396",
   "metadata": {},
   "outputs": [
    {
     "name": "stderr",
     "output_type": "stream",
     "text": [
      "UsageError: Line magic function `%jkjk=5656` not found.\n"
     ]
    }
   ],
   "source": [
    "%jkjk=5656"
   ]
  },
  {
   "cell_type": "code",
   "execution_count": 37,
   "id": "10bcefa6-4e8c-48b5-9e92-047b4992019e",
   "metadata": {},
   "outputs": [],
   "source": [
    "_s=45"
   ]
  },
  {
   "cell_type": "code",
   "execution_count": 38,
   "id": "3afc7ece-316c-4174-bcaf-6796d6a3b7be",
   "metadata": {},
   "outputs": [
    {
     "data": {
      "text/plain": [
       "45"
      ]
     },
     "execution_count": 38,
     "metadata": {},
     "output_type": "execute_result"
    }
   ],
   "source": [
    "_s"
   ]
  },
  {
   "cell_type": "code",
   "execution_count": 39,
   "id": "ffe09fb2-d033-4820-8687-f8ae266525b8",
   "metadata": {},
   "outputs": [],
   "source": [
    "k69=7698"
   ]
  },
  {
   "cell_type": "code",
   "execution_count": 40,
   "id": "9b5b26b0-f27a-4d3c-a050-d590e21eff57",
   "metadata": {},
   "outputs": [
    {
     "data": {
      "text/plain": [
       "7698"
      ]
     },
     "execution_count": 40,
     "metadata": {},
     "output_type": "execute_result"
    }
   ],
   "source": [
    "k69"
   ]
  },
  {
   "cell_type": "code",
   "execution_count": 41,
   "id": "912724be-46c9-40c5-a0f6-291fb6befb17",
   "metadata": {},
   "outputs": [
    {
     "ename": "NameError",
     "evalue": "name 'k' is not defined",
     "output_type": "error",
     "traceback": [
      "\u001b[0;31m---------------------------------------------------------------------------\u001b[0m",
      "\u001b[0;31mNameError\u001b[0m                                 Traceback (most recent call last)",
      "Cell \u001b[0;32mIn[41], line 1\u001b[0m\n\u001b[0;32m----> 1\u001b[0m k\u001b[38;5;241m%\u001b[39m\u001b[38;5;241m=\u001b[39m\u001b[38;5;241m34\u001b[39m\n",
      "\u001b[0;31mNameError\u001b[0m: name 'k' is not defined"
     ]
    }
   ],
   "source": [
    "k%=34"
   ]
  },
  {
   "cell_type": "code",
   "execution_count": 42,
   "id": "38d481c1-14cb-44e8-b17d-03f39a20d469",
   "metadata": {},
   "outputs": [
    {
     "ename": "NameError",
     "evalue": "name 'k' is not defined",
     "output_type": "error",
     "traceback": [
      "\u001b[0;31m---------------------------------------------------------------------------\u001b[0m",
      "\u001b[0;31mNameError\u001b[0m                                 Traceback (most recent call last)",
      "Cell \u001b[0;32mIn[42], line 1\u001b[0m\n\u001b[0;32m----> 1\u001b[0m k\u001b[38;5;241m&\u001b[39m\u001b[38;5;241m=\u001b[39m\u001b[38;5;241m7\u001b[39m\n",
      "\u001b[0;31mNameError\u001b[0m: name 'k' is not defined"
     ]
    }
   ],
   "source": [
    "k&=7"
   ]
  },
  {
   "cell_type": "code",
   "execution_count": 43,
   "id": "33a7b13a-6311-40eb-bee9-d82d26b714cb",
   "metadata": {},
   "outputs": [],
   "source": [
    "nilesh=420"
   ]
  },
  {
   "cell_type": "code",
   "execution_count": 44,
   "id": "9e4e7b49-8239-447f-bf93-91193fff5bae",
   "metadata": {},
   "outputs": [
    {
     "data": {
      "text/plain": [
       "420"
      ]
     },
     "execution_count": 44,
     "metadata": {},
     "output_type": "execute_result"
    }
   ],
   "source": [
    "nilesh"
   ]
  },
  {
   "cell_type": "code",
   "execution_count": 45,
   "id": "03e27b6b-ca39-4a25-9447-aa6afdfbf734",
   "metadata": {},
   "outputs": [
    {
     "data": {
      "text/plain": [
       "'20Neeraj'"
      ]
     },
     "execution_count": 45,
     "metadata": {},
     "output_type": "execute_result"
    }
   ],
   "source": [
    "a=\"Neeraj\"\n",
    "b=20\n",
    "str(b)+a"
   ]
  },
  {
   "cell_type": "code",
   "execution_count": 46,
   "id": "73713fe3-bee2-469b-ae04-de410e31b33d",
   "metadata": {},
   "outputs": [
    {
     "name": "stdin",
     "output_type": "stream",
     "text": [
      " 7698537046\n"
     ]
    }
   ],
   "source": [
    "b=input()"
   ]
  },
  {
   "cell_type": "code",
   "execution_count": 47,
   "id": "163802c6-c5d7-4ab0-a908-4354fa12d1be",
   "metadata": {},
   "outputs": [
    {
     "data": {
      "text/plain": [
       "'7698537046'"
      ]
     },
     "execution_count": 47,
     "metadata": {},
     "output_type": "execute_result"
    }
   ],
   "source": [
    "b"
   ]
  },
  {
   "cell_type": "code",
   "execution_count": 48,
   "id": "3aacd2a6-4231-49db-ad3a-57871f7631d2",
   "metadata": {},
   "outputs": [
    {
     "data": {
      "text/plain": [
       "str"
      ]
     },
     "execution_count": 48,
     "metadata": {},
     "output_type": "execute_result"
    }
   ],
   "source": [
    "type(b)"
   ]
  },
  {
   "cell_type": "code",
   "execution_count": 49,
   "id": "9f34a5d6-926e-433d-bd3d-5e7a934b8984",
   "metadata": {},
   "outputs": [
    {
     "name": "stdin",
     "output_type": "stream",
     "text": [
      " 77599958\n"
     ]
    }
   ],
   "source": [
    "c=int(input())"
   ]
  },
  {
   "cell_type": "code",
   "execution_count": 50,
   "id": "44f9294f-81f1-4ede-8b1f-74d4372b0a7d",
   "metadata": {},
   "outputs": [
    {
     "data": {
      "text/plain": [
       "int"
      ]
     },
     "execution_count": 50,
     "metadata": {},
     "output_type": "execute_result"
    }
   ],
   "source": [
    "type(c)"
   ]
  },
  {
   "cell_type": "code",
   "execution_count": null,
   "id": "95bde4b4-5bd9-4087-b4a3-12a33090ba09",
   "metadata": {},
   "outputs": [],
   "source": []
  }
 ],
 "metadata": {
  "kernelspec": {
   "display_name": "Python 3 (ipykernel)",
   "language": "python",
   "name": "python3"
  },
  "language_info": {
   "codemirror_mode": {
    "name": "ipython",
    "version": 3
   },
   "file_extension": ".py",
   "mimetype": "text/x-python",
   "name": "python",
   "nbconvert_exporter": "python",
   "pygments_lexer": "ipython3",
   "version": "3.10.8"
  }
 },
 "nbformat": 4,
 "nbformat_minor": 5
}
